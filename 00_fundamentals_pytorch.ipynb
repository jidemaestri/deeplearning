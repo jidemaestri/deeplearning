{
  "nbformat": 4,
  "nbformat_minor": 0,
  "metadata": {
    "colab": {
      "provenance": [],
      "gpuType": "T4",
      "authorship_tag": "ABX9TyNT8DQak+7et0Fjr9vt9Mmz"
    },
    "kernelspec": {
      "name": "python3",
      "display_name": "Python 3"
    },
    "language_info": {
      "name": "python"
    },
    "accelerator": "GPU"
  },
  "cells": [
    {
      "cell_type": "markdown",
      "source": [
        "## Pytorch Fundamentals"
      ],
      "metadata": {
        "id": "Qh5tz4BD2NO3"
      }
    },
    {
      "cell_type": "code",
      "execution_count": null,
      "metadata": {
        "colab": {
          "base_uri": "https://localhost:8080/"
        },
        "id": "UVVSNSv__M1h",
        "outputId": "7b50af57-00ea-4e08-dfb4-b2459d7464e9"
      },
      "outputs": [
        {
          "output_type": "stream",
          "name": "stdout",
          "text": [
            "Mon Oct  2 12:44:47 2023       \n",
            "+-----------------------------------------------------------------------------+\n",
            "| NVIDIA-SMI 525.105.17   Driver Version: 525.105.17   CUDA Version: 12.0     |\n",
            "|-------------------------------+----------------------+----------------------+\n",
            "| GPU  Name        Persistence-M| Bus-Id        Disp.A | Volatile Uncorr. ECC |\n",
            "| Fan  Temp  Perf  Pwr:Usage/Cap|         Memory-Usage | GPU-Util  Compute M. |\n",
            "|                               |                      |               MIG M. |\n",
            "|===============================+======================+======================|\n",
            "|   0  Tesla T4            Off  | 00000000:00:04.0 Off |                    0 |\n",
            "| N/A   35C    P8     9W /  70W |      0MiB / 15360MiB |      0%      Default |\n",
            "|                               |                      |                  N/A |\n",
            "+-------------------------------+----------------------+----------------------+\n",
            "                                                                               \n",
            "+-----------------------------------------------------------------------------+\n",
            "| Processes:                                                                  |\n",
            "|  GPU   GI   CI        PID   Type   Process name                  GPU Memory |\n",
            "|        ID   ID                                                   Usage      |\n",
            "|=============================================================================|\n",
            "|  No running processes found                                                 |\n",
            "+-----------------------------------------------------------------------------+\n"
          ]
        }
      ],
      "source": [
        "!nvidia-smi"
      ]
    },
    {
      "cell_type": "code",
      "source": [
        "import torch\n",
        "import pandas as pd\n",
        "import numpy as np\n",
        "import matplotlib.pyplot as plt\n",
        "print (torch.__version__)"
      ],
      "metadata": {
        "colab": {
          "base_uri": "https://localhost:8080/"
        },
        "id": "LtOUsS3zmdij",
        "outputId": "e5f90dc7-1bf5-4369-b529-f4809a8c4d61"
      },
      "execution_count": null,
      "outputs": [
        {
          "output_type": "stream",
          "name": "stdout",
          "text": [
            "2.0.1+cu118\n"
          ]
        }
      ]
    },
    {
      "cell_type": "markdown",
      "source": [
        "### Introduction to Tensors"
      ],
      "metadata": {
        "id": "n0Rv1SINoEmB"
      }
    },
    {
      "cell_type": "code",
      "source": [
        "### Introduction to Tensors"
      ],
      "metadata": {
        "id": "ODEsf-2foCUu"
      },
      "execution_count": null,
      "outputs": []
    },
    {
      "cell_type": "code",
      "source": [
        "from IPython.display import Image\n",
        "\n",
        "Image(url='https://hkilter.com/images/7/7a/Tensors.png')\n"
      ],
      "metadata": {
        "colab": {
          "base_uri": "https://localhost:8080/"
        },
        "id": "zB8JJbbupg7Z",
        "outputId": "7590c56c-1200-4259-bc79-525442ea85dd"
      },
      "execution_count": null,
      "outputs": [
        {
          "output_type": "execute_result",
          "data": {
            "text/html": [
              "<img src=\"https://hkilter.com/images/7/7a/Tensors.png\"/>"
            ],
            "text/plain": [
              "<IPython.core.display.Image object>"
            ]
          },
          "metadata": {},
          "execution_count": 4
        }
      ]
    },
    {
      "cell_type": "code",
      "source": [
        "\n",
        "# Crear un tensor de números aleatorios\n",
        "tensor_aleatorio = torch.rand(3, 3)\n",
        "print(tensor_aleatorio, \"Tensor Dimension: \", tensor_aleatorio.shape)\n"
      ],
      "metadata": {
        "colab": {
          "base_uri": "https://localhost:8080/"
        },
        "id": "-FDmM2TJmtT_",
        "outputId": "164ac450-876c-4b20-81e0-1f0f0be53c23"
      },
      "execution_count": null,
      "outputs": [
        {
          "output_type": "stream",
          "name": "stdout",
          "text": [
            "tensor([[0.6572, 0.6981, 0.4656],\n",
            "        [0.5861, 0.3255, 0.3204],\n",
            "        [0.5287, 0.2518, 0.1932]]) Tensor Dimension:  torch.Size([3, 3])\n"
          ]
        }
      ]
    },
    {
      "cell_type": "markdown",
      "source": [
        "Grado de un Tensor: Los tensores se clasifican según su grado o número de índices. Un tensor de grado 0 es un escalar, un tensor de grado 1 es un vector, un tensor de grado 2 es una matriz, y así sucesivamente. Los tensores de grado superior se representan mediante una serie de índices."
      ],
      "metadata": {
        "id": "Xisx27PHorvn"
      }
    },
    {
      "cell_type": "code",
      "source": [
        "MATRIX = torch.tensor([[7,8],\n",
        "                       [9,10]])"
      ],
      "metadata": {
        "id": "rVavbfoNoRrp"
      },
      "execution_count": null,
      "outputs": []
    },
    {
      "cell_type": "code",
      "source": [
        "MATRIX.ndim"
      ],
      "metadata": {
        "colab": {
          "base_uri": "https://localhost:8080/"
        },
        "id": "7jEjRM5nqJ1t",
        "outputId": "b22691ea-bebd-4790-e646-fc0cf0555046"
      },
      "execution_count": null,
      "outputs": [
        {
          "output_type": "execute_result",
          "data": {
            "text/plain": [
              "2"
            ]
          },
          "metadata": {},
          "execution_count": 7
        }
      ]
    },
    {
      "cell_type": "code",
      "source": [
        "MATRIX"
      ],
      "metadata": {
        "colab": {
          "base_uri": "https://localhost:8080/"
        },
        "id": "DU-wRuWFqK5U",
        "outputId": "27740fd4-a3bf-43a6-ba2d-8d602977a947"
      },
      "execution_count": null,
      "outputs": [
        {
          "output_type": "execute_result",
          "data": {
            "text/plain": [
              "tensor([[ 7,  8],\n",
              "        [ 9, 10]])"
            ]
          },
          "metadata": {},
          "execution_count": 8
        }
      ]
    },
    {
      "cell_type": "code",
      "source": [
        "# TENSOR\n",
        "\n",
        "TENSOR = torch.tensor([[[1,2,3],\n",
        "                       [4,5,6],\n",
        "                       [7,8,9]]])\n",
        "\n",
        "TENSOR"
      ],
      "metadata": {
        "colab": {
          "base_uri": "https://localhost:8080/"
        },
        "id": "maaJeTE5qMod",
        "outputId": "af4feef8-90fd-470e-c78b-f86416317ced"
      },
      "execution_count": null,
      "outputs": [
        {
          "output_type": "execute_result",
          "data": {
            "text/plain": [
              "tensor([[[1, 2, 3],\n",
              "         [4, 5, 6],\n",
              "         [7, 8, 9]]])"
            ]
          },
          "metadata": {},
          "execution_count": 9
        }
      ]
    },
    {
      "cell_type": "code",
      "source": [
        "TENSOR.ndim"
      ],
      "metadata": {
        "colab": {
          "base_uri": "https://localhost:8080/"
        },
        "id": "edpOQwN0qa3r",
        "outputId": "5ad00b31-3957-4834-fbc4-67c64cf53dcb"
      },
      "execution_count": null,
      "outputs": [
        {
          "output_type": "execute_result",
          "data": {
            "text/plain": [
              "3"
            ]
          },
          "metadata": {},
          "execution_count": 10
        }
      ]
    },
    {
      "cell_type": "code",
      "source": [
        "TENSOR.shape"
      ],
      "metadata": {
        "colab": {
          "base_uri": "https://localhost:8080/"
        },
        "id": "ONIiffCMqddd",
        "outputId": "38284a31-74bf-4848-e94c-807f29cb8d4d"
      },
      "execution_count": null,
      "outputs": [
        {
          "output_type": "execute_result",
          "data": {
            "text/plain": [
              "torch.Size([1, 3, 3])"
            ]
          },
          "metadata": {},
          "execution_count": 11
        }
      ]
    },
    {
      "cell_type": "code",
      "source": [
        "TENSOR[0] # --- equals to the 0 value in TENSOR.shape (ndim=1)"
      ],
      "metadata": {
        "colab": {
          "base_uri": "https://localhost:8080/"
        },
        "id": "8SrZsAUBqhw6",
        "outputId": "e32011f0-84fe-42e8-a1e8-75c70a9e91a5"
      },
      "execution_count": null,
      "outputs": [
        {
          "output_type": "execute_result",
          "data": {
            "text/plain": [
              "tensor([[1, 2, 3],\n",
              "        [4, 5, 6],\n",
              "        [7, 8, 9]])"
            ]
          },
          "metadata": {},
          "execution_count": 12
        }
      ]
    },
    {
      "cell_type": "code",
      "source": [
        "Image(url='https://githubraw.cdn.bcebos.com/PaddlePaddle/FluidDoc/develop/doc/paddle/guides/images/Tensor_2.0.png?raw=true')"
      ],
      "metadata": {
        "colab": {
          "base_uri": "https://localhost:8080/",
          "height": 645
        },
        "id": "4sb4TfMhqr8J",
        "outputId": "bbf34ef4-cee7-4158-e9b2-a74bf00ccfec"
      },
      "execution_count": null,
      "outputs": [
        {
          "output_type": "execute_result",
          "data": {
            "text/html": [
              "<img src=\"https://githubraw.cdn.bcebos.com/PaddlePaddle/FluidDoc/develop/doc/paddle/guides/images/Tensor_2.0.png?raw=true\"/>"
            ],
            "text/plain": [
              "<IPython.core.display.Image object>"
            ]
          },
          "metadata": {},
          "execution_count": 13
        }
      ]
    },
    {
      "cell_type": "code",
      "source": [
        "sample_3d_tensor = torch.rand(2,2,5)"
      ],
      "metadata": {
        "id": "X8aKzO37raWX"
      },
      "execution_count": null,
      "outputs": []
    },
    {
      "cell_type": "code",
      "source": [
        "sample_3d_tensor.shape"
      ],
      "metadata": {
        "colab": {
          "base_uri": "https://localhost:8080/"
        },
        "id": "-RUtxHycsMLU",
        "outputId": "309281d4-a678-4f1f-ddb5-947c20ee50c4"
      },
      "execution_count": null,
      "outputs": [
        {
          "output_type": "execute_result",
          "data": {
            "text/plain": [
              "torch.Size([2, 2, 5])"
            ]
          },
          "metadata": {},
          "execution_count": 15
        }
      ]
    },
    {
      "cell_type": "code",
      "source": [
        "sample_3d_tensor"
      ],
      "metadata": {
        "colab": {
          "base_uri": "https://localhost:8080/"
        },
        "id": "j68xg4EVsaFd",
        "outputId": "27fb9156-f07a-4a3f-f4f5-2e51e2931420"
      },
      "execution_count": null,
      "outputs": [
        {
          "output_type": "execute_result",
          "data": {
            "text/plain": [
              "tensor([[[0.0114, 0.3465, 0.4174, 0.5127, 0.0846],\n",
              "         [0.2189, 0.5294, 0.8817, 0.8037, 0.5182]],\n",
              "\n",
              "        [[0.4639, 0.0963, 0.5740, 0.3827, 0.0792],\n",
              "         [0.3128, 0.2602, 0.1547, 0.8258, 0.6522]]])"
            ]
          },
          "metadata": {},
          "execution_count": 16
        }
      ]
    },
    {
      "cell_type": "code",
      "source": [
        " Image(url='https://image.slidesharecdn.com/tensordecomposition-170301235239/95/a-brief-survey-of-tensors-5-638.jpg')"
      ],
      "metadata": {
        "colab": {
          "base_uri": "https://localhost:8080/",
          "height": 520
        },
        "id": "5Tr4ImSZsaT4",
        "outputId": "427c3f14-89d0-41cd-f56d-5fb3efd6b780"
      },
      "execution_count": null,
      "outputs": [
        {
          "output_type": "execute_result",
          "data": {
            "text/html": [
              "<img src=\"https://image.slidesharecdn.com/tensordecomposition-170301235239/95/a-brief-survey-of-tensors-5-638.jpg\"/>"
            ],
            "text/plain": [
              "<IPython.core.display.Image object>"
            ]
          },
          "metadata": {},
          "execution_count": 17
        }
      ]
    },
    {
      "cell_type": "markdown",
      "source": [
        "### Manipulating Tensors"
      ],
      "metadata": {
        "id": "Ktr-rZNM28RP"
      }
    },
    {
      "cell_type": "code",
      "source": [
        "tensor_1 = torch.tensor([1,2,3])"
      ],
      "metadata": {
        "id": "2WxYAbW-tpBQ"
      },
      "execution_count": null,
      "outputs": []
    },
    {
      "cell_type": "code",
      "source": [
        "tensor_2 = torch.tensor([4,5,6])"
      ],
      "metadata": {
        "id": "ZcPitkiR3Jm7"
      },
      "execution_count": null,
      "outputs": []
    },
    {
      "cell_type": "code",
      "source": [
        "tensor_1 + 10"
      ],
      "metadata": {
        "colab": {
          "base_uri": "https://localhost:8080/"
        },
        "id": "NeY1Mqg13LWQ",
        "outputId": "cd92b449-5173-41b6-c0b7-1a68f0b7e7ea"
      },
      "execution_count": null,
      "outputs": [
        {
          "output_type": "execute_result",
          "data": {
            "text/plain": [
              "tensor([11, 12, 13])"
            ]
          },
          "metadata": {},
          "execution_count": 20
        }
      ]
    },
    {
      "cell_type": "code",
      "source": [
        "tensor_1 ** 2"
      ],
      "metadata": {
        "colab": {
          "base_uri": "https://localhost:8080/"
        },
        "id": "TAt8_gS33NUq",
        "outputId": "63ad0cdb-d21a-4799-e92f-bdef65ef2bdc"
      },
      "execution_count": null,
      "outputs": [
        {
          "output_type": "execute_result",
          "data": {
            "text/plain": [
              "tensor([1, 4, 9])"
            ]
          },
          "metadata": {},
          "execution_count": 21
        }
      ]
    },
    {
      "cell_type": "code",
      "source": [
        "torch.mul(tensor_1,10)"
      ],
      "metadata": {
        "colab": {
          "base_uri": "https://localhost:8080/"
        },
        "id": "d6LQQAWf3PsS",
        "outputId": "d212ac90-6b1b-482b-f267-317bb94a8af1"
      },
      "execution_count": null,
      "outputs": [
        {
          "output_type": "execute_result",
          "data": {
            "text/plain": [
              "tensor([10, 20, 30])"
            ]
          },
          "metadata": {},
          "execution_count": 22
        }
      ]
    },
    {
      "cell_type": "markdown",
      "source": [
        "### Matrix multiplication"
      ],
      "metadata": {
        "id": "fIDEOf2p36Sv"
      }
    },
    {
      "cell_type": "markdown",
      "source": [
        "#### Dot Product"
      ],
      "metadata": {
        "id": "IZkk9qGjDJAS"
      }
    },
    {
      "cell_type": "code",
      "source": [
        "Image(url=\"https://www.mathsisfun.com/algebra/images/matrix-multiply-a.svg\")"
      ],
      "metadata": {
        "colab": {
          "base_uri": "https://localhost:8080/",
          "height": 143
        },
        "id": "Ob_Wiz7y3jkx",
        "outputId": "bf1e1c5e-f53b-4377-b202-eda2781dd7d2"
      },
      "execution_count": null,
      "outputs": [
        {
          "output_type": "execute_result",
          "data": {
            "text/html": [
              "<img src=\"https://www.mathsisfun.com/algebra/images/matrix-multiply-a.svg\"/>"
            ],
            "text/plain": [
              "<IPython.core.display.Image object>"
            ]
          },
          "metadata": {},
          "execution_count": 23
        }
      ]
    },
    {
      "cell_type": "code",
      "source": [
        "Image(url=\"https://mkang32.github.io/images/python/khan_academy_matrix_product.png\")"
      ],
      "metadata": {
        "colab": {
          "base_uri": "https://localhost:8080/",
          "height": 199
        },
        "id": "fWfum5eU4bqG",
        "outputId": "84e74ce4-255a-4006-8bcc-f5753595b155"
      },
      "execution_count": null,
      "outputs": [
        {
          "output_type": "execute_result",
          "data": {
            "text/html": [
              "<img src=\"https://mkang32.github.io/images/python/khan_academy_matrix_product.png\"/>"
            ],
            "text/plain": [
              "<IPython.core.display.Image object>"
            ]
          },
          "metadata": {},
          "execution_count": 24
        }
      ]
    },
    {
      "cell_type": "code",
      "source": [
        "Image(url='https://dcvp84mxptlac.cloudfront.net/diagrams2/formula-1-2x2-matrix-multiplication-formula.jpg')"
      ],
      "metadata": {
        "colab": {
          "base_uri": "https://localhost:8080/",
          "height": 275
        },
        "id": "K4UiHHko4_lp",
        "outputId": "e83de84f-4b07-4f0d-948a-287aec4f084d"
      },
      "execution_count": null,
      "outputs": [
        {
          "output_type": "execute_result",
          "data": {
            "text/html": [
              "<img src=\"https://dcvp84mxptlac.cloudfront.net/diagrams2/formula-1-2x2-matrix-multiplication-formula.jpg\"/>"
            ],
            "text/plain": [
              "<IPython.core.display.Image object>"
            ]
          },
          "metadata": {},
          "execution_count": 25
        }
      ]
    },
    {
      "cell_type": "markdown",
      "source": [
        "1 - **Inner dimension** must match:\n",
        "\n",
        "* (3,2) @ (3,2) won't work\n",
        "* (3,2) @ (2,3) will work\n",
        "* (2,3) @ (3,2) will work\n",
        "\n",
        "2 - The dimension of the output will be the previous **Outer dimensions**\n",
        "\n",
        "* (3,2) @ (2,3) -- shape(3,3)\n",
        "* (2,3) @ (3,2) -- shape(2,2)\n",
        "* (4,3) @ (3,2) -- shape(4,2)\n"
      ],
      "metadata": {
        "id": "939Mw86aFv-H"
      }
    },
    {
      "cell_type": "code",
      "source": [
        "torch.matmul(torch.rand(3,2), torch.rand(2,3))"
      ],
      "metadata": {
        "colab": {
          "base_uri": "https://localhost:8080/"
        },
        "id": "Opl5r8u4FSUF",
        "outputId": "d1c5b8f1-f1fe-48af-a7b2-948e25195497"
      },
      "execution_count": null,
      "outputs": [
        {
          "output_type": "execute_result",
          "data": {
            "text/plain": [
              "tensor([[0.5996, 0.3298, 1.0301],\n",
              "        [0.4940, 0.2361, 0.9493],\n",
              "        [0.6392, 0.3952, 0.9748]])"
            ]
          },
          "metadata": {},
          "execution_count": 26
        }
      ]
    },
    {
      "cell_type": "code",
      "source": [
        "torch.matmul(torch.rand(4,3), torch.rand(3,2))"
      ],
      "metadata": {
        "colab": {
          "base_uri": "https://localhost:8080/"
        },
        "id": "a65rvPbgGGHO",
        "outputId": "c0832260-292b-48cf-b4f6-20a892d84068"
      },
      "execution_count": null,
      "outputs": [
        {
          "output_type": "execute_result",
          "data": {
            "text/plain": [
              "tensor([[1.6765, 1.0346],\n",
              "        [0.6786, 0.5214],\n",
              "        [0.8535, 0.5617],\n",
              "        [1.1178, 0.6482]])"
            ]
          },
          "metadata": {},
          "execution_count": 27
        }
      ]
    },
    {
      "cell_type": "code",
      "source": [],
      "metadata": {
        "id": "btdXxb1bG3Nb"
      },
      "execution_count": null,
      "outputs": []
    },
    {
      "cell_type": "markdown",
      "source": [
        "#### Tensor aggregation"
      ],
      "metadata": {
        "id": "ME0W3BtU7My5"
      }
    },
    {
      "cell_type": "code",
      "source": [
        "x = torch.arange(0,100,5)"
      ],
      "metadata": {
        "id": "mCfmAxuy7OgN"
      },
      "execution_count": null,
      "outputs": []
    },
    {
      "cell_type": "code",
      "source": [
        "x.shape"
      ],
      "metadata": {
        "colab": {
          "base_uri": "https://localhost:8080/"
        },
        "id": "zgyCKlG47Vkm",
        "outputId": "7f5a03b7-0b54-4760-d969-bddd12d04aed"
      },
      "execution_count": null,
      "outputs": [
        {
          "output_type": "execute_result",
          "data": {
            "text/plain": [
              "torch.Size([20])"
            ]
          },
          "metadata": {},
          "execution_count": 29
        }
      ]
    },
    {
      "cell_type": "code",
      "source": [
        "#Finding Min and Max\n",
        "\n",
        "torch.min(x), x.min()"
      ],
      "metadata": {
        "colab": {
          "base_uri": "https://localhost:8080/"
        },
        "id": "u1s9qv117V5w",
        "outputId": "84fcf49f-d5d2-45f9-beb5-7dd0ae8dc529"
      },
      "execution_count": null,
      "outputs": [
        {
          "output_type": "execute_result",
          "data": {
            "text/plain": [
              "(tensor(0), tensor(0))"
            ]
          },
          "metadata": {},
          "execution_count": 30
        }
      ]
    },
    {
      "cell_type": "code",
      "source": [
        "torch.max(x), x.max()"
      ],
      "metadata": {
        "colab": {
          "base_uri": "https://localhost:8080/"
        },
        "id": "XVh4cmo07duF",
        "outputId": "a7c6eff7-6ae4-4ee9-a3cd-191cdbe3c454"
      },
      "execution_count": null,
      "outputs": [
        {
          "output_type": "execute_result",
          "data": {
            "text/plain": [
              "(tensor(95), tensor(95))"
            ]
          },
          "metadata": {},
          "execution_count": 31
        }
      ]
    },
    {
      "cell_type": "code",
      "source": [
        "#Finding the mean\n",
        "torch.mean(x.type(torch.float32))         #It must be long type, it can't be int type"
      ],
      "metadata": {
        "colab": {
          "base_uri": "https://localhost:8080/"
        },
        "id": "-3qqQ57r7hkV",
        "outputId": "96c4abeb-f504-4ef1-c839-a217a1f261fe"
      },
      "execution_count": null,
      "outputs": [
        {
          "output_type": "execute_result",
          "data": {
            "text/plain": [
              "tensor(47.5000)"
            ]
          },
          "metadata": {},
          "execution_count": 32
        }
      ]
    },
    {
      "cell_type": "code",
      "source": [
        "#finding the Sum\n",
        "\n",
        "torch.sum(x)"
      ],
      "metadata": {
        "colab": {
          "base_uri": "https://localhost:8080/"
        },
        "id": "pAwNNQB68DJc",
        "outputId": "e6a9dd01-62e1-452a-f0dc-ec7481f453f3"
      },
      "execution_count": null,
      "outputs": [
        {
          "output_type": "execute_result",
          "data": {
            "text/plain": [
              "tensor(950)"
            ]
          },
          "metadata": {},
          "execution_count": 33
        }
      ]
    },
    {
      "cell_type": "markdown",
      "source": [
        "##### Reshaping"
      ],
      "metadata": {
        "id": "zJFPhDIg8qiA"
      }
    },
    {
      "cell_type": "code",
      "source": [
        "x.shape"
      ],
      "metadata": {
        "colab": {
          "base_uri": "https://localhost:8080/"
        },
        "id": "DytuT7uR8e3X",
        "outputId": "6e320c00-15bd-402c-fd10-e9d940597f71"
      },
      "execution_count": null,
      "outputs": [
        {
          "output_type": "execute_result",
          "data": {
            "text/plain": [
              "torch.Size([20])"
            ]
          },
          "metadata": {},
          "execution_count": 34
        }
      ]
    },
    {
      "cell_type": "code",
      "source": [
        "x_reshaped = x.reshape(2, 10)"
      ],
      "metadata": {
        "id": "T0HCiG_Y9mq9"
      },
      "execution_count": null,
      "outputs": []
    },
    {
      "cell_type": "code",
      "source": [
        "x_reshaped"
      ],
      "metadata": {
        "colab": {
          "base_uri": "https://localhost:8080/"
        },
        "id": "HvIpSj8M9r9h",
        "outputId": "73851563-93e9-4d82-d98b-00cd0a948c21"
      },
      "execution_count": null,
      "outputs": [
        {
          "output_type": "execute_result",
          "data": {
            "text/plain": [
              "tensor([[ 0,  5, 10, 15, 20, 25, 30, 35, 40, 45],\n",
              "        [50, 55, 60, 65, 70, 75, 80, 85, 90, 95]])"
            ]
          },
          "metadata": {},
          "execution_count": 36
        }
      ]
    },
    {
      "cell_type": "code",
      "source": [
        "x_reshaped_2 = x.reshape(5,2,2)\n",
        "x_reshaped_2"
      ],
      "metadata": {
        "colab": {
          "base_uri": "https://localhost:8080/"
        },
        "id": "gzYr5b2e9s-k",
        "outputId": "190c8640-472e-48b0-beaf-b96c711b12d5"
      },
      "execution_count": null,
      "outputs": [
        {
          "output_type": "execute_result",
          "data": {
            "text/plain": [
              "tensor([[[ 0,  5],\n",
              "         [10, 15]],\n",
              "\n",
              "        [[20, 25],\n",
              "         [30, 35]],\n",
              "\n",
              "        [[40, 45],\n",
              "         [50, 55]],\n",
              "\n",
              "        [[60, 65],\n",
              "         [70, 75]],\n",
              "\n",
              "        [[80, 85],\n",
              "         [90, 95]]])"
            ]
          },
          "metadata": {},
          "execution_count": 37
        }
      ]
    },
    {
      "cell_type": "code",
      "source": [
        "# changing the view\n",
        "\n",
        "z = x.view(2,5,2)"
      ],
      "metadata": {
        "id": "4aaM27Qa90L9"
      },
      "execution_count": null,
      "outputs": []
    },
    {
      "cell_type": "code",
      "source": [
        "z, z.shape"
      ],
      "metadata": {
        "colab": {
          "base_uri": "https://localhost:8080/"
        },
        "id": "o3ygknka-HFn",
        "outputId": "d445b002-63a9-4da2-a2cb-aba761d00dd2"
      },
      "execution_count": null,
      "outputs": [
        {
          "output_type": "execute_result",
          "data": {
            "text/plain": [
              "(tensor([[[ 0,  5],\n",
              "          [10, 15],\n",
              "          [20, 25],\n",
              "          [30, 35],\n",
              "          [40, 45]],\n",
              " \n",
              "         [[50, 55],\n",
              "          [60, 65],\n",
              "          [70, 75],\n",
              "          [80, 85],\n",
              "          [90, 95]]]),\n",
              " torch.Size([2, 5, 2]))"
            ]
          },
          "metadata": {},
          "execution_count": 39
        }
      ]
    },
    {
      "cell_type": "markdown",
      "source": [
        "##### Squeeze"
      ],
      "metadata": {
        "id": "wsBQEyY2_4w6"
      }
    },
    {
      "cell_type": "code",
      "source": [
        "Image(url=\"https://static.packt-cdn.com/products/9781788834131/graphics/Images/B09475_01_20.jpg\")"
      ],
      "metadata": {
        "colab": {
          "base_uri": "https://localhost:8080/"
        },
        "id": "3ma-7juf_679",
        "outputId": "3910a2ab-3bff-4bac-d123-1af1572efaaf"
      },
      "execution_count": null,
      "outputs": [
        {
          "output_type": "execute_result",
          "data": {
            "text/html": [
              "<img src=\"https://static.packt-cdn.com/products/9781788834131/graphics/Images/B09475_01_20.jpg\"/>"
            ],
            "text/plain": [
              "<IPython.core.display.Image object>"
            ]
          },
          "metadata": {},
          "execution_count": 40
        }
      ]
    },
    {
      "cell_type": "markdown",
      "source": [
        "* The squeeze function in PyTorch is used to remove dimensions with a size of 1 from a tensor. This is mainly done to adjust the tensor's shape before performing specific operations or to prepare data for neural network models that require a particular shape.\n",
        "\n",
        "* The unsqueeze function in PyTorch is the opposite of squeeze. It is used to add dimensions with a size of 1 to a tensor. This can be helpful when you need to adjust the shape of a tensor to make it compatible with certain operations or when you want to prepare data for neural network models that expect a specific input shape.\n",
        "\n",
        "\n",
        "\n",
        "\n"
      ],
      "metadata": {
        "id": "0P6i4ujjAb2A"
      }
    },
    {
      "cell_type": "code",
      "source": [
        "# squeeze\n",
        "\n",
        "x.shape"
      ],
      "metadata": {
        "colab": {
          "base_uri": "https://localhost:8080/"
        },
        "id": "xlrNY_Ev-KLj",
        "outputId": "a6da6dec-11ac-4355-99c9-c21aed374d58"
      },
      "execution_count": null,
      "outputs": [
        {
          "output_type": "execute_result",
          "data": {
            "text/plain": [
              "torch.Size([20])"
            ]
          },
          "metadata": {},
          "execution_count": 41
        }
      ]
    },
    {
      "cell_type": "code",
      "source": [
        "x_reshaped_dim1 = x.reshape(1,20)"
      ],
      "metadata": {
        "id": "g1GfmKYn-nYg"
      },
      "execution_count": null,
      "outputs": []
    },
    {
      "cell_type": "code",
      "source": [
        "x_reshaped_dim1, x_reshaped_dim1.shape"
      ],
      "metadata": {
        "colab": {
          "base_uri": "https://localhost:8080/"
        },
        "id": "qBhk3kv__WBk",
        "outputId": "266341b9-4228-4dff-9f82-c20813102ca5"
      },
      "execution_count": null,
      "outputs": [
        {
          "output_type": "execute_result",
          "data": {
            "text/plain": [
              "(tensor([[ 0,  5, 10, 15, 20, 25, 30, 35, 40, 45, 50, 55, 60, 65, 70, 75, 80, 85,\n",
              "          90, 95]]),\n",
              " torch.Size([1, 20]))"
            ]
          },
          "metadata": {},
          "execution_count": 43
        }
      ]
    },
    {
      "cell_type": "code",
      "source": [
        "x_squeezed = x_reshaped_dim1.squeeze()"
      ],
      "metadata": {
        "id": "jONj66Ki_akX"
      },
      "execution_count": null,
      "outputs": []
    },
    {
      "cell_type": "code",
      "source": [
        "x_squeezed, x_squeezed.shape #dim=1 was deleted"
      ],
      "metadata": {
        "colab": {
          "base_uri": "https://localhost:8080/"
        },
        "id": "RJG8QsKD_h2E",
        "outputId": "5bcb16b2-5f7f-48b1-8042-554dc71209b7"
      },
      "execution_count": null,
      "outputs": [
        {
          "output_type": "execute_result",
          "data": {
            "text/plain": [
              "(tensor([ 0,  5, 10, 15, 20, 25, 30, 35, 40, 45, 50, 55, 60, 65, 70, 75, 80, 85,\n",
              "         90, 95]),\n",
              " torch.Size([20]))"
            ]
          },
          "metadata": {},
          "execution_count": 45
        }
      ]
    },
    {
      "cell_type": "code",
      "source": [
        "x_normal = x_squeezed.unsqueeze(dim=0)"
      ],
      "metadata": {
        "id": "NSV3VRdE_xke"
      },
      "execution_count": null,
      "outputs": []
    },
    {
      "cell_type": "code",
      "source": [
        "x_normal.shape, x_normal"
      ],
      "metadata": {
        "colab": {
          "base_uri": "https://localhost:8080/"
        },
        "id": "KryXasbuAAQP",
        "outputId": "6fa5c413-f228-4fda-f103-5f61436b26c6"
      },
      "execution_count": null,
      "outputs": [
        {
          "output_type": "execute_result",
          "data": {
            "text/plain": [
              "(torch.Size([1, 20]),\n",
              " tensor([[ 0,  5, 10, 15, 20, 25, 30, 35, 40, 45, 50, 55, 60, 65, 70, 75, 80, 85,\n",
              "          90, 95]]))"
            ]
          },
          "metadata": {},
          "execution_count": 47
        }
      ]
    },
    {
      "cell_type": "markdown",
      "source": [
        "##### Indexing tensors\n"
      ],
      "metadata": {
        "id": "qPOxSblEBEGm"
      }
    },
    {
      "cell_type": "code",
      "source": [
        "x_reshaped_2.shape"
      ],
      "metadata": {
        "colab": {
          "base_uri": "https://localhost:8080/"
        },
        "id": "0NAOCPXiAEw6",
        "outputId": "fa407b27-0d2e-4beb-a53b-6d6088ce8927"
      },
      "execution_count": null,
      "outputs": [
        {
          "output_type": "execute_result",
          "data": {
            "text/plain": [
              "torch.Size([5, 2, 2])"
            ]
          },
          "metadata": {},
          "execution_count": 48
        }
      ]
    },
    {
      "cell_type": "code",
      "source": [
        "x_reshaped_2"
      ],
      "metadata": {
        "colab": {
          "base_uri": "https://localhost:8080/"
        },
        "id": "gwPnIlSCBR_u",
        "outputId": "85cdf92e-8fce-4a36-9333-73a1f06fa04c"
      },
      "execution_count": null,
      "outputs": [
        {
          "output_type": "execute_result",
          "data": {
            "text/plain": [
              "tensor([[[ 0,  5],\n",
              "         [10, 15]],\n",
              "\n",
              "        [[20, 25],\n",
              "         [30, 35]],\n",
              "\n",
              "        [[40, 45],\n",
              "         [50, 55]],\n",
              "\n",
              "        [[60, 65],\n",
              "         [70, 75]],\n",
              "\n",
              "        [[80, 85],\n",
              "         [90, 95]]])"
            ]
          },
          "metadata": {},
          "execution_count": 49
        }
      ]
    },
    {
      "cell_type": "code",
      "source": [
        "x_reshaped_2[2]"
      ],
      "metadata": {
        "colab": {
          "base_uri": "https://localhost:8080/"
        },
        "id": "0DiokwH5BIG3",
        "outputId": "a5e06d0d-8519-45f6-9ccb-914311f82530"
      },
      "execution_count": null,
      "outputs": [
        {
          "output_type": "execute_result",
          "data": {
            "text/plain": [
              "tensor([[40, 45],\n",
              "        [50, 55]])"
            ]
          },
          "metadata": {},
          "execution_count": 50
        }
      ]
    },
    {
      "cell_type": "code",
      "source": [
        "x_reshaped_2[2,1]"
      ],
      "metadata": {
        "colab": {
          "base_uri": "https://localhost:8080/"
        },
        "id": "xvNHs89yBNtY",
        "outputId": "eae8c31b-97a0-4658-9068-cf1855612244"
      },
      "execution_count": null,
      "outputs": [
        {
          "output_type": "execute_result",
          "data": {
            "text/plain": [
              "tensor([50, 55])"
            ]
          },
          "metadata": {},
          "execution_count": 51
        }
      ]
    },
    {
      "cell_type": "code",
      "source": [
        "x_reshaped_2[2,1,1]"
      ],
      "metadata": {
        "colab": {
          "base_uri": "https://localhost:8080/"
        },
        "id": "6lv6yw-EBVvY",
        "outputId": "4e994c1b-a670-4d22-92f9-cba47d66972c"
      },
      "execution_count": null,
      "outputs": [
        {
          "output_type": "execute_result",
          "data": {
            "text/plain": [
              "tensor(55)"
            ]
          },
          "metadata": {},
          "execution_count": 52
        }
      ]
    },
    {
      "cell_type": "code",
      "source": [
        "x_reshaped_2[4]"
      ],
      "metadata": {
        "colab": {
          "base_uri": "https://localhost:8080/"
        },
        "id": "IxvRCB_NBXxg",
        "outputId": "f8f3f115-7849-470b-84f9-06e403ca5a95"
      },
      "execution_count": null,
      "outputs": [
        {
          "output_type": "execute_result",
          "data": {
            "text/plain": [
              "tensor([[80, 85],\n",
              "        [90, 95]])"
            ]
          },
          "metadata": {},
          "execution_count": 53
        }
      ]
    },
    {
      "cell_type": "code",
      "source": [
        "x_reshaped_2[4,1,1]"
      ],
      "metadata": {
        "colab": {
          "base_uri": "https://localhost:8080/"
        },
        "id": "SI9dKAU4BaEe",
        "outputId": "f21d9d68-21f5-4fe6-d2d3-faf6b6e55cad"
      },
      "execution_count": null,
      "outputs": [
        {
          "output_type": "execute_result",
          "data": {
            "text/plain": [
              "tensor(95)"
            ]
          },
          "metadata": {},
          "execution_count": 54
        }
      ]
    },
    {
      "cell_type": "code",
      "source": [],
      "metadata": {
        "id": "UkLjI5QrBbVB"
      },
      "execution_count": null,
      "outputs": []
    },
    {
      "cell_type": "markdown",
      "source": [
        "## Pytorch Workflow"
      ],
      "metadata": {
        "id": "yBJyfESk2RAf"
      }
    },
    {
      "cell_type": "code",
      "source": [
        "Image(url='https://raw.githubusercontent.com/mrdbourke/pytorch-deep-learning/main/images/01_a_pytorch_workflow.png')"
      ],
      "metadata": {
        "colab": {
          "base_uri": "https://localhost:8080/"
        },
        "id": "n03L9rrh2S5o",
        "outputId": "97a5bdf0-55ae-4ff5-d037-8d0f29082a98"
      },
      "execution_count": null,
      "outputs": [
        {
          "output_type": "execute_result",
          "data": {
            "text/html": [
              "<img src=\"https://raw.githubusercontent.com/mrdbourke/pytorch-deep-learning/main/images/01_a_pytorch_workflow.png\"/>"
            ],
            "text/plain": [
              "<IPython.core.display.Image object>"
            ]
          },
          "metadata": {},
          "execution_count": 55
        }
      ]
    },
    {
      "cell_type": "markdown",
      "source": [
        "#### Linear Regression - fundamentals"
      ],
      "metadata": {
        "id": "gRK92TVTbm39"
      }
    },
    {
      "cell_type": "code",
      "source": [
        "w = 2.0\n",
        "b = 1.0\n",
        "\n",
        "x = torch.rand(100, 1)\n",
        "y = w * x + b\n"
      ],
      "metadata": {
        "id": "qxjmbVjc2zLZ"
      },
      "execution_count": null,
      "outputs": []
    },
    {
      "cell_type": "code",
      "source": [
        "x.shape, y.shape\n"
      ],
      "metadata": {
        "colab": {
          "base_uri": "https://localhost:8080/"
        },
        "id": "FeEwb9cpbuh1",
        "outputId": "b7863b72-adcf-4c8c-ead7-a3d4e52d1abf"
      },
      "execution_count": null,
      "outputs": [
        {
          "output_type": "execute_result",
          "data": {
            "text/plain": [
              "(torch.Size([100, 1]), torch.Size([100, 1]))"
            ]
          },
          "metadata": {},
          "execution_count": 57
        }
      ]
    },
    {
      "cell_type": "code",
      "source": [
        "x[:15], y[:15]"
      ],
      "metadata": {
        "colab": {
          "base_uri": "https://localhost:8080/"
        },
        "id": "n0oiz_rtbvAe",
        "outputId": "6fa4237e-d474-4a8b-efed-9d5698eac122"
      },
      "execution_count": null,
      "outputs": [
        {
          "output_type": "execute_result",
          "data": {
            "text/plain": [
              "(tensor([[0.9402],\n",
              "         [0.9263],\n",
              "         [0.9427],\n",
              "         [0.5157],\n",
              "         [0.7638],\n",
              "         [0.4099],\n",
              "         [0.2855],\n",
              "         [0.5422],\n",
              "         [0.4763],\n",
              "         [0.9251],\n",
              "         [0.8102],\n",
              "         [0.0289],\n",
              "         [0.4526],\n",
              "         [0.2398],\n",
              "         [0.7915]]),\n",
              " tensor([[2.8803],\n",
              "         [2.8527],\n",
              "         [2.8854],\n",
              "         [2.0315],\n",
              "         [2.5277],\n",
              "         [1.8197],\n",
              "         [1.5710],\n",
              "         [2.0844],\n",
              "         [1.9525],\n",
              "         [2.8502],\n",
              "         [2.6204],\n",
              "         [1.0578],\n",
              "         [1.9051],\n",
              "         [1.4796],\n",
              "         [2.5829]]))"
            ]
          },
          "metadata": {},
          "execution_count": 58
        }
      ]
    },
    {
      "cell_type": "code",
      "source": [
        "\n",
        "from sklearn.model_selection import train_test_split\n",
        "\n",
        "\n",
        "# Define las proporciones para la división (por ejemplo, 70% train, 15% validation, 15% test)\n",
        "train_ratio = 0.7\n",
        "validation_ratio = 0.2\n",
        "test_ratio = 0.1\n",
        "\n",
        "# Divide el conjunto de datos en train, validation y test\n",
        "x_train, x_temp, y_train, y_temp = train_test_split(x, y, test_size=(1 - train_ratio), random_state=42)\n",
        "x_val, x_test, y_val, y_test = train_test_split(x_temp, y_temp, test_size=test_ratio / (test_ratio + validation_ratio), random_state=42)\n",
        "\n",
        "# Verifica las formas de los conjuntos resultantes\n",
        "print(f\"Train set shapes: x_train: {x_train.shape}, y_train: {y_train.shape}\")\n",
        "print(f\"Validation set shapes: x_val: {x_val.shape}, y_val: {y_val.shape}\")\n",
        "print(f\"Test set shapes: x_test: {x_test.shape}, y_test: {y_test.shape}\")"
      ],
      "metadata": {
        "colab": {
          "base_uri": "https://localhost:8080/"
        },
        "id": "ja2KekrZbwsW",
        "outputId": "74e9160f-b843-4eab-e459-73d3d36a33f8"
      },
      "execution_count": null,
      "outputs": [
        {
          "output_type": "stream",
          "name": "stdout",
          "text": [
            "Train set shapes: x_train: torch.Size([69, 1]), y_train: torch.Size([69, 1])\n",
            "Validation set shapes: x_val: torch.Size([20, 1]), y_val: torch.Size([20, 1])\n",
            "Test set shapes: x_test: torch.Size([11, 1]), y_test: torch.Size([11, 1])\n"
          ]
        }
      ]
    },
    {
      "cell_type": "code",
      "source": [
        "import matplotlib.pyplot as plt\n",
        "\n",
        "\n",
        "x_numpy = x.numpy()\n",
        "y_numpy = y.numpy()\n",
        "\n",
        "# Crea el scatter plot\n",
        "plt.figure(figsize=(8, 6))\n",
        "plt.scatter(x_numpy, y_numpy, label='Datos')\n",
        "plt.xlabel('x')\n",
        "plt.ylabel('y')\n",
        "plt.title('Scatter Plot x e y')\n",
        "plt.legend()\n",
        "plt.grid(True)\n",
        "plt.show()"
      ],
      "metadata": {
        "colab": {
          "base_uri": "https://localhost:8080/"
        },
        "id": "6qqZ5hz8cVFU",
        "outputId": "2de50697-83b5-471b-c8f9-e76e9ee6471d"
      },
      "execution_count": null,
      "outputs": [
        {
          "output_type": "display_data",
          "data": {
            "text/plain": [
              "<Figure size 800x600 with 1 Axes>"
            ],
            "image/png": "[encoded data removed]"
          },
          "metadata": {}
        }
      ]
    },
    {
      "cell_type": "code",
      "source": [
        "import matplotlib.pyplot as plt\n",
        "\n",
        "# Suponiendo que tienes tensores x e y ya definidos\n",
        "\n",
        "# Convierte los tensores de PyTorch a NumPy arrays\n",
        "x_numpy = x.numpy()\n",
        "y_numpy = y.numpy()\n",
        "\n",
        "# Crea el scatter plot\n",
        "plt.figure(figsize=(8, 6))\n",
        "plt.scatter(x_train, y_train, label='Train')\n",
        "plt.scatter(x_test, y_test, label=\"Test\")\n",
        "plt.xlabel('x')\n",
        "plt.ylabel('y')\n",
        "plt.title('Scatter Plot entre x e y')\n",
        "plt.legend()\n",
        "plt.grid(True)\n",
        "plt.show()"
      ],
      "metadata": {
        "colab": {
          "base_uri": "https://localhost:8080/"
        },
        "id": "ca1GMHWicsqp",
        "outputId": "10957d28-711e-4c80-8f53-6f8dd75008cc"
      },
      "execution_count": null,
      "outputs": [
        {
          "output_type": "display_data",
          "data": {
            "text/plain": [
              "<Figure size 800x600 with 1 Axes>"
            ],
            "image/png": "[encoded data removed]"
          },
          "metadata": {}
        }
      ]
    },
    {
      "cell_type": "markdown",
      "source": [
        "##### Defining LR Model through a Python class"
      ],
      "metadata": {
        "id": "ZqTA6NHfV5l6"
      }
    },
    {
      "cell_type": "markdown",
      "source": [
        "* Source python OOP: https://realpython.com/python-classes/\n",
        "* Source pytorch.nn documentation: https://pytorch.org/docs/stable/nn.html\n",
        "\n",
        "Our class is going to:\n",
        "* Start with random values (bias & weights)\n",
        "* Look at training data and adjust the random values to the closest, through Gradient Descent & Back Propagation"
      ],
      "metadata": {
        "id": "hj40nrxCV9YV"
      }
    },
    {
      "cell_type": "code",
      "source": [
        "from torch import nn\n",
        "\n",
        "\n",
        "class LinearRegressionModel(nn.Module):     #nn.Module is a subclass\n",
        "\n",
        "  def __init__(self):\n",
        "    super.__init__()\n",
        "    self.weights = nn.Parameter(torch.randn(1,\n",
        "                                            requires_grad=True,\n",
        "                                            dtype = torch.float))\n",
        "    self.bias = nn.Parameter(torch.randn(1,\n",
        "                                            requires_grad=True,\n",
        "                                            dtype = torch.float))\n",
        "\n",
        "    #method - all nn.Module subclass requires to overwrite forward()\n",
        "\n",
        "    def forward(self, x: torch.Tensor) -> torch.Tensor:\n",
        "      return self.weights * x + self.bias\n"
      ],
      "metadata": {
        "id": "yt8T1vtdV47G"
      },
      "execution_count": null,
      "outputs": []
    },
    {
      "cell_type": "markdown",
      "source": [
        "### Modulos de Pytorch:\n",
        "\n",
        "* **torch.Tensor**: Este es el módulo fundamental que proporciona tensores multidimensionales (arrays) y operaciones sobre ellos.\n",
        "\n",
        "* **torch.nn**: Este módulo contiene las herramientas para construir redes neuronales, como capas, funciones de activación, funciones de pérdida, optimizadores y más. Dentro de torch.nn, las capas son muy utilizadas, como nn.Linear, nn.Conv2d, y nn.LSTM, entre otras.\n",
        "\n",
        "* **torch.optim**: Este módulo proporciona varios optimizadores como SGD, Adam, RMSprop, etc., que se utilizan para ajustar los parámetros de los modelos durante el entrenamiento.\n",
        "\n",
        "* **torch.utils.data**: para trabajar con conjuntos de datos y cargadores de datos. Contiene clases como Dataset y DataLoader.\n",
        "\n",
        "Also: https://pytorch.org/tutorials/beginner/ptcheat.html"
      ],
      "metadata": {
        "id": "6kkQdDcUeRsu"
      }
    },
    {
      "cell_type": "code",
      "source": [],
      "metadata": {
        "id": "qD9hwfyHeRdo"
      },
      "execution_count": null,
      "outputs": []
    },
    {
      "cell_type": "code",
      "source": [],
      "metadata": {
        "id": "xMpy3i0Cc1UV"
      },
      "execution_count": null,
      "outputs": []
    }
  ]
}