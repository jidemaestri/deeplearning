{
  "nbformat": 4,
  "nbformat_minor": 0,
  "metadata": {
    "colab": {
      "provenance": [],
      "gpuType": "T4",
      "toc_visible": true,
      "authorship_tag": "ABX9TyPKFJvL8SikezGzdaYkoOGW"
    },
    "kernelspec": {
      "name": "python3",
      "display_name": "Python 3"
    },
    "language_info": {
      "name": "python"
    },
    "accelerator": "GPU",
    "widgets": {
      "application/vnd.jupyter.widget-state+json": {
        "4cab7bc36d824c0d99350524926fb65c": {
          "model_module": "@jupyter-widgets/controls",
          "model_name": "HBoxModel",
          "model_module_version": "1.5.0",
          "state": {
            "_dom_classes": [],
            "_model_module": "@jupyter-widgets/controls",
            "_model_module_version": "1.5.0",
            "_model_name": "HBoxModel",
            "_view_count": null,
            "_view_module": "@jupyter-widgets/controls",
            "_view_module_version": "1.5.0",
            "_view_name": "HBoxView",
            "box_style": "",
            "children": [
              "IPY_MODEL_e3386ab9c05542b9ae0210e2b530f9a5",
              "IPY_MODEL_2e90250c8211463cbabda49729c90cd5",
              "IPY_MODEL_af3d550961914c79afc930a7104c2e68"
            ],
            "layout": "IPY_MODEL_b2356ae0bd4747019da68b4c68c38109"
          }
        },
        "e3386ab9c05542b9ae0210e2b530f9a5": {
          "model_module": "@jupyter-widgets/controls",
          "model_name": "HTMLModel",
          "model_module_version": "1.5.0",
          "state": {
            "_dom_classes": [],
            "_model_module": "@jupyter-widgets/controls",
            "_model_module_version": "1.5.0",
            "_model_name": "HTMLModel",
            "_view_count": null,
            "_view_module": "@jupyter-widgets/controls",
            "_view_module_version": "1.5.0",
            "_view_name": "HTMLView",
            "description": "",
            "description_tooltip": null,
            "layout": "IPY_MODEL_9cb742ba34314b50a57f1aca9e3c2db7",
            "placeholder": "​",
            "style": "IPY_MODEL_52eee34cbd534f39b6816dd4841c3b22",
            "value": "Epoch 999: 100%"
          }
        },
        "2e90250c8211463cbabda49729c90cd5": {
          "model_module": "@jupyter-widgets/controls",
          "model_name": "FloatProgressModel",
          "model_module_version": "1.5.0",
          "state": {
            "_dom_classes": [],
            "_model_module": "@jupyter-widgets/controls",
            "_model_module_version": "1.5.0",
            "_model_name": "FloatProgressModel",
            "_view_count": null,
            "_view_module": "@jupyter-widgets/controls",
            "_view_module_version": "1.5.0",
            "_view_name": "ProgressView",
            "bar_style": "success",
            "description": "",
            "description_tooltip": null,
            "layout": "IPY_MODEL_6102e04baf07440f9d90340adad5d471",
            "max": 2,
            "min": 0,
            "orientation": "horizontal",
            "style": "IPY_MODEL_c243c5fe873b46849a5801bef04de2e2",
            "value": 2
          }
        },
        "af3d550961914c79afc930a7104c2e68": {
          "model_module": "@jupyter-widgets/controls",
          "model_name": "HTMLModel",
          "model_module_version": "1.5.0",
          "state": {
            "_dom_classes": [],
            "_model_module": "@jupyter-widgets/controls",
            "_model_module_version": "1.5.0",
            "_model_name": "HTMLModel",
            "_view_count": null,
            "_view_module": "@jupyter-widgets/controls",
            "_view_module_version": "1.5.0",
            "_view_name": "HTMLView",
            "description": "",
            "description_tooltip": null,
            "layout": "IPY_MODEL_aca4c6fcf4c1408dae64167d5aa9cc91",
            "placeholder": "​",
            "style": "IPY_MODEL_a1d18bf4df8040419a46a81b689a5aef",
            "value": " 2/2 [00:00&lt;00:00, 49.09it/s, v_num=1]"
          }
        },
        "b2356ae0bd4747019da68b4c68c38109": {
          "model_module": "@jupyter-widgets/base",
          "model_name": "LayoutModel",
          "model_module_version": "1.2.0",
          "state": {
            "_model_module": "@jupyter-widgets/base",
            "_model_module_version": "1.2.0",
            "_model_name": "LayoutModel",
            "_view_count": null,
            "_view_module": "@jupyter-widgets/base",
            "_view_module_version": "1.2.0",
            "_view_name": "LayoutView",
            "align_content": null,
            "align_items": null,
            "align_self": null,
            "border": null,
            "bottom": null,
            "display": "inline-flex",
            "flex": null,
            "flex_flow": "row wrap",
            "grid_area": null,
            "grid_auto_columns": null,
            "grid_auto_flow": null,
            "grid_auto_rows": null,
            "grid_column": null,
            "grid_gap": null,
            "grid_row": null,
            "grid_template_areas": null,
            "grid_template_columns": null,
            "grid_template_rows": null,
            "height": null,
            "justify_content": null,
            "justify_items": null,
            "left": null,
            "margin": null,
            "max_height": null,
            "max_width": null,
            "min_height": null,
            "min_width": null,
            "object_fit": null,
            "object_position": null,
            "order": null,
            "overflow": null,
            "overflow_x": null,
            "overflow_y": null,
            "padding": null,
            "right": null,
            "top": null,
            "visibility": null,
            "width": "100%"
          }
        },
        "9cb742ba34314b50a57f1aca9e3c2db7": {
          "model_module": "@jupyter-widgets/base",
          "model_name": "LayoutModel",
          "model_module_version": "1.2.0",
          "state": {
            "_model_module": "@jupyter-widgets/base",
            "_model_module_version": "1.2.0",
            "_model_name": "LayoutModel",
            "_view_count": null,
            "_view_module": "@jupyter-widgets/base",
            "_view_module_version": "1.2.0",
            "_view_name": "LayoutView",
            "align_content": null,
            "align_items": null,
            "align_self": null,
            "border": null,
            "bottom": null,
            "display": null,
            "flex": null,
            "flex_flow": null,
            "grid_area": null,
            "grid_auto_columns": null,
            "grid_auto_flow": null,
            "grid_auto_rows": null,
            "grid_column": null,
            "grid_gap": null,
            "grid_row": null,
            "grid_template_areas": null,
            "grid_template_columns": null,
            "grid_template_rows": null,
            "height": null,
            "justify_content": null,
            "justify_items": null,
            "left": null,
            "margin": null,
            "max_height": null,
            "max_width": null,
            "min_height": null,
            "min_width": null,
            "object_fit": null,
            "object_position": null,
            "order": null,
            "overflow": null,
            "overflow_x": null,
            "overflow_y": null,
            "padding": null,
            "right": null,
            "top": null,
            "visibility": null,
            "width": null
          }
        },
        "52eee34cbd534f39b6816dd4841c3b22": {
          "model_module": "@jupyter-widgets/controls",
          "model_name": "DescriptionStyleModel",
          "model_module_version": "1.5.0",
          "state": {
            "_model_module": "@jupyter-widgets/controls",
            "_model_module_version": "1.5.0",
            "_model_name": "DescriptionStyleModel",
            "_view_count": null,
            "_view_module": "@jupyter-widgets/base",
            "_view_module_version": "1.2.0",
            "_view_name": "StyleView",
            "description_width": ""
          }
        },
        "6102e04baf07440f9d90340adad5d471": {
          "model_module": "@jupyter-widgets/base",
          "model_name": "LayoutModel",
          "model_module_version": "1.2.0",
          "state": {
            "_model_module": "@jupyter-widgets/base",
            "_model_module_version": "1.2.0",
            "_model_name": "LayoutModel",
            "_view_count": null,
            "_view_module": "@jupyter-widgets/base",
            "_view_module_version": "1.2.0",
            "_view_name": "LayoutView",
            "align_content": null,
            "align_items": null,
            "align_self": null,
            "border": null,
            "bottom": null,
            "display": null,
            "flex": "2",
            "flex_flow": null,
            "grid_area": null,
            "grid_auto_columns": null,
            "grid_auto_flow": null,
            "grid_auto_rows": null,
            "grid_column": null,
            "grid_gap": null,
            "grid_row": null,
            "grid_template_areas": null,
            "grid_template_columns": null,
            "grid_template_rows": null,
            "height": null,
            "justify_content": null,
            "justify_items": null,
            "left": null,
            "margin": null,
            "max_height": null,
            "max_width": null,
            "min_height": null,
            "min_width": null,
            "object_fit": null,
            "object_position": null,
            "order": null,
            "overflow": null,
            "overflow_x": null,
            "overflow_y": null,
            "padding": null,
            "right": null,
            "top": null,
            "visibility": null,
            "width": null
          }
        },
        "c243c5fe873b46849a5801bef04de2e2": {
          "model_module": "@jupyter-widgets/controls",
          "model_name": "ProgressStyleModel",
          "model_module_version": "1.5.0",
          "state": {
            "_model_module": "@jupyter-widgets/controls",
            "_model_module_version": "1.5.0",
            "_model_name": "ProgressStyleModel",
            "_view_count": null,
            "_view_module": "@jupyter-widgets/base",
            "_view_module_version": "1.2.0",
            "_view_name": "StyleView",
            "bar_color": null,
            "description_width": ""
          }
        },
        "aca4c6fcf4c1408dae64167d5aa9cc91": {
          "model_module": "@jupyter-widgets/base",
          "model_name": "LayoutModel",
          "model_module_version": "1.2.0",
          "state": {
            "_model_module": "@jupyter-widgets/base",
            "_model_module_version": "1.2.0",
            "_model_name": "LayoutModel",
            "_view_count": null,
            "_view_module": "@jupyter-widgets/base",
            "_view_module_version": "1.2.0",
            "_view_name": "LayoutView",
            "align_content": null,
            "align_items": null,
            "align_self": null,
            "border": null,
            "bottom": null,
            "display": null,
            "flex": null,
            "flex_flow": null,
            "grid_area": null,
            "grid_auto_columns": null,
            "grid_auto_flow": null,
            "grid_auto_rows": null,
            "grid_column": null,
            "grid_gap": null,
            "grid_row": null,
            "grid_template_areas": null,
            "grid_template_columns": null,
            "grid_template_rows": null,
            "height": null,
            "justify_content": null,
            "justify_items": null,
            "left": null,
            "margin": null,
            "max_height": null,
            "max_width": null,
            "min_height": null,
            "min_width": null,
            "object_fit": null,
            "object_position": null,
            "order": null,
            "overflow": null,
            "overflow_x": null,
            "overflow_y": null,
            "padding": null,
            "right": null,
            "top": null,
            "visibility": null,
            "width": null
          }
        },
        "a1d18bf4df8040419a46a81b689a5aef": {
          "model_module": "@jupyter-widgets/controls",
          "model_name": "DescriptionStyleModel",
          "model_module_version": "1.5.0",
          "state": {
            "_model_module": "@jupyter-widgets/controls",
            "_model_module_version": "1.5.0",
            "_model_name": "DescriptionStyleModel",
            "_view_count": null,
            "_view_module": "@jupyter-widgets/base",
            "_view_module_version": "1.2.0",
            "_view_name": "StyleView",
            "description_width": ""
          }
        },
        "1f0315281c1f4a2595c8b8da16b1e3af": {
          "model_module": "@jupyter-widgets/controls",
          "model_name": "HBoxModel",
          "model_module_version": "1.5.0",
          "state": {
            "_dom_classes": [],
            "_model_module": "@jupyter-widgets/controls",
            "_model_module_version": "1.5.0",
            "_model_name": "HBoxModel",
            "_view_count": null,
            "_view_module": "@jupyter-widgets/controls",
            "_view_module_version": "1.5.0",
            "_view_name": "HBoxView",
            "box_style": "",
            "children": [
              "IPY_MODEL_d579aec510f9414b89fa099f04632a66",
              "IPY_MODEL_992c82e9dc0841debc4a7584a55c9259",
              "IPY_MODEL_f1537b0c1242487c83e951ffe2bdd0ca"
            ],
            "layout": "IPY_MODEL_3f58b61e2e4a44aea026f4d38ad2e57c"
          }
        },
        "d579aec510f9414b89fa099f04632a66": {
          "model_module": "@jupyter-widgets/controls",
          "model_name": "HTMLModel",
          "model_module_version": "1.5.0",
          "state": {
            "_dom_classes": [],
            "_model_module": "@jupyter-widgets/controls",
            "_model_module_version": "1.5.0",
            "_model_name": "HTMLModel",
            "_view_count": null,
            "_view_module": "@jupyter-widgets/controls",
            "_view_module_version": "1.5.0",
            "_view_name": "HTMLView",
            "description": "",
            "description_tooltip": null,
            "layout": "IPY_MODEL_d5c8eb08a5834de393aef0df118bdc93",
            "placeholder": "​",
            "style": "IPY_MODEL_0fabf27cad1e49f1aa4df65972f6a00c",
            "value": "Epoch 3999: 100%"
          }
        },
        "992c82e9dc0841debc4a7584a55c9259": {
          "model_module": "@jupyter-widgets/controls",
          "model_name": "FloatProgressModel",
          "model_module_version": "1.5.0",
          "state": {
            "_dom_classes": [],
            "_model_module": "@jupyter-widgets/controls",
            "_model_module_version": "1.5.0",
            "_model_name": "FloatProgressModel",
            "_view_count": null,
            "_view_module": "@jupyter-widgets/controls",
            "_view_module_version": "1.5.0",
            "_view_name": "ProgressView",
            "bar_style": "success",
            "description": "",
            "description_tooltip": null,
            "layout": "IPY_MODEL_9f16af4046f544ba8489342aedd56f9f",
            "max": 2,
            "min": 0,
            "orientation": "horizontal",
            "style": "IPY_MODEL_076e23b128d74104b736b20f806f6f11",
            "value": 2
          }
        },
        "f1537b0c1242487c83e951ffe2bdd0ca": {
          "model_module": "@jupyter-widgets/controls",
          "model_name": "HTMLModel",
          "model_module_version": "1.5.0",
          "state": {
            "_dom_classes": [],
            "_model_module": "@jupyter-widgets/controls",
            "_model_module_version": "1.5.0",
            "_model_name": "HTMLModel",
            "_view_count": null,
            "_view_module": "@jupyter-widgets/controls",
            "_view_module_version": "1.5.0",
            "_view_name": "HTMLView",
            "description": "",
            "description_tooltip": null,
            "layout": "IPY_MODEL_bdafff0bd1d84291928521bbf156d429",
            "placeholder": "​",
            "style": "IPY_MODEL_4ac6ba28344f442682191a53b500fe93",
            "value": " 2/2 [00:00&lt;00:00, 48.88it/s, v_num=2]"
          }
        },
        "3f58b61e2e4a44aea026f4d38ad2e57c": {
          "model_module": "@jupyter-widgets/base",
          "model_name": "LayoutModel",
          "model_module_version": "1.2.0",
          "state": {
            "_model_module": "@jupyter-widgets/base",
            "_model_module_version": "1.2.0",
            "_model_name": "LayoutModel",
            "_view_count": null,
            "_view_module": "@jupyter-widgets/base",
            "_view_module_version": "1.2.0",
            "_view_name": "LayoutView",
            "align_content": null,
            "align_items": null,
            "align_self": null,
            "border": null,
            "bottom": null,
            "display": "inline-flex",
            "flex": null,
            "flex_flow": "row wrap",
            "grid_area": null,
            "grid_auto_columns": null,
            "grid_auto_flow": null,
            "grid_auto_rows": null,
            "grid_column": null,
            "grid_gap": null,
            "grid_row": null,
            "grid_template_areas": null,
            "grid_template_columns": null,
            "grid_template_rows": null,
            "height": null,
            "justify_content": null,
            "justify_items": null,
            "left": null,
            "margin": null,
            "max_height": null,
            "max_width": null,
            "min_height": null,
            "min_width": null,
            "object_fit": null,
            "object_position": null,
            "order": null,
            "overflow": null,
            "overflow_x": null,
            "overflow_y": null,
            "padding": null,
            "right": null,
            "top": null,
            "visibility": null,
            "width": "100%"
          }
        },
        "d5c8eb08a5834de393aef0df118bdc93": {
          "model_module": "@jupyter-widgets/base",
          "model_name": "LayoutModel",
          "model_module_version": "1.2.0",
          "state": {
            "_model_module": "@jupyter-widgets/base",
            "_model_module_version": "1.2.0",
            "_model_name": "LayoutModel",
            "_view_count": null,
            "_view_module": "@jupyter-widgets/base",
            "_view_module_version": "1.2.0",
            "_view_name": "LayoutView",
            "align_content": null,
            "align_items": null,
            "align_self": null,
            "border": null,
            "bottom": null,
            "display": null,
            "flex": null,
            "flex_flow": null,
            "grid_area": null,
            "grid_auto_columns": null,
            "grid_auto_flow": null,
            "grid_auto_rows": null,
            "grid_column": null,
            "grid_gap": null,
            "grid_row": null,
            "grid_template_areas": null,
            "grid_template_columns": null,
            "grid_template_rows": null,
            "height": null,
            "justify_content": null,
            "justify_items": null,
            "left": null,
            "margin": null,
            "max_height": null,
            "max_width": null,
            "min_height": null,
            "min_width": null,
            "object_fit": null,
            "object_position": null,
            "order": null,
            "overflow": null,
            "overflow_x": null,
            "overflow_y": null,
            "padding": null,
            "right": null,
            "top": null,
            "visibility": null,
            "width": null
          }
        },
        "0fabf27cad1e49f1aa4df65972f6a00c": {
          "model_module": "@jupyter-widgets/controls",
          "model_name": "DescriptionStyleModel",
          "model_module_version": "1.5.0",
          "state": {
            "_model_module": "@jupyter-widgets/controls",
            "_model_module_version": "1.5.0",
            "_model_name": "DescriptionStyleModel",
            "_view_count": null,
            "_view_module": "@jupyter-widgets/base",
            "_view_module_version": "1.2.0",
            "_view_name": "StyleView",
            "description_width": ""
          }
        },
        "9f16af4046f544ba8489342aedd56f9f": {
          "model_module": "@jupyter-widgets/base",
          "model_name": "LayoutModel",
          "model_module_version": "1.2.0",
          "state": {
            "_model_module": "@jupyter-widgets/base",
            "_model_module_version": "1.2.0",
            "_model_name": "LayoutModel",
            "_view_count": null,
            "_view_module": "@jupyter-widgets/base",
            "_view_module_version": "1.2.0",
            "_view_name": "LayoutView",
            "align_content": null,
            "align_items": null,
            "align_self": null,
            "border": null,
            "bottom": null,
            "display": null,
            "flex": "2",
            "flex_flow": null,
            "grid_area": null,
            "grid_auto_columns": null,
            "grid_auto_flow": null,
            "grid_auto_rows": null,
            "grid_column": null,
            "grid_gap": null,
            "grid_row": null,
            "grid_template_areas": null,
            "grid_template_columns": null,
            "grid_template_rows": null,
            "height": null,
            "justify_content": null,
            "justify_items": null,
            "left": null,
            "margin": null,
            "max_height": null,
            "max_width": null,
            "min_height": null,
            "min_width": null,
            "object_fit": null,
            "object_position": null,
            "order": null,
            "overflow": null,
            "overflow_x": null,
            "overflow_y": null,
            "padding": null,
            "right": null,
            "top": null,
            "visibility": null,
            "width": null
          }
        },
        "076e23b128d74104b736b20f806f6f11": {
          "model_module": "@jupyter-widgets/controls",
          "model_name": "ProgressStyleModel",
          "model_module_version": "1.5.0",
          "state": {
            "_model_module": "@jupyter-widgets/controls",
            "_model_module_version": "1.5.0",
            "_model_name": "ProgressStyleModel",
            "_view_count": null,
            "_view_module": "@jupyter-widgets/base",
            "_view_module_version": "1.2.0",
            "_view_name": "StyleView",
            "bar_color": null,
            "description_width": ""
          }
        },
        "bdafff0bd1d84291928521bbf156d429": {
          "model_module": "@jupyter-widgets/base",
          "model_name": "LayoutModel",
          "model_module_version": "1.2.0",
          "state": {
            "_model_module": "@jupyter-widgets/base",
            "_model_module_version": "1.2.0",
            "_model_name": "LayoutModel",
            "_view_count": null,
            "_view_module": "@jupyter-widgets/base",
            "_view_module_version": "1.2.0",
            "_view_name": "LayoutView",
            "align_content": null,
            "align_items": null,
            "align_self": null,
            "border": null,
            "bottom": null,
            "display": null,
            "flex": null,
            "flex_flow": null,
            "grid_area": null,
            "grid_auto_columns": null,
            "grid_auto_flow": null,
            "grid_auto_rows": null,
            "grid_column": null,
            "grid_gap": null,
            "grid_row": null,
            "grid_template_areas": null,
            "grid_template_columns": null,
            "grid_template_rows": null,
            "height": null,
            "justify_content": null,
            "justify_items": null,
            "left": null,
            "margin": null,
            "max_height": null,
            "max_width": null,
            "min_height": null,
            "min_width": null,
            "object_fit": null,
            "object_position": null,
            "order": null,
            "overflow": null,
            "overflow_x": null,
            "overflow_y": null,
            "padding": null,
            "right": null,
            "top": null,
            "visibility": null,
            "width": null
          }
        },
        "4ac6ba28344f442682191a53b500fe93": {
          "model_module": "@jupyter-widgets/controls",
          "model_name": "DescriptionStyleModel",
          "model_module_version": "1.5.0",
          "state": {
            "_model_module": "@jupyter-widgets/controls",
            "_model_module_version": "1.5.0",
            "_model_name": "DescriptionStyleModel",
            "_view_count": null,
            "_view_module": "@jupyter-widgets/base",
            "_view_module_version": "1.2.0",
            "_view_name": "StyleView",
            "description_width": ""
          }
        },
        "65efe89b8b7a46329d15efb488c12d0e": {
          "model_module": "@jupyter-widgets/controls",
          "model_name": "HBoxModel",
          "model_module_version": "1.5.0",
          "state": {
            "_dom_classes": [],
            "_model_module": "@jupyter-widgets/controls",
            "_model_module_version": "1.5.0",
            "_model_name": "HBoxModel",
            "_view_count": null,
            "_view_module": "@jupyter-widgets/controls",
            "_view_module_version": "1.5.0",
            "_view_name": "HBoxView",
            "box_style": "",
            "children": [
              "IPY_MODEL_bb2083cfeaf84a40926168df3737e53f",
              "IPY_MODEL_f6e251c6c3fe4e178f687ad06170dcc9",
              "IPY_MODEL_e77d3a0d89a74efaa6dd6aabd5cb3978"
            ],
            "layout": "IPY_MODEL_1c7a54e315314df5a65d303e412f629a"
          }
        },
        "bb2083cfeaf84a40926168df3737e53f": {
          "model_module": "@jupyter-widgets/controls",
          "model_name": "HTMLModel",
          "model_module_version": "1.5.0",
          "state": {
            "_dom_classes": [],
            "_model_module": "@jupyter-widgets/controls",
            "_model_module_version": "1.5.0",
            "_model_name": "HTMLModel",
            "_view_count": null,
            "_view_module": "@jupyter-widgets/controls",
            "_view_module_version": "1.5.0",
            "_view_name": "HTMLView",
            "description": "",
            "description_tooltip": null,
            "layout": "IPY_MODEL_d50d6a8f67204d2dba0aefc798d74410",
            "placeholder": "​",
            "style": "IPY_MODEL_63471b1329194fcf93cbde93b61fc72d",
            "value": "Epoch 299: 100%"
          }
        },
        "f6e251c6c3fe4e178f687ad06170dcc9": {
          "model_module": "@jupyter-widgets/controls",
          "model_name": "FloatProgressModel",
          "model_module_version": "1.5.0",
          "state": {
            "_dom_classes": [],
            "_model_module": "@jupyter-widgets/controls",
            "_model_module_version": "1.5.0",
            "_model_name": "FloatProgressModel",
            "_view_count": null,
            "_view_module": "@jupyter-widgets/controls",
            "_view_module_version": "1.5.0",
            "_view_name": "ProgressView",
            "bar_style": "success",
            "description": "",
            "description_tooltip": null,
            "layout": "IPY_MODEL_dfd5999b8eb44a4d93c4d4bdf677d0f5",
            "max": 2,
            "min": 0,
            "orientation": "horizontal",
            "style": "IPY_MODEL_82300155357f414daf96a35ce720ac92",
            "value": 2
          }
        },
        "e77d3a0d89a74efaa6dd6aabd5cb3978": {
          "model_module": "@jupyter-widgets/controls",
          "model_name": "HTMLModel",
          "model_module_version": "1.5.0",
          "state": {
            "_dom_classes": [],
            "_model_module": "@jupyter-widgets/controls",
            "_model_module_version": "1.5.0",
            "_model_name": "HTMLModel",
            "_view_count": null,
            "_view_module": "@jupyter-widgets/controls",
            "_view_module_version": "1.5.0",
            "_view_name": "HTMLView",
            "description": "",
            "description_tooltip": null,
            "layout": "IPY_MODEL_3da44f2233ef4295b39fe2e7fea4686d",
            "placeholder": "​",
            "style": "IPY_MODEL_4c2e074a2daf4e94bb8c74f1bdd3e4eb",
            "value": " 2/2 [00:00&lt;00:00, 77.87it/s, v_num=6]"
          }
        },
        "1c7a54e315314df5a65d303e412f629a": {
          "model_module": "@jupyter-widgets/base",
          "model_name": "LayoutModel",
          "model_module_version": "1.2.0",
          "state": {
            "_model_module": "@jupyter-widgets/base",
            "_model_module_version": "1.2.0",
            "_model_name": "LayoutModel",
            "_view_count": null,
            "_view_module": "@jupyter-widgets/base",
            "_view_module_version": "1.2.0",
            "_view_name": "LayoutView",
            "align_content": null,
            "align_items": null,
            "align_self": null,
            "border": null,
            "bottom": null,
            "display": "inline-flex",
            "flex": null,
            "flex_flow": "row wrap",
            "grid_area": null,
            "grid_auto_columns": null,
            "grid_auto_flow": null,
            "grid_auto_rows": null,
            "grid_column": null,
            "grid_gap": null,
            "grid_row": null,
            "grid_template_areas": null,
            "grid_template_columns": null,
            "grid_template_rows": null,
            "height": null,
            "justify_content": null,
            "justify_items": null,
            "left": null,
            "margin": null,
            "max_height": null,
            "max_width": null,
            "min_height": null,
            "min_width": null,
            "object_fit": null,
            "object_position": null,
            "order": null,
            "overflow": null,
            "overflow_x": null,
            "overflow_y": null,
            "padding": null,
            "right": null,
            "top": null,
            "visibility": null,
            "width": "100%"
          }
        },
        "d50d6a8f67204d2dba0aefc798d74410": {
          "model_module": "@jupyter-widgets/base",
          "model_name": "LayoutModel",
          "model_module_version": "1.2.0",
          "state": {
            "_model_module": "@jupyter-widgets/base",
            "_model_module_version": "1.2.0",
            "_model_name": "LayoutModel",
            "_view_count": null,
            "_view_module": "@jupyter-widgets/base",
            "_view_module_version": "1.2.0",
            "_view_name": "LayoutView",
            "align_content": null,
            "align_items": null,
            "align_self": null,
            "border": null,
            "bottom": null,
            "display": null,
            "flex": null,
            "flex_flow": null,
            "grid_area": null,
            "grid_auto_columns": null,
            "grid_auto_flow": null,
            "grid_auto_rows": null,
            "grid_column": null,
            "grid_gap": null,
            "grid_row": null,
            "grid_template_areas": null,
            "grid_template_columns": null,
            "grid_template_rows": null,
            "height": null,
            "justify_content": null,
            "justify_items": null,
            "left": null,
            "margin": null,
            "max_height": null,
            "max_width": null,
            "min_height": null,
            "min_width": null,
            "object_fit": null,
            "object_position": null,
            "order": null,
            "overflow": null,
            "overflow_x": null,
            "overflow_y": null,
            "padding": null,
            "right": null,
            "top": null,
            "visibility": null,
            "width": null
          }
        },
        "63471b1329194fcf93cbde93b61fc72d": {
          "model_module": "@jupyter-widgets/controls",
          "model_name": "DescriptionStyleModel",
          "model_module_version": "1.5.0",
          "state": {
            "_model_module": "@jupyter-widgets/controls",
            "_model_module_version": "1.5.0",
            "_model_name": "DescriptionStyleModel",
            "_view_count": null,
            "_view_module": "@jupyter-widgets/base",
            "_view_module_version": "1.2.0",
            "_view_name": "StyleView",
            "description_width": ""
          }
        },
        "dfd5999b8eb44a4d93c4d4bdf677d0f5": {
          "model_module": "@jupyter-widgets/base",
          "model_name": "LayoutModel",
          "model_module_version": "1.2.0",
          "state": {
            "_model_module": "@jupyter-widgets/base",
            "_model_module_version": "1.2.0",
            "_model_name": "LayoutModel",
            "_view_count": null,
            "_view_module": "@jupyter-widgets/base",
            "_view_module_version": "1.2.0",
            "_view_name": "LayoutView",
            "align_content": null,
            "align_items": null,
            "align_self": null,
            "border": null,
            "bottom": null,
            "display": null,
            "flex": "2",
            "flex_flow": null,
            "grid_area": null,
            "grid_auto_columns": null,
            "grid_auto_flow": null,
            "grid_auto_rows": null,
            "grid_column": null,
            "grid_gap": null,
            "grid_row": null,
            "grid_template_areas": null,
            "grid_template_columns": null,
            "grid_template_rows": null,
            "height": null,
            "justify_content": null,
            "justify_items": null,
            "left": null,
            "margin": null,
            "max_height": null,
            "max_width": null,
            "min_height": null,
            "min_width": null,
            "object_fit": null,
            "object_position": null,
            "order": null,
            "overflow": null,
            "overflow_x": null,
            "overflow_y": null,
            "padding": null,
            "right": null,
            "top": null,
            "visibility": null,
            "width": null
          }
        },
        "82300155357f414daf96a35ce720ac92": {
          "model_module": "@jupyter-widgets/controls",
          "model_name": "ProgressStyleModel",
          "model_module_version": "1.5.0",
          "state": {
            "_model_module": "@jupyter-widgets/controls",
            "_model_module_version": "1.5.0",
            "_model_name": "ProgressStyleModel",
            "_view_count": null,
            "_view_module": "@jupyter-widgets/base",
            "_view_module_version": "1.2.0",
            "_view_name": "StyleView",
            "bar_color": null,
            "description_width": ""
          }
        },
        "3da44f2233ef4295b39fe2e7fea4686d": {
          "model_module": "@jupyter-widgets/base",
          "model_name": "LayoutModel",
          "model_module_version": "1.2.0",
          "state": {
            "_model_module": "@jupyter-widgets/base",
            "_model_module_version": "1.2.0",
            "_model_name": "LayoutModel",
            "_view_count": null,
            "_view_module": "@jupyter-widgets/base",
            "_view_module_version": "1.2.0",
            "_view_name": "LayoutView",
            "align_content": null,
            "align_items": null,
            "align_self": null,
            "border": null,
            "bottom": null,
            "display": null,
            "flex": null,
            "flex_flow": null,
            "grid_area": null,
            "grid_auto_columns": null,
            "grid_auto_flow": null,
            "grid_auto_rows": null,
            "grid_column": null,
            "grid_gap": null,
            "grid_row": null,
            "grid_template_areas": null,
            "grid_template_columns": null,
            "grid_template_rows": null,
            "height": null,
            "justify_content": null,
            "justify_items": null,
            "left": null,
            "margin": null,
            "max_height": null,
            "max_width": null,
            "min_height": null,
            "min_width": null,
            "object_fit": null,
            "object_position": null,
            "order": null,
            "overflow": null,
            "overflow_x": null,
            "overflow_y": null,
            "padding": null,
            "right": null,
            "top": null,
            "visibility": null,
            "width": null
          }
        },
        "4c2e074a2daf4e94bb8c74f1bdd3e4eb": {
          "model_module": "@jupyter-widgets/controls",
          "model_name": "DescriptionStyleModel",
          "model_module_version": "1.5.0",
          "state": {
            "_model_module": "@jupyter-widgets/controls",
            "_model_module_version": "1.5.0",
            "_model_name": "DescriptionStyleModel",
            "_view_count": null,
            "_view_module": "@jupyter-widgets/base",
            "_view_module_version": "1.2.0",
            "_view_name": "StyleView",
            "description_width": ""
          }
        }
      }
    }
  },
  "cells": [
    {
      "cell_type": "markdown",
      "source": [
        "## Predicting Stocks Markets with PyTorch + Lightning"
      ],
      "metadata": {
        "id": "K-kcnJdXGMg-"
      }
    },
    {
      "cell_type": "markdown",
      "source": [
        "### Importing Libraries"
      ],
      "metadata": {
        "id": "3FcjnADuGk17"
      }
    },
    {
      "cell_type": "code",
      "source": [
        "pip install lightning"
      ],
      "metadata": {
        "colab": {
          "base_uri": "https://localhost:8080/"
        },
        "id": "wjCTYiQKGnjL",
        "outputId": "184cfc7a-9682-4220-d8fa-130305820567"
      },
      "execution_count": null,
      "outputs": [
        {
          "output_type": "stream",
          "name": "stdout",
          "text": [
            "Requirement already satisfied: lightning in /usr/local/lib/python3.10/dist-packages (2.0.9.post0)\n",
            "Requirement already satisfied: Jinja2<5.0 in /usr/local/lib/python3.10/dist-packages (from lightning) (3.1.2)\n",
            "Requirement already satisfied: PyYAML<8.0 in /usr/local/lib/python3.10/dist-packages (from lightning) (6.0.1)\n",
            "Requirement already satisfied: arrow<3.0,>=1.2.0 in /usr/local/lib/python3.10/dist-packages (from lightning) (1.3.0)\n",
            "Requirement already satisfied: backoff<4.0,>=2.2.1 in /usr/local/lib/python3.10/dist-packages (from lightning) (2.2.1)\n",
            "Requirement already satisfied: beautifulsoup4<6.0,>=4.8.0 in /usr/local/lib/python3.10/dist-packages (from lightning) (4.11.2)\n",
            "Requirement already satisfied: click<10.0 in /usr/local/lib/python3.10/dist-packages (from lightning) (8.1.7)\n",
            "Requirement already satisfied: croniter<1.5.0,>=1.3.0 in /usr/local/lib/python3.10/dist-packages (from lightning) (1.4.1)\n",
            "Requirement already satisfied: dateutils<2.0 in /usr/local/lib/python3.10/dist-packages (from lightning) (0.6.12)\n",
            "Requirement already satisfied: deepdiff<8.0,>=5.7.0 in /usr/local/lib/python3.10/dist-packages (from lightning) (6.6.0)\n",
            "Requirement already satisfied: fastapi<2.0,>=0.92.0 in /usr/local/lib/python3.10/dist-packages (from lightning) (0.103.2)\n",
            "Requirement already satisfied: fsspec<2025.0,>=2022.5.0 in /usr/local/lib/python3.10/dist-packages (from lightning) (2023.6.0)\n",
            "Requirement already satisfied: inquirer<5.0,>=2.10.0 in /usr/local/lib/python3.10/dist-packages (from lightning) (3.1.3)\n",
            "Requirement already satisfied: lightning-cloud>=0.5.38 in /usr/local/lib/python3.10/dist-packages (from lightning) (0.5.39)\n",
            "Requirement already satisfied: lightning-utilities<2.0,>=0.7.0 in /usr/local/lib/python3.10/dist-packages (from lightning) (0.9.0)\n",
            "Requirement already satisfied: numpy<3.0,>=1.17.2 in /usr/local/lib/python3.10/dist-packages (from lightning) (1.23.5)\n",
            "Requirement already satisfied: packaging in /usr/local/lib/python3.10/dist-packages (from lightning) (23.2)\n",
            "Requirement already satisfied: psutil<7.0 in /usr/local/lib/python3.10/dist-packages (from lightning) (5.9.5)\n",
            "Requirement already satisfied: pydantic<2.2.0,>=1.7.4 in /usr/local/lib/python3.10/dist-packages (from lightning) (1.10.13)\n",
            "Requirement already satisfied: python-multipart<2.0,>=0.0.5 in /usr/local/lib/python3.10/dist-packages (from lightning) (0.0.6)\n",
            "Requirement already satisfied: requests<4.0 in /usr/local/lib/python3.10/dist-packages (from lightning) (2.31.0)\n",
            "Requirement already satisfied: rich<15.0,>=12.3.0 in /usr/local/lib/python3.10/dist-packages (from lightning) (13.6.0)\n",
            "Requirement already satisfied: starlette in /usr/local/lib/python3.10/dist-packages (from lightning) (0.27.0)\n",
            "Requirement already satisfied: starsessions<2.0,>=1.2.1 in /usr/local/lib/python3.10/dist-packages (from lightning) (1.3.0)\n",
            "Requirement already satisfied: torch<4.0,>=1.11.0 in /usr/local/lib/python3.10/dist-packages (from lightning) (2.0.1+cu118)\n",
            "Requirement already satisfied: torchmetrics<3.0,>=0.7.0 in /usr/local/lib/python3.10/dist-packages (from lightning) (1.2.0)\n",
            "Requirement already satisfied: tqdm<6.0,>=4.57.0 in /usr/local/lib/python3.10/dist-packages (from lightning) (4.66.1)\n",
            "Requirement already satisfied: traitlets<7.0,>=5.3.0 in /usr/local/lib/python3.10/dist-packages (from lightning) (5.7.1)\n",
            "Requirement already satisfied: typing-extensions<6.0,>=4.0.0 in /usr/local/lib/python3.10/dist-packages (from lightning) (4.5.0)\n",
            "Requirement already satisfied: urllib3<4.0 in /usr/local/lib/python3.10/dist-packages (from lightning) (2.0.6)\n",
            "Requirement already satisfied: uvicorn<2.0 in /usr/local/lib/python3.10/dist-packages (from lightning) (0.23.2)\n",
            "Requirement already satisfied: websocket-client<3.0 in /usr/local/lib/python3.10/dist-packages (from lightning) (1.6.3)\n",
            "Requirement already satisfied: websockets<13.0 in /usr/local/lib/python3.10/dist-packages (from lightning) (11.0.3)\n",
            "Requirement already satisfied: pytorch-lightning in /usr/local/lib/python3.10/dist-packages (from lightning) (2.0.9.post0)\n",
            "Requirement already satisfied: python-dateutil>=2.7.0 in /usr/local/lib/python3.10/dist-packages (from arrow<3.0,>=1.2.0->lightning) (2.8.2)\n",
            "Requirement already satisfied: types-python-dateutil>=2.8.10 in /usr/local/lib/python3.10/dist-packages (from arrow<3.0,>=1.2.0->lightning) (2.8.19.14)\n",
            "Requirement already satisfied: soupsieve>1.2 in /usr/local/lib/python3.10/dist-packages (from beautifulsoup4<6.0,>=4.8.0->lightning) (2.5)\n",
            "Requirement already satisfied: pytz in /usr/local/lib/python3.10/dist-packages (from dateutils<2.0->lightning) (2023.3.post1)\n",
            "Requirement already satisfied: ordered-set<4.2.0,>=4.0.2 in /usr/local/lib/python3.10/dist-packages (from deepdiff<8.0,>=5.7.0->lightning) (4.1.0)\n",
            "Requirement already satisfied: anyio<4.0.0,>=3.7.1 in /usr/local/lib/python3.10/dist-packages (from fastapi<2.0,>=0.92.0->lightning) (3.7.1)\n",
            "Requirement already satisfied: aiohttp!=4.0.0a0,!=4.0.0a1 in /usr/local/lib/python3.10/dist-packages (from fsspec<2025.0,>=2022.5.0->lightning) (3.8.5)\n",
            "Requirement already satisfied: blessed>=1.19.0 in /usr/local/lib/python3.10/dist-packages (from inquirer<5.0,>=2.10.0->lightning) (1.20.0)\n",
            "Requirement already satisfied: python-editor>=1.0.4 in /usr/local/lib/python3.10/dist-packages (from inquirer<5.0,>=2.10.0->lightning) (1.0.4)\n",
            "Requirement already satisfied: readchar>=3.0.6 in /usr/local/lib/python3.10/dist-packages (from inquirer<5.0,>=2.10.0->lightning) (4.0.5)\n",
            "Requirement already satisfied: MarkupSafe>=2.0 in /usr/local/lib/python3.10/dist-packages (from Jinja2<5.0->lightning) (2.1.3)\n",
            "Requirement already satisfied: pyjwt in /usr/lib/python3/dist-packages (from lightning-cloud>=0.5.38->lightning) (2.3.0)\n",
            "Requirement already satisfied: six in /usr/local/lib/python3.10/dist-packages (from lightning-cloud>=0.5.38->lightning) (1.16.0)\n",
            "Requirement already satisfied: charset-normalizer<4,>=2 in /usr/local/lib/python3.10/dist-packages (from requests<4.0->lightning) (3.3.0)\n",
            "Requirement already satisfied: idna<4,>=2.5 in /usr/local/lib/python3.10/dist-packages (from requests<4.0->lightning) (3.4)\n",
            "Requirement already satisfied: certifi>=2017.4.17 in /usr/local/lib/python3.10/dist-packages (from requests<4.0->lightning) (2023.7.22)\n",
            "Requirement already satisfied: markdown-it-py>=2.2.0 in /usr/local/lib/python3.10/dist-packages (from rich<15.0,>=12.3.0->lightning) (3.0.0)\n",
            "Requirement already satisfied: pygments<3.0.0,>=2.13.0 in /usr/local/lib/python3.10/dist-packages (from rich<15.0,>=12.3.0->lightning) (2.16.1)\n",
            "Requirement already satisfied: itsdangerous<3.0.0,>=2.0.1 in /usr/local/lib/python3.10/dist-packages (from starsessions<2.0,>=1.2.1->lightning) (2.1.2)\n",
            "Requirement already satisfied: filelock in /usr/local/lib/python3.10/dist-packages (from torch<4.0,>=1.11.0->lightning) (3.12.4)\n",
            "Requirement already satisfied: sympy in /usr/local/lib/python3.10/dist-packages (from torch<4.0,>=1.11.0->lightning) (1.12)\n",
            "Requirement already satisfied: networkx in /usr/local/lib/python3.10/dist-packages (from torch<4.0,>=1.11.0->lightning) (3.1)\n",
            "Requirement already satisfied: triton==2.0.0 in /usr/local/lib/python3.10/dist-packages (from torch<4.0,>=1.11.0->lightning) (2.0.0)\n",
            "Requirement already satisfied: cmake in /usr/local/lib/python3.10/dist-packages (from triton==2.0.0->torch<4.0,>=1.11.0->lightning) (3.27.6)\n",
            "Requirement already satisfied: lit in /usr/local/lib/python3.10/dist-packages (from triton==2.0.0->torch<4.0,>=1.11.0->lightning) (17.0.2)\n",
            "Requirement already satisfied: h11>=0.8 in /usr/local/lib/python3.10/dist-packages (from uvicorn<2.0->lightning) (0.14.0)\n",
            "Requirement already satisfied: attrs>=17.3.0 in /usr/local/lib/python3.10/dist-packages (from aiohttp!=4.0.0a0,!=4.0.0a1->fsspec<2025.0,>=2022.5.0->lightning) (23.1.0)\n",
            "Requirement already satisfied: multidict<7.0,>=4.5 in /usr/local/lib/python3.10/dist-packages (from aiohttp!=4.0.0a0,!=4.0.0a1->fsspec<2025.0,>=2022.5.0->lightning) (6.0.4)\n",
            "Requirement already satisfied: async-timeout<5.0,>=4.0.0a3 in /usr/local/lib/python3.10/dist-packages (from aiohttp!=4.0.0a0,!=4.0.0a1->fsspec<2025.0,>=2022.5.0->lightning) (4.0.3)\n",
            "Requirement already satisfied: yarl<2.0,>=1.0 in /usr/local/lib/python3.10/dist-packages (from aiohttp!=4.0.0a0,!=4.0.0a1->fsspec<2025.0,>=2022.5.0->lightning) (1.9.2)\n",
            "Requirement already satisfied: frozenlist>=1.1.1 in /usr/local/lib/python3.10/dist-packages (from aiohttp!=4.0.0a0,!=4.0.0a1->fsspec<2025.0,>=2022.5.0->lightning) (1.4.0)\n",
            "Requirement already satisfied: aiosignal>=1.1.2 in /usr/local/lib/python3.10/dist-packages (from aiohttp!=4.0.0a0,!=4.0.0a1->fsspec<2025.0,>=2022.5.0->lightning) (1.3.1)\n",
            "Requirement already satisfied: sniffio>=1.1 in /usr/local/lib/python3.10/dist-packages (from anyio<4.0.0,>=3.7.1->fastapi<2.0,>=0.92.0->lightning) (1.3.0)\n",
            "Requirement already satisfied: exceptiongroup in /usr/local/lib/python3.10/dist-packages (from anyio<4.0.0,>=3.7.1->fastapi<2.0,>=0.92.0->lightning) (1.1.3)\n",
            "Requirement already satisfied: wcwidth>=0.1.4 in /usr/local/lib/python3.10/dist-packages (from blessed>=1.19.0->inquirer<5.0,>=2.10.0->lightning) (0.2.8)\n",
            "Requirement already satisfied: mdurl~=0.1 in /usr/local/lib/python3.10/dist-packages (from markdown-it-py>=2.2.0->rich<15.0,>=12.3.0->lightning) (0.1.2)\n",
            "Requirement already satisfied: setuptools>=41.0 in /usr/local/lib/python3.10/dist-packages (from readchar>=3.0.6->inquirer<5.0,>=2.10.0->lightning) (67.7.2)\n",
            "Requirement already satisfied: mpmath>=0.19 in /usr/local/lib/python3.10/dist-packages (from sympy->torch<4.0,>=1.11.0->lightning) (1.3.0)\n"
          ]
        }
      ]
    },
    {
      "cell_type": "code",
      "source": [
        "pip install yfinance"
      ],
      "metadata": {
        "colab": {
          "base_uri": "https://localhost:8080/"
        },
        "id": "7HISsc3ZBHP_",
        "outputId": "a363531f-7f0d-482f-b530-27b1f4f15d9b"
      },
      "execution_count": null,
      "outputs": [
        {
          "output_type": "stream",
          "name": "stdout",
          "text": [
            "Requirement already satisfied: yfinance in /usr/local/lib/python3.10/dist-packages (0.2.30)\n",
            "Requirement already satisfied: pandas>=1.3.0 in /usr/local/lib/python3.10/dist-packages (from yfinance) (1.5.3)\n",
            "Requirement already satisfied: numpy>=1.16.5 in /usr/local/lib/python3.10/dist-packages (from yfinance) (1.23.5)\n",
            "Requirement already satisfied: requests>=2.31 in /usr/local/lib/python3.10/dist-packages (from yfinance) (2.31.0)\n",
            "Requirement already satisfied: multitasking>=0.0.7 in /usr/local/lib/python3.10/dist-packages (from yfinance) (0.0.11)\n",
            "Requirement already satisfied: lxml>=4.9.1 in /usr/local/lib/python3.10/dist-packages (from yfinance) (4.9.3)\n",
            "Requirement already satisfied: appdirs>=1.4.4 in /usr/local/lib/python3.10/dist-packages (from yfinance) (1.4.4)\n",
            "Requirement already satisfied: pytz>=2022.5 in /usr/local/lib/python3.10/dist-packages (from yfinance) (2023.3.post1)\n",
            "Requirement already satisfied: frozendict>=2.3.4 in /usr/local/lib/python3.10/dist-packages (from yfinance) (2.3.8)\n",
            "Requirement already satisfied: peewee>=3.16.2 in /usr/local/lib/python3.10/dist-packages (from yfinance) (3.16.3)\n",
            "Requirement already satisfied: beautifulsoup4>=4.11.1 in /usr/local/lib/python3.10/dist-packages (from yfinance) (4.11.2)\n",
            "Requirement already satisfied: html5lib>=1.1 in /usr/local/lib/python3.10/dist-packages (from yfinance) (1.1)\n",
            "Requirement already satisfied: soupsieve>1.2 in /usr/local/lib/python3.10/dist-packages (from beautifulsoup4>=4.11.1->yfinance) (2.5)\n",
            "Requirement already satisfied: six>=1.9 in /usr/local/lib/python3.10/dist-packages (from html5lib>=1.1->yfinance) (1.16.0)\n",
            "Requirement already satisfied: webencodings in /usr/local/lib/python3.10/dist-packages (from html5lib>=1.1->yfinance) (0.5.1)\n",
            "Requirement already satisfied: python-dateutil>=2.8.1 in /usr/local/lib/python3.10/dist-packages (from pandas>=1.3.0->yfinance) (2.8.2)\n",
            "Requirement already satisfied: charset-normalizer<4,>=2 in /usr/local/lib/python3.10/dist-packages (from requests>=2.31->yfinance) (3.3.0)\n",
            "Requirement already satisfied: idna<4,>=2.5 in /usr/local/lib/python3.10/dist-packages (from requests>=2.31->yfinance) (3.4)\n",
            "Requirement already satisfied: urllib3<3,>=1.21.1 in /usr/local/lib/python3.10/dist-packages (from requests>=2.31->yfinance) (2.0.6)\n",
            "Requirement already satisfied: certifi>=2017.4.17 in /usr/local/lib/python3.10/dist-packages (from requests>=2.31->yfinance) (2023.7.22)\n"
          ]
        }
      ]
    },
    {
      "cell_type": "code",
      "execution_count": null,
      "metadata": {
        "id": "wEwdQ1SRGHRh"
      },
      "outputs": [],
      "source": [
        "import torch\n",
        "import torch.nn as nn\n",
        "import torch.nn.functional as F\n",
        "from torch.optim import Adam #similar to SGD but no so stochastic\n",
        "import yfinance as yf\n",
        "import pandas as pd\n",
        "import numpy as np\n"
      ]
    },
    {
      "cell_type": "code",
      "source": [
        "import lightning as L\n",
        "from torch.utils.data import TensorDataset, DataLoader"
      ],
      "metadata": {
        "id": "KjPzxJKXGLkS"
      },
      "execution_count": null,
      "outputs": []
    },
    {
      "cell_type": "markdown",
      "source": [
        "### Defining our Class - LSTM"
      ],
      "metadata": {
        "id": "MsWd5UdZGywX"
      }
    },
    {
      "cell_type": "code",
      "source": [
        "class LSTM_lightning_personal(L.LightningModule):\n",
        "  def __init__(self):\n",
        "    super().__init__()\n",
        "    # Taking a normal distribution\n",
        "    mean = torch.tensor(0.0)\n",
        "    std = torch.tensor(1.0)\n",
        "\n",
        "    #long term gate\n",
        "    self.wlr1 = nn.Parameter(torch.normal(mean=mean, std=std), requires_grad=True) #weight\n",
        "    self.wlr2 = nn.Parameter(torch.normal(mean=mean, std=std), requires_grad=True)\n",
        "    self.blr1 = nn.Parameter(torch.tensor(0.), requires_grad=True)      #bias\n",
        "\n",
        "    #potential memory to remember gate\n",
        "    self.wpr1 = nn.Parameter(torch.normal(mean=mean, std=std), requires_grad=True)\n",
        "    self.wpr2 = nn.Parameter(torch.normal(mean=mean, std=std), requires_grad=True)\n",
        "    self.bpr1 = nn.Parameter(torch.tensor(0.), requires_grad=True)\n",
        "\n",
        "    #potential memory long term gate\n",
        "    self.wp1 = nn.Parameter(torch.normal(mean=mean, std=std), requires_grad=True)\n",
        "    self.wp2 = nn.Parameter(torch.normal(mean=mean, std=std), requires_grad=True)\n",
        "    self.bp1 = nn.Parameter(torch.tensor(0.), requires_grad=True)\n",
        "\n",
        "    #output\n",
        "    self.wo1 = nn.Parameter(torch.normal(mean=mean, std=std), requires_grad=True)\n",
        "    self.wo2 = nn.Parameter(torch.normal(mean=mean, std=std), requires_grad=True)\n",
        "\n",
        "\n",
        "  def lstm_unit(self, input_value, long_memory, short_memory):\n",
        "\n",
        "    long_remember_percent = torch.sigmoid((short_memory * self.wlr1) +\n",
        "                                          (input_value * self.wlr2) +\n",
        "                                          self.blr1)\n",
        "\n",
        "    potential_remember_percent = torch.sigmoid((short_memory * self.wpr1) +\n",
        "                                          (input_value * self.wpr2) +\n",
        "                                          self.bpr1)\n",
        "\n",
        "    potential_memory = torch.tanh((short_memory * self.wp1) +\n",
        "                                          (input_value * self.wp2) +\n",
        "                                          self.bp1)\n",
        "\n",
        "    updated_long_memory = ((long_memory * long_remember_percent) +\n",
        "                           (potential_remember_percent * potential_memory))\n",
        "\n",
        "    output_percent = torch.sigmoid((short_memory * self.wo1) +\n",
        "                                          (input_value * self.wo2))\n",
        "    updated_short_memory = torch.tanh(updated_long_memory) * output_percent\n",
        "\n",
        "    return ([updated_long_memory, updated_short_memory])\n",
        "\n",
        "\n",
        "\n",
        "  def forward(self, input_seq):\n",
        "        # Inicializa las memorias a cero en el primer paso\n",
        "        long_memory = 0\n",
        "        short_memory = 0\n",
        "\n",
        "        # Itera a lo largo de todos los días de input_seq\n",
        "        for day in range(input_seq.size(0)):\n",
        "            # Obtén el dato para el día actual del conjunto de datos\n",
        "            day_data = input_seq[day]\n",
        "\n",
        "            # Pasa el dato del día actual a través de la LSTM\n",
        "            long_memory, short_memory = self.lstm_unit(day_data, long_memory, short_memory)\n",
        "\n",
        "        # Puedes hacer más cosas con las memorias aquí o retornarlas\n",
        "        return long_memory, short_memory\n",
        "\n",
        "  def configure_optimizers(self):\n",
        "        # Define y configura tu optimizador aquí\n",
        "        optimizer = torch.optim.Adam(self.parameters(), lr=0.001)\n",
        "        return optimizer\n",
        "\n",
        "  def training_step(self, batch, batch_idx):\n",
        "      # Obtener los datos de entrada y etiquetas del lote\n",
        "      input_i, label_i = batch\n",
        "\n",
        "      # Calcular la salida de la red (puede ser una tupla si es una LSTM)\n",
        "      output_i = self.forward(input_i[0])\n",
        "\n",
        "      # Si la salida es una tupla (salida a largo y corto plazo)\n",
        "      if isinstance(output_i, tuple):\n",
        "          output_i_long, output_i_short = output_i\n",
        "      else:\n",
        "          # Si no es una tupla, asumimos que es solo la salida a corto plazo\n",
        "          output_i_long, output_i_short = output_i, output_i\n",
        "\n",
        "      # Calcular la pérdida\n",
        "      loss = ((output_i_short - label_i)**2).mean()\n",
        "\n",
        "      # Registrar la pérdida en los registros de Lightning\n",
        "      self.log(\"train_loss\", loss)\n",
        "\n",
        "      return loss\n",
        "\n"
      ],
      "metadata": {
        "id": "vAcKHY0_GhQb"
      },
      "execution_count": null,
      "outputs": []
    },
    {
      "cell_type": "markdown",
      "source": [
        "![image.png](data:image/png;base64,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)"
      ],
      "metadata": {
        "id": "ikQe7N-TKglP"
      }
    },
    {
      "cell_type": "markdown",
      "source": [
        "### LSTM Model"
      ],
      "metadata": {
        "id": "O78YITOsYGP6"
      }
    },
    {
      "cell_type": "code",
      "source": [
        "model = LSTM_lightning_personal()"
      ],
      "metadata": {
        "id": "AjdasrCsYFtS"
      },
      "execution_count": null,
      "outputs": []
    },
    {
      "cell_type": "code",
      "source": [
        "model(torch.tensor([0., 0.5, 0.25, 1.]).detach())"
      ],
      "metadata": {
        "colab": {
          "base_uri": "https://localhost:8080/"
        },
        "id": "1peULEM6JgC6",
        "outputId": "01d08721-555c-47bc-82ea-5c0b20c61a3c"
      },
      "execution_count": null,
      "outputs": [
        {
          "output_type": "execute_result",
          "data": {
            "text/plain": [
              "(tensor(0.4366, grad_fn=<AddBackward0>),\n",
              " tensor(0.1552, grad_fn=<MulBackward0>))"
            ]
          },
          "metadata": {},
          "execution_count": 6
        }
      ]
    },
    {
      "cell_type": "code",
      "source": [
        "type(torch.tensor([0., 0.5, 0.25, -1.]))"
      ],
      "metadata": {
        "colab": {
          "base_uri": "https://localhost:8080/"
        },
        "id": "gbvmeSk6Yytp",
        "outputId": "30279747-ffb5-48d1-c37f-c184b9cc193a"
      },
      "execution_count": null,
      "outputs": [
        {
          "output_type": "execute_result",
          "data": {
            "text/plain": [
              "torch.Tensor"
            ]
          },
          "metadata": {},
          "execution_count": 7
        }
      ]
    },
    {
      "cell_type": "code",
      "source": [
        "inputs = torch.tensor([[0., 0.5, 0.25, 1.], [1.,0.5,0.25,1.]])"
      ],
      "metadata": {
        "id": "DSYzPHPEaD_1"
      },
      "execution_count": null,
      "outputs": []
    },
    {
      "cell_type": "code",
      "source": [
        "labels = torch.tensor([0., 1.])"
      ],
      "metadata": {
        "id": "-QGZlCQsa3aH"
      },
      "execution_count": null,
      "outputs": []
    },
    {
      "cell_type": "code",
      "source": [
        "dataset = TensorDataset(inputs, labels)"
      ],
      "metadata": {
        "id": "r8sYaIqqa7p_"
      },
      "execution_count": null,
      "outputs": []
    },
    {
      "cell_type": "code",
      "source": [
        "dataloader = DataLoader(dataset)\n"
      ],
      "metadata": {
        "id": "vAkoNe7ObExq"
      },
      "execution_count": null,
      "outputs": []
    },
    {
      "cell_type": "markdown",
      "source": [
        "DataLoader is very useful:\n",
        "* make it easy to access the data in batches\n",
        "* make it easy to shuffle the data\n",
        "* make it easy to use a small fraction of data (training or debbuging)"
      ],
      "metadata": {
        "id": "NpIf8oopbMRe"
      }
    },
    {
      "cell_type": "markdown",
      "source": [
        "#### Training model"
      ],
      "metadata": {
        "id": "FaXKkbcm4eGH"
      }
    },
    {
      "cell_type": "code",
      "source": [
        "trainer = L.Trainer(max_epochs=2000)"
      ],
      "metadata": {
        "colab": {
          "base_uri": "https://localhost:8080/"
        },
        "id": "YPVTfm9pbHKm",
        "outputId": "f52ddde3-ef84-4cdf-bb32-f8bf4dd5636f"
      },
      "execution_count": null,
      "outputs": [
        {
          "output_type": "stream",
          "name": "stderr",
          "text": [
            "INFO: GPU available: True (cuda), used: True\n",
            "INFO:lightning.pytorch.utilities.rank_zero:GPU available: True (cuda), used: True\n",
            "INFO: TPU available: False, using: 0 TPU cores\n",
            "INFO:lightning.pytorch.utilities.rank_zero:TPU available: False, using: 0 TPU cores\n",
            "INFO: IPU available: False, using: 0 IPUs\n",
            "INFO:lightning.pytorch.utilities.rank_zero:IPU available: False, using: 0 IPUs\n",
            "INFO: HPU available: False, using: 0 HPUs\n",
            "INFO:lightning.pytorch.utilities.rank_zero:HPU available: False, using: 0 HPUs\n"
          ]
        }
      ]
    },
    {
      "cell_type": "code",
      "source": [
        "trainer.fit(model, train_dataloaders=dataloader)"
      ],
      "metadata": {
        "colab": {
          "base_uri": "https://localhost:8080/",
          "height": 414,
          "referenced_widgets": [
            "4cab7bc36d824c0d99350524926fb65c",
            "e3386ab9c05542b9ae0210e2b530f9a5",
            "2e90250c8211463cbabda49729c90cd5",
            "af3d550961914c79afc930a7104c2e68",
            "b2356ae0bd4747019da68b4c68c38109",
            "9cb742ba34314b50a57f1aca9e3c2db7",
            "52eee34cbd534f39b6816dd4841c3b22",
            "6102e04baf07440f9d90340adad5d471",
            "c243c5fe873b46849a5801bef04de2e2",
            "aca4c6fcf4c1408dae64167d5aa9cc91",
            "a1d18bf4df8040419a46a81b689a5aef"
          ]
        },
        "id": "IrAFXF2IbhEw",
        "outputId": "2c50f121-3775-49cb-bef4-9a03fb7ba17d"
      },
      "execution_count": null,
      "outputs": [
        {
          "output_type": "stream",
          "name": "stderr",
          "text": [
            "INFO: LOCAL_RANK: 0 - CUDA_VISIBLE_DEVICES: [0]\n",
            "INFO:lightning.pytorch.accelerators.cuda:LOCAL_RANK: 0 - CUDA_VISIBLE_DEVICES: [0]\n",
            "INFO: \n",
            "  | Name | Type | Params\n",
            "------------------------------\n",
            "------------------------------\n",
            "11        Trainable params\n",
            "0         Non-trainable params\n",
            "11        Total params\n",
            "0.000     Total estimated model params size (MB)\n",
            "INFO:lightning.pytorch.callbacks.model_summary:\n",
            "  | Name | Type | Params\n",
            "------------------------------\n",
            "------------------------------\n",
            "11        Trainable params\n",
            "0         Non-trainable params\n",
            "11        Total params\n",
            "0.000     Total estimated model params size (MB)\n"
          ]
        },
        {
          "output_type": "display_data",
          "data": {
            "text/plain": [
              "Training: 0it [00:00, ?it/s]"
            ],
            "application/vnd.jupyter.widget-view+json": {
              "version_major": 2,
              "version_minor": 0,
              "model_id": "4cab7bc36d824c0d99350524926fb65c"
            }
          },
          "metadata": {}
        },
        {
          "output_type": "stream",
          "name": "stderr",
          "text": [
            "INFO: `Trainer.fit` stopped: `max_epochs=1000` reached.\n",
            "INFO:lightning.pytorch.utilities.rank_zero:`Trainer.fit` stopped: `max_epochs=1000` reached.\n"
          ]
        }
      ]
    },
    {
      "cell_type": "code",
      "source": [
        "#since we want to add additional training epochs to where we left off, we first get the path to the most recent checkpoints from the Lightning Trainer (we called it Trainer)\n",
        "\n",
        "best_checkpoint = trainer.checkpoint_callback.best_model_path"
      ],
      "metadata": {
        "id": "mns-8KyDcVGk"
      },
      "execution_count": null,
      "outputs": []
    },
    {
      "cell_type": "code",
      "source": [
        "trainer = L.Trainer(max_epochs=4000)\n",
        "trainer.fit(model, train_dataloaders=dataloader, ckpt_path=best_checkpoint)"
      ],
      "metadata": {
        "colab": {
          "base_uri": "https://localhost:8080/",
          "height": 727,
          "referenced_widgets": [
            "1f0315281c1f4a2595c8b8da16b1e3af",
            "d579aec510f9414b89fa099f04632a66",
            "992c82e9dc0841debc4a7584a55c9259",
            "f1537b0c1242487c83e951ffe2bdd0ca",
            "3f58b61e2e4a44aea026f4d38ad2e57c",
            "d5c8eb08a5834de393aef0df118bdc93",
            "0fabf27cad1e49f1aa4df65972f6a00c",
            "9f16af4046f544ba8489342aedd56f9f",
            "076e23b128d74104b736b20f806f6f11",
            "bdafff0bd1d84291928521bbf156d429",
            "4ac6ba28344f442682191a53b500fe93"
          ]
        },
        "id": "UsfDx7Wp4_uG",
        "outputId": "5d1f69a0-92fa-4628-d169-3ad1412133e9"
      },
      "execution_count": null,
      "outputs": [
        {
          "output_type": "stream",
          "name": "stderr",
          "text": [
            "INFO: GPU available: True (cuda), used: True\n",
            "INFO:lightning.pytorch.utilities.rank_zero:GPU available: True (cuda), used: True\n",
            "INFO: TPU available: False, using: 0 TPU cores\n",
            "INFO:lightning.pytorch.utilities.rank_zero:TPU available: False, using: 0 TPU cores\n",
            "INFO: IPU available: False, using: 0 IPUs\n",
            "INFO:lightning.pytorch.utilities.rank_zero:IPU available: False, using: 0 IPUs\n",
            "INFO: HPU available: False, using: 0 HPUs\n",
            "INFO:lightning.pytorch.utilities.rank_zero:HPU available: False, using: 0 HPUs\n",
            "INFO: Restoring states from the checkpoint path at /content/lightning_logs/version_1/checkpoints/epoch=999-step=2000.ckpt\n",
            "INFO:lightning.pytorch.utilities.rank_zero:Restoring states from the checkpoint path at /content/lightning_logs/version_1/checkpoints/epoch=999-step=2000.ckpt\n",
            "/usr/local/lib/python3.10/dist-packages/lightning/pytorch/callbacks/model_checkpoint.py:337: UserWarning: The dirpath has changed from '/content/lightning_logs/version_1/checkpoints' to '/content/lightning_logs/version_2/checkpoints', therefore `best_model_score`, `kth_best_model_path`, `kth_value`, `last_model_path` and `best_k_models` won't be reloaded. Only `best_model_path` will be reloaded.\n",
            "  warnings.warn(\n",
            "INFO: LOCAL_RANK: 0 - CUDA_VISIBLE_DEVICES: [0]\n",
            "INFO:lightning.pytorch.accelerators.cuda:LOCAL_RANK: 0 - CUDA_VISIBLE_DEVICES: [0]\n",
            "INFO: \n",
            "  | Name | Type | Params\n",
            "------------------------------\n",
            "------------------------------\n",
            "11        Trainable params\n",
            "0         Non-trainable params\n",
            "11        Total params\n",
            "0.000     Total estimated model params size (MB)\n",
            "INFO:lightning.pytorch.callbacks.model_summary:\n",
            "  | Name | Type | Params\n",
            "------------------------------\n",
            "------------------------------\n",
            "11        Trainable params\n",
            "0         Non-trainable params\n",
            "11        Total params\n",
            "0.000     Total estimated model params size (MB)\n",
            "INFO: Restored all states from the checkpoint at /content/lightning_logs/version_1/checkpoints/epoch=999-step=2000.ckpt\n",
            "INFO:lightning.pytorch.utilities.rank_zero:Restored all states from the checkpoint at /content/lightning_logs/version_1/checkpoints/epoch=999-step=2000.ckpt\n",
            "/usr/local/lib/python3.10/dist-packages/lightning/pytorch/loops/fit_loop.py:281: PossibleUserWarning: The number of training batches (2) is smaller than the logging interval Trainer(log_every_n_steps=50). Set a lower value for log_every_n_steps if you want to see logs for the training epoch.\n",
            "  rank_zero_warn(\n"
          ]
        },
        {
          "output_type": "display_data",
          "data": {
            "text/plain": [
              "Training: 0it [00:00, ?it/s]"
            ],
            "application/vnd.jupyter.widget-view+json": {
              "version_major": 2,
              "version_minor": 0,
              "model_id": "1f0315281c1f4a2595c8b8da16b1e3af"
            }
          },
          "metadata": {}
        },
        {
          "output_type": "stream",
          "name": "stderr",
          "text": [
            "INFO: `Trainer.fit` stopped: `max_epochs=4000` reached.\n",
            "INFO:lightning.pytorch.utilities.rank_zero:`Trainer.fit` stopped: `max_epochs=4000` reached.\n"
          ]
        }
      ]
    },
    {
      "cell_type": "markdown",
      "source": [
        "#### Prediction"
      ],
      "metadata": {
        "id": "XynG2Ukl5k0f"
      }
    },
    {
      "cell_type": "code",
      "source": [
        "model(torch.tensor([0., 0.5, 0.25, 1.]).detach()) #label is 0"
      ],
      "metadata": {
        "colab": {
          "base_uri": "https://localhost:8080/"
        },
        "id": "NAAEFNjk5QOU",
        "outputId": "6f8866ee-a041-4e91-fb71-1f5699d0a64b"
      },
      "execution_count": null,
      "outputs": [
        {
          "output_type": "execute_result",
          "data": {
            "text/plain": [
              "(tensor(1.4901e-05, grad_fn=<AddBackward0>),\n",
              " tensor(1.2915e-05, grad_fn=<MulBackward0>))"
            ]
          },
          "metadata": {},
          "execution_count": 18
        }
      ]
    },
    {
      "cell_type": "code",
      "source": [
        "model(torch.tensor([1.,0.5,0.25,1.]).detach()) #label is 1\n"
      ],
      "metadata": {
        "colab": {
          "base_uri": "https://localhost:8080/"
        },
        "id": "XN80dYpq5l9B",
        "outputId": "db65dabc-d621-4bfc-863d-2d731403f6e6"
      },
      "execution_count": null,
      "outputs": [
        {
          "output_type": "execute_result",
          "data": {
            "text/plain": [
              "(tensor(3.6126, grad_fn=<AddBackward0>),\n",
              " tensor(0.9911, grad_fn=<MulBackward0>))"
            ]
          },
          "metadata": {},
          "execution_count": 19
        }
      ]
    },
    {
      "cell_type": "code",
      "source": [
        "best_checkpoint = trainer.checkpoint_callback.best_model_path"
      ],
      "metadata": {
        "id": "NW0R8rPW6BLn"
      },
      "execution_count": null,
      "outputs": []
    },
    {
      "cell_type": "code",
      "source": [
        "import torch.nn as nn\n",
        "input_size = 1 #len(data.columns)\n",
        "hidden_size = 1  # El tamaño oculto de la capa LSTM\n",
        "num_layers = 2  # Número de capas LSTM"
      ],
      "metadata": {
        "id": "SqCtrkGM6GVA"
      },
      "execution_count": null,
      "outputs": []
    },
    {
      "cell_type": "markdown",
      "source": [
        "### LSTM w/ nn"
      ],
      "metadata": {
        "id": "2kI5IN6NHVTD"
      }
    },
    {
      "cell_type": "code",
      "source": [
        "class LightningLSTM(L.LightningModule):\n",
        "  def __init__(self):\n",
        "    super().__init__()\n",
        "    self.lstm = nn.LSTM(input_size=input_size, hidden_size=hidden_size)\n",
        "\n",
        "\n",
        "  def forward(self, input):\n",
        "    input_transposed = input.view(len(input), 1)  #rows = len(input), columns = 1\n",
        "    lstm_out, temp = self.lstm(input_transposed)\n",
        "\n",
        "    prediction = lstm_out[-1]\n",
        "    return prediction\n",
        "\n",
        "  def configure_optimizers(self):\n",
        "    return Adam(self.parameters(), lr=0.1)\n",
        "\n",
        "  def training_step(self, batch, batch_idx):\n",
        "    input_i, label_i = batch\n",
        "    output_i = self.forward(input_i[0])\n",
        "    loss = (output_i - label_i) ** 2\n",
        "\n",
        "    self.log(\"train loss: \", loss)\n",
        "\n",
        "    if (label_i == 0):\n",
        "      self.log(\"out_0: \", output_i)\n",
        "    else:\n",
        "      self.log(\"out_1: \", output_i)\n",
        "    return loss"
      ],
      "metadata": {
        "id": "1cjnD3d2-GIR"
      },
      "execution_count": null,
      "outputs": []
    },
    {
      "cell_type": "markdown",
      "source": [
        "#### Training Model 2"
      ],
      "metadata": {
        "id": "WArP2cDiJZKP"
      }
    },
    {
      "cell_type": "code",
      "source": [
        "trainer = L.Trainer(max_epochs=300, log_every_n_steps=2)"
      ],
      "metadata": {
        "colab": {
          "base_uri": "https://localhost:8080/"
        },
        "id": "qPXpvh73BOeo",
        "outputId": "346cc8c6-fbf0-4360-c91c-97230f3b12c9"
      },
      "execution_count": null,
      "outputs": [
        {
          "output_type": "stream",
          "name": "stderr",
          "text": [
            "INFO: GPU available: True (cuda), used: True\n",
            "INFO:lightning.pytorch.utilities.rank_zero:GPU available: True (cuda), used: True\n",
            "INFO: TPU available: False, using: 0 TPU cores\n",
            "INFO:lightning.pytorch.utilities.rank_zero:TPU available: False, using: 0 TPU cores\n",
            "INFO: IPU available: False, using: 0 IPUs\n",
            "INFO:lightning.pytorch.utilities.rank_zero:IPU available: False, using: 0 IPUs\n",
            "INFO: HPU available: False, using: 0 HPUs\n",
            "INFO:lightning.pytorch.utilities.rank_zero:HPU available: False, using: 0 HPUs\n"
          ]
        }
      ]
    },
    {
      "cell_type": "code",
      "source": [
        "model2 = LightningLSTM()"
      ],
      "metadata": {
        "id": "D3-JFgWcH1xu"
      },
      "execution_count": null,
      "outputs": []
    },
    {
      "cell_type": "code",
      "source": [
        "trainer.fit(model2, train_dataloaders=dataloader)"
      ],
      "metadata": {
        "colab": {
          "base_uri": "https://localhost:8080/",
          "height": 451,
          "referenced_widgets": [
            "65efe89b8b7a46329d15efb488c12d0e",
            "bb2083cfeaf84a40926168df3737e53f",
            "f6e251c6c3fe4e178f687ad06170dcc9",
            "e77d3a0d89a74efaa6dd6aabd5cb3978",
            "1c7a54e315314df5a65d303e412f629a",
            "d50d6a8f67204d2dba0aefc798d74410",
            "63471b1329194fcf93cbde93b61fc72d",
            "dfd5999b8eb44a4d93c4d4bdf677d0f5",
            "82300155357f414daf96a35ce720ac92",
            "3da44f2233ef4295b39fe2e7fea4686d",
            "4c2e074a2daf4e94bb8c74f1bdd3e4eb"
          ]
        },
        "id": "oDMJ6GgLHfEC",
        "outputId": "1067e33b-6a99-4442-ad9b-44fb071ab639"
      },
      "execution_count": null,
      "outputs": [
        {
          "output_type": "stream",
          "name": "stderr",
          "text": [
            "INFO: LOCAL_RANK: 0 - CUDA_VISIBLE_DEVICES: [0]\n",
            "INFO:lightning.pytorch.accelerators.cuda:LOCAL_RANK: 0 - CUDA_VISIBLE_DEVICES: [0]\n",
            "INFO: \n",
            "  | Name | Type | Params\n",
            "------------------------------\n",
            "0 | lstm | LSTM | 16    \n",
            "------------------------------\n",
            "16        Trainable params\n",
            "0         Non-trainable params\n",
            "16        Total params\n",
            "0.000     Total estimated model params size (MB)\n",
            "INFO:lightning.pytorch.callbacks.model_summary:\n",
            "  | Name | Type | Params\n",
            "------------------------------\n",
            "0 | lstm | LSTM | 16    \n",
            "------------------------------\n",
            "16        Trainable params\n",
            "0         Non-trainable params\n",
            "16        Total params\n",
            "0.000     Total estimated model params size (MB)\n"
          ]
        },
        {
          "output_type": "display_data",
          "data": {
            "text/plain": [
              "Training: 0it [00:00, ?it/s]"
            ],
            "application/vnd.jupyter.widget-view+json": {
              "version_major": 2,
              "version_minor": 0,
              "model_id": "65efe89b8b7a46329d15efb488c12d0e"
            }
          },
          "metadata": {}
        },
        {
          "output_type": "stream",
          "name": "stderr",
          "text": [
            "INFO: `Trainer.fit` stopped: `max_epochs=300` reached.\n",
            "INFO:lightning.pytorch.utilities.rank_zero:`Trainer.fit` stopped: `max_epochs=300` reached.\n"
          ]
        }
      ]
    },
    {
      "cell_type": "markdown",
      "source": [
        "#### Predictions - Model 2"
      ],
      "metadata": {
        "id": "Kvmw0y38JWDn"
      }
    },
    {
      "cell_type": "code",
      "source": [
        "model2(torch.tensor([0., 0.5, 0.25, 1.]).detach()) #label is 0"
      ],
      "metadata": {
        "colab": {
          "base_uri": "https://localhost:8080/"
        },
        "id": "mtAxKPA7Hey8",
        "outputId": "c840ae70-dfc9-4fd3-de8d-2596c33dee3b"
      },
      "execution_count": null,
      "outputs": [
        {
          "output_type": "execute_result",
          "data": {
            "text/plain": [
              "tensor([8.8940e-06], grad_fn=<SelectBackward0>)"
            ]
          },
          "metadata": {},
          "execution_count": 57
        }
      ]
    },
    {
      "cell_type": "code",
      "source": [
        "model2(torch.tensor([1.,0.5,0.25,1.]).detach()) #label is 1\n"
      ],
      "metadata": {
        "colab": {
          "base_uri": "https://localhost:8080/"
        },
        "id": "owgOw0BfHeKw",
        "outputId": "1d18b2e4-d860-4db2-bb2e-f07b8b058d45"
      },
      "execution_count": null,
      "outputs": [
        {
          "output_type": "execute_result",
          "data": {
            "text/plain": [
              "tensor([0.9872], grad_fn=<SelectBackward0>)"
            ]
          },
          "metadata": {},
          "execution_count": 58
        }
      ]
    },
    {
      "cell_type": "markdown",
      "source": [
        "### *Testing* with real data\n"
      ],
      "metadata": {
        "id": "wpWqzHLwBO-1"
      }
    },
    {
      "cell_type": "code",
      "source": [
        "from datetime import datetime\n",
        "\n",
        "start_date = '2020-05-25'\n",
        "end_date = datetime.today().strftime('%Y-%m-%d')\n",
        "\n",
        "apple_data = yf.download(\"AAPL\", start=start_date, end=end_date)"
      ],
      "metadata": {
        "colab": {
          "base_uri": "https://localhost:8080/"
        },
        "id": "tL0aBEN1BQIT",
        "outputId": "7ee40df4-1290-4c19-9ff5-f2706e1740cc"
      },
      "execution_count": null,
      "outputs": [
        {
          "output_type": "stream",
          "name": "stdout",
          "text": [
            "\r[*********************100%%**********************]  1 of 1 completed\n"
          ]
        }
      ]
    },
    {
      "cell_type": "code",
      "source": [
        "apple_data = apple_data.dropna()"
      ],
      "metadata": {
        "id": "fG3cOByqBohn"
      },
      "execution_count": null,
      "outputs": []
    },
    {
      "cell_type": "code",
      "source": [
        "apple_data"
      ],
      "metadata": {
        "colab": {
          "base_uri": "https://localhost:8080/",
          "height": 455
        },
        "id": "wyFRRjt8BpqO",
        "outputId": "94790bd2-2e21-4594-afb0-d0f4a5eeb4d5"
      },
      "execution_count": null,
      "outputs": [
        {
          "output_type": "execute_result",
          "data": {
            "text/plain": [
              "                  Open        High         Low       Close   Adj Close  \\\n",
              "Date                                                                     \n",
              "2020-05-26   80.875000   81.059998   79.125000   79.182503   77.636673   \n",
              "2020-05-27   79.035004   79.677498   78.272499   79.527496   77.974937   \n",
              "2020-05-28   79.192497   80.860001   78.907501   79.562500   78.009254   \n",
              "2020-05-29   79.812500   80.287498   79.117500   79.485001   77.933266   \n",
              "2020-06-01   79.437500   80.587502   79.302498   80.462502   78.891678   \n",
              "...                ...         ...         ...         ...         ...   \n",
              "2023-09-29  172.020004  173.070007  170.339996  171.210007  171.210007   \n",
              "2023-10-02  171.220001  174.300003  170.929993  173.750000  173.750000   \n",
              "2023-10-03  172.259995  173.630005  170.820007  172.399994  172.399994   \n",
              "2023-10-04  171.089996  174.210007  170.970001  173.660004  173.660004   \n",
              "2023-10-05  173.789993  175.449997  172.679993  174.910004  174.910004   \n",
              "\n",
              "               Volume  \n",
              "Date                   \n",
              "2020-05-26  125522000  \n",
              "2020-05-27  112945200  \n",
              "2020-05-28  133560800  \n",
              "2020-05-29  153532400  \n",
              "2020-06-01   80791200  \n",
              "...               ...  \n",
              "2023-09-29   51814200  \n",
              "2023-10-02   52164500  \n",
              "2023-10-03   49594600  \n",
              "2023-10-04   53020300  \n",
              "2023-10-05   48494400  \n",
              "\n",
              "[848 rows x 6 columns]"
            ],
            "text/html": [
              "\n",
              "  <div id=\"df-d7f33dd3-7e80-4aa6-9292-78904f99c2ff\" class=\"colab-df-container\">\n",
              "    <div>\n",
              "<style scoped>\n",
              "    .dataframe tbody tr th:only-of-type {\n",
              "        vertical-align: middle;\n",
              "    }\n",
              "\n",
              "    .dataframe tbody tr th {\n",
              "        vertical-align: top;\n",
              "    }\n",
              "\n",
              "    .dataframe thead th {\n",
              "        text-align: right;\n",
              "    }\n",
              "</style>\n",
              "<table border=\"1\" class=\"dataframe\">\n",
              "  <thead>\n",
              "    <tr style=\"text-align: right;\">\n",
              "      <th></th>\n",
              "      <th>Open</th>\n",
              "      <th>High</th>\n",
              "      <th>Low</th>\n",
              "      <th>Close</th>\n",
              "      <th>Adj Close</th>\n",
              "      <th>Volume</th>\n",
              "    </tr>\n",
              "    <tr>\n",
              "      <th>Date</th>\n",
              "      <th></th>\n",
              "      <th></th>\n",
              "      <th></th>\n",
              "      <th></th>\n",
              "      <th></th>\n",
              "      <th></th>\n",
              "    </tr>\n",
              "  </thead>\n",
              "  <tbody>\n",
              "    <tr>\n",
              "      <th>2020-05-26</th>\n",
              "      <td>80.875000</td>\n",
              "      <td>81.059998</td>\n",
              "      <td>79.125000</td>\n",
              "      <td>79.182503</td>\n",
              "      <td>77.636673</td>\n",
              "      <td>125522000</td>\n",
              "    </tr>\n",
              "    <tr>\n",
              "      <th>2020-05-27</th>\n",
              "      <td>79.035004</td>\n",
              "      <td>79.677498</td>\n",
              "      <td>78.272499</td>\n",
              "      <td>79.527496</td>\n",
              "      <td>77.974937</td>\n",
              "      <td>112945200</td>\n",
              "    </tr>\n",
              "    <tr>\n",
              "      <th>2020-05-28</th>\n",
              "      <td>79.192497</td>\n",
              "      <td>80.860001</td>\n",
              "      <td>78.907501</td>\n",
              "      <td>79.562500</td>\n",
              "      <td>78.009254</td>\n",
              "      <td>133560800</td>\n",
              "    </tr>\n",
              "    <tr>\n",
              "      <th>2020-05-29</th>\n",
              "      <td>79.812500</td>\n",
              "      <td>80.287498</td>\n",
              "      <td>79.117500</td>\n",
              "      <td>79.485001</td>\n",
              "      <td>77.933266</td>\n",
              "      <td>153532400</td>\n",
              "    </tr>\n",
              "    <tr>\n",
              "      <th>2020-06-01</th>\n",
              "      <td>79.437500</td>\n",
              "      <td>80.587502</td>\n",
              "      <td>79.302498</td>\n",
              "      <td>80.462502</td>\n",
              "      <td>78.891678</td>\n",
              "      <td>80791200</td>\n",
              "    </tr>\n",
              "    <tr>\n",
              "      <th>...</th>\n",
              "      <td>...</td>\n",
              "      <td>...</td>\n",
              "      <td>...</td>\n",
              "      <td>...</td>\n",
              "      <td>...</td>\n",
              "      <td>...</td>\n",
              "    </tr>\n",
              "    <tr>\n",
              "      <th>2023-09-29</th>\n",
              "      <td>172.020004</td>\n",
              "      <td>173.070007</td>\n",
              "      <td>170.339996</td>\n",
              "      <td>171.210007</td>\n",
              "      <td>171.210007</td>\n",
              "      <td>51814200</td>\n",
              "    </tr>\n",
              "    <tr>\n",
              "      <th>2023-10-02</th>\n",
              "      <td>171.220001</td>\n",
              "      <td>174.300003</td>\n",
              "      <td>170.929993</td>\n",
              "      <td>173.750000</td>\n",
              "      <td>173.750000</td>\n",
              "      <td>52164500</td>\n",
              "    </tr>\n",
              "    <tr>\n",
              "      <th>2023-10-03</th>\n",
              "      <td>172.259995</td>\n",
              "      <td>173.630005</td>\n",
              "      <td>170.820007</td>\n",
              "      <td>172.399994</td>\n",
              "      <td>172.399994</td>\n",
              "      <td>49594600</td>\n",
              "    </tr>\n",
              "    <tr>\n",
              "      <th>2023-10-04</th>\n",
              "      <td>171.089996</td>\n",
              "      <td>174.210007</td>\n",
              "      <td>170.970001</td>\n",
              "      <td>173.660004</td>\n",
              "      <td>173.660004</td>\n",
              "      <td>53020300</td>\n",
              "    </tr>\n",
              "    <tr>\n",
              "      <th>2023-10-05</th>\n",
              "      <td>173.789993</td>\n",
              "      <td>175.449997</td>\n",
              "      <td>172.679993</td>\n",
              "      <td>174.910004</td>\n",
              "      <td>174.910004</td>\n",
              "      <td>48494400</td>\n",
              "    </tr>\n",
              "  </tbody>\n",
              "</table>\n",
              "<p>848 rows × 6 columns</p>\n",
              "</div>\n",
              "    <div class=\"colab-df-buttons\">\n",
              "\n",
              "  <div class=\"colab-df-container\">\n",
              "    <button class=\"colab-df-convert\" onclick=\"convertToInteractive('df-d7f33dd3-7e80-4aa6-9292-78904f99c2ff')\"\n",
              "            title=\"Convert this dataframe to an interactive table.\"\n",
              "            style=\"display:none;\">\n",
              "\n",
              "  <svg xmlns=\"http://www.w3.org/2000/svg\" height=\"24px\" viewBox=\"0 -960 960 960\">\n",
              "    <path d=\"M120-120v-720h720v720H120Zm60-500h600v-160H180v160Zm220 220h160v-160H400v160Zm0 220h160v-160H400v160ZM180-400h160v-160H180v160Zm440 0h160v-160H620v160ZM180-180h160v-160H180v160Zm440 0h160v-160H620v160Z\"/>\n",
              "  </svg>\n",
              "    </button>\n",
              "\n",
              "  <style>\n",
              "    .colab-df-container {\n",
              "      display:flex;\n",
              "      gap: 12px;\n",
              "    }\n",
              "\n",
              "    .colab-df-convert {\n",
              "      background-color: #E8F0FE;\n",
              "      border: none;\n",
              "      border-radius: 50%;\n",
              "      cursor: pointer;\n",
              "      display: none;\n",
              "      fill: #1967D2;\n",
              "      height: 32px;\n",
              "      padding: 0 0 0 0;\n",
              "      width: 32px;\n",
              "    }\n",
              "\n",
              "    .colab-df-convert:hover {\n",
              "      background-color: #E2EBFA;\n",
              "      box-shadow: 0px 1px 2px rgba(60, 64, 67, 0.3), 0px 1px 3px 1px rgba(60, 64, 67, 0.15);\n",
              "      fill: #174EA6;\n",
              "    }\n",
              "\n",
              "    .colab-df-buttons div {\n",
              "      margin-bottom: 4px;\n",
              "    }\n",
              "\n",
              "    [theme=dark] .colab-df-convert {\n",
              "      background-color: #3B4455;\n",
              "      fill: #D2E3FC;\n",
              "    }\n",
              "\n",
              "    [theme=dark] .colab-df-convert:hover {\n",
              "      background-color: #434B5C;\n",
              "      box-shadow: 0px 1px 3px 1px rgba(0, 0, 0, 0.15);\n",
              "      filter: drop-shadow(0px 1px 2px rgba(0, 0, 0, 0.3));\n",
              "      fill: #FFFFFF;\n",
              "    }\n",
              "  </style>\n",
              "\n",
              "    <script>\n",
              "      const buttonEl =\n",
              "        document.querySelector('#df-d7f33dd3-7e80-4aa6-9292-78904f99c2ff button.colab-df-convert');\n",
              "      buttonEl.style.display =\n",
              "        google.colab.kernel.accessAllowed ? 'block' : 'none';\n",
              "\n",
              "      async function convertToInteractive(key) {\n",
              "        const element = document.querySelector('#df-d7f33dd3-7e80-4aa6-9292-78904f99c2ff');\n",
              "        const dataTable =\n",
              "          await google.colab.kernel.invokeFunction('convertToInteractive',\n",
              "                                                    [key], {});\n",
              "        if (!dataTable) return;\n",
              "\n",
              "        const docLinkHtml = 'Like what you see? Visit the ' +\n",
              "          '<a target=\"_blank\" href=https://colab.research.google.com/notebooks/data_table.ipynb>data table notebook</a>'\n",
              "          + ' to learn more about interactive tables.';\n",
              "        element.innerHTML = '';\n",
              "        dataTable['output_type'] = 'display_data';\n",
              "        await google.colab.output.renderOutput(dataTable, element);\n",
              "        const docLink = document.createElement('div');\n",
              "        docLink.innerHTML = docLinkHtml;\n",
              "        element.appendChild(docLink);\n",
              "      }\n",
              "    </script>\n",
              "  </div>\n",
              "\n",
              "\n",
              "<div id=\"df-0d14ca4c-933e-4bf1-9933-7bdb906564de\">\n",
              "  <button class=\"colab-df-quickchart\" onclick=\"quickchart('df-0d14ca4c-933e-4bf1-9933-7bdb906564de')\"\n",
              "            title=\"Suggest charts.\"\n",
              "            style=\"display:none;\">\n",
              "\n",
              "<svg xmlns=\"http://www.w3.org/2000/svg\" height=\"24px\"viewBox=\"0 0 24 24\"\n",
              "     width=\"24px\">\n",
              "    <g>\n",
              "        <path d=\"M19 3H5c-1.1 0-2 .9-2 2v14c0 1.1.9 2 2 2h14c1.1 0 2-.9 2-2V5c0-1.1-.9-2-2-2zM9 17H7v-7h2v7zm4 0h-2V7h2v10zm4 0h-2v-4h2v4z\"/>\n",
              "    </g>\n",
              "</svg>\n",
              "  </button>\n",
              "\n",
              "<style>\n",
              "  .colab-df-quickchart {\n",
              "      --bg-color: #E8F0FE;\n",
              "      --fill-color: #1967D2;\n",
              "      --hover-bg-color: #E2EBFA;\n",
              "      --hover-fill-color: #174EA6;\n",
              "      --disabled-fill-color: #AAA;\n",
              "      --disabled-bg-color: #DDD;\n",
              "  }\n",
              "\n",
              "  [theme=dark] .colab-df-quickchart {\n",
              "      --bg-color: #3B4455;\n",
              "      --fill-color: #D2E3FC;\n",
              "      --hover-bg-color: #434B5C;\n",
              "      --hover-fill-color: #FFFFFF;\n",
              "      --disabled-bg-color: #3B4455;\n",
              "      --disabled-fill-color: #666;\n",
              "  }\n",
              "\n",
              "  .colab-df-quickchart {\n",
              "    background-color: var(--bg-color);\n",
              "    border: none;\n",
              "    border-radius: 50%;\n",
              "    cursor: pointer;\n",
              "    display: none;\n",
              "    fill: var(--fill-color);\n",
              "    height: 32px;\n",
              "    padding: 0;\n",
              "    width: 32px;\n",
              "  }\n",
              "\n",
              "  .colab-df-quickchart:hover {\n",
              "    background-color: var(--hover-bg-color);\n",
              "    box-shadow: 0 1px 2px rgba(60, 64, 67, 0.3), 0 1px 3px 1px rgba(60, 64, 67, 0.15);\n",
              "    fill: var(--button-hover-fill-color);\n",
              "  }\n",
              "\n",
              "  .colab-df-quickchart-complete:disabled,\n",
              "  .colab-df-quickchart-complete:disabled:hover {\n",
              "    background-color: var(--disabled-bg-color);\n",
              "    fill: var(--disabled-fill-color);\n",
              "    box-shadow: none;\n",
              "  }\n",
              "\n",
              "  .colab-df-spinner {\n",
              "    border: 2px solid var(--fill-color);\n",
              "    border-color: transparent;\n",
              "    border-bottom-color: var(--fill-color);\n",
              "    animation:\n",
              "      spin 1s steps(1) infinite;\n",
              "  }\n",
              "\n",
              "  @keyframes spin {\n",
              "    0% {\n",
              "      border-color: transparent;\n",
              "      border-bottom-color: var(--fill-color);\n",
              "      border-left-color: var(--fill-color);\n",
              "    }\n",
              "    20% {\n",
              "      border-color: transparent;\n",
              "      border-left-color: var(--fill-color);\n",
              "      border-top-color: var(--fill-color);\n",
              "    }\n",
              "    30% {\n",
              "      border-color: transparent;\n",
              "      border-left-color: var(--fill-color);\n",
              "      border-top-color: var(--fill-color);\n",
              "      border-right-color: var(--fill-color);\n",
              "    }\n",
              "    40% {\n",
              "      border-color: transparent;\n",
              "      border-right-color: var(--fill-color);\n",
              "      border-top-color: var(--fill-color);\n",
              "    }\n",
              "    60% {\n",
              "      border-color: transparent;\n",
              "      border-right-color: var(--fill-color);\n",
              "    }\n",
              "    80% {\n",
              "      border-color: transparent;\n",
              "      border-right-color: var(--fill-color);\n",
              "      border-bottom-color: var(--fill-color);\n",
              "    }\n",
              "    90% {\n",
              "      border-color: transparent;\n",
              "      border-bottom-color: var(--fill-color);\n",
              "    }\n",
              "  }\n",
              "</style>\n",
              "\n",
              "  <script>\n",
              "    async function quickchart(key) {\n",
              "      const quickchartButtonEl =\n",
              "        document.querySelector('#' + key + ' button');\n",
              "      quickchartButtonEl.disabled = true;  // To prevent multiple clicks.\n",
              "      quickchartButtonEl.classList.add('colab-df-spinner');\n",
              "      try {\n",
              "        const charts = await google.colab.kernel.invokeFunction(\n",
              "            'suggestCharts', [key], {});\n",
              "      } catch (error) {\n",
              "        console.error('Error during call to suggestCharts:', error);\n",
              "      }\n",
              "      quickchartButtonEl.classList.remove('colab-df-spinner');\n",
              "      quickchartButtonEl.classList.add('colab-df-quickchart-complete');\n",
              "    }\n",
              "    (() => {\n",
              "      let quickchartButtonEl =\n",
              "        document.querySelector('#df-0d14ca4c-933e-4bf1-9933-7bdb906564de button');\n",
              "      quickchartButtonEl.style.display =\n",
              "        google.colab.kernel.accessAllowed ? 'block' : 'none';\n",
              "    })();\n",
              "  </script>\n",
              "</div>\n",
              "    </div>\n",
              "  </div>\n"
            ]
          },
          "metadata": {},
          "execution_count": 28
        }
      ]
    },
    {
      "cell_type": "code",
      "source": [
        "apple_data.shape"
      ],
      "metadata": {
        "colab": {
          "base_uri": "https://localhost:8080/"
        },
        "id": "zYmtMEUsBuXm",
        "outputId": "70ab7438-7601-4495-dc96-75433d043b75"
      },
      "execution_count": null,
      "outputs": [
        {
          "output_type": "execute_result",
          "data": {
            "text/plain": [
              "(848, 6)"
            ]
          },
          "metadata": {},
          "execution_count": 59
        }
      ]
    },
    {
      "cell_type": "code",
      "source": [
        "import torch.nn as nn\n",
        "input_size = 1 #len(data.columns)\n",
        "hidden_size = 1  # El tamaño oculto de la capa LSTM\n",
        "num_layers = 2  # Número de capas LSTM"
      ],
      "metadata": {
        "id": "y2hFBGzpKRUt"
      },
      "execution_count": null,
      "outputs": []
    },
    {
      "cell_type": "code",
      "source": [
        "class LightningLSTM_2(L.LightningModule):\n",
        "  def __init__(self):\n",
        "    super().__init__()\n",
        "    self.lstm = nn.LSTM(input_size=input_size, hidden_size=hidden_size)\n",
        "\n",
        "\n",
        "  def forward(self, input):\n",
        "    #input_transposed = input.view(len(input), 1)  #rows = len(input), columns = 1\n",
        "    lstm_out, temp = self.lstm(input)\n",
        "\n",
        "    prediction = lstm_out[-1]\n",
        "    return prediction\n",
        "\n",
        "  def configure_optimizers(self):\n",
        "    return Adam(self.parameters(), lr=0.1)\n",
        "\n",
        "  def training_step(self, batch, batch_idx):\n",
        "    input_i, label_i = batch\n",
        "    output_i = self.forward(input_i[0])\n",
        "    loss = (output_i - label_i) ** 2\n",
        "\n",
        "    self.log(\"train loss: \", loss)\n",
        "\n",
        "    if (label_i == 0):\n",
        "      self.log(\"out_0: \", output_i)\n",
        "    else:\n",
        "      self.log(\"out_1: \", output_i)\n",
        "    return loss\n",
        "\n",
        "  def predict_next_days(self, input_sequence, days):\n",
        "        # Initialize a list to store the predictions\n",
        "        predictions = []\n",
        "\n",
        "        # Iterate for the next 30 days\n",
        "        for _ in range(days):\n",
        "            # Feed the input_sequence to the model\n",
        "            output = self.forward(input_sequence)\n",
        "            #output = output[:, :, :1]\n",
        "\n",
        "            # Append the prediction to the list\n",
        "            predictions.append(output)\n",
        "\n",
        "            # Update the input_sequence for the next iteration\n",
        "            input_sequence = torch.cat((input_sequence[1:], output.view(1, 1, -1)), dim=0)\n",
        "\n",
        "        return torch.cat(predictions, dim=0)\n",
        "\n",
        "\n"
      ],
      "metadata": {
        "id": "mwiEuYEjJ3_z"
      },
      "execution_count": null,
      "outputs": []
    },
    {
      "cell_type": "code",
      "source": [
        "apple_data_new = apple_data[::-1].reset_index(drop=False)\n",
        "apple_data_new"
      ],
      "metadata": {
        "colab": {
          "base_uri": "https://localhost:8080/",
          "height": 423
        },
        "id": "ctd2FpO7MOfH",
        "outputId": "2124c051-76e4-4b28-f9b6-c15dafcf2740"
      },
      "execution_count": null,
      "outputs": [
        {
          "output_type": "execute_result",
          "data": {
            "text/plain": [
              "          Date        Open        High         Low       Close   Adj Close  \\\n",
              "0   2023-10-05  173.789993  175.449997  172.679993  174.910004  174.910004   \n",
              "1   2023-10-04  171.089996  174.210007  170.970001  173.660004  173.660004   \n",
              "2   2023-10-03  172.259995  173.630005  170.820007  172.399994  172.399994   \n",
              "3   2023-10-02  171.220001  174.300003  170.929993  173.750000  173.750000   \n",
              "4   2023-09-29  172.020004  173.070007  170.339996  171.210007  171.210007   \n",
              "..         ...         ...         ...         ...         ...         ...   \n",
              "843 2020-06-01   79.437500   80.587502   79.302498   80.462502   78.891678   \n",
              "844 2020-05-29   79.812500   80.287498   79.117500   79.485001   77.933266   \n",
              "845 2020-05-28   79.192497   80.860001   78.907501   79.562500   78.009254   \n",
              "846 2020-05-27   79.035004   79.677498   78.272499   79.527496   77.974937   \n",
              "847 2020-05-26   80.875000   81.059998   79.125000   79.182503   77.636673   \n",
              "\n",
              "        Volume  \n",
              "0     48494400  \n",
              "1     53020300  \n",
              "2     49594600  \n",
              "3     52164500  \n",
              "4     51814200  \n",
              "..         ...  \n",
              "843   80791200  \n",
              "844  153532400  \n",
              "845  133560800  \n",
              "846  112945200  \n",
              "847  125522000  \n",
              "\n",
              "[848 rows x 7 columns]"
            ],
            "text/html": [
              "\n",
              "  <div id=\"df-d8904015-d430-47ec-a9d9-9a881ed4b29c\" class=\"colab-df-container\">\n",
              "    <div>\n",
              "<style scoped>\n",
              "    .dataframe tbody tr th:only-of-type {\n",
              "        vertical-align: middle;\n",
              "    }\n",
              "\n",
              "    .dataframe tbody tr th {\n",
              "        vertical-align: top;\n",
              "    }\n",
              "\n",
              "    .dataframe thead th {\n",
              "        text-align: right;\n",
              "    }\n",
              "</style>\n",
              "<table border=\"1\" class=\"dataframe\">\n",
              "  <thead>\n",
              "    <tr style=\"text-align: right;\">\n",
              "      <th></th>\n",
              "      <th>Date</th>\n",
              "      <th>Open</th>\n",
              "      <th>High</th>\n",
              "      <th>Low</th>\n",
              "      <th>Close</th>\n",
              "      <th>Adj Close</th>\n",
              "      <th>Volume</th>\n",
              "    </tr>\n",
              "  </thead>\n",
              "  <tbody>\n",
              "    <tr>\n",
              "      <th>0</th>\n",
              "      <td>2023-10-05</td>\n",
              "      <td>173.789993</td>\n",
              "      <td>175.449997</td>\n",
              "      <td>172.679993</td>\n",
              "      <td>174.910004</td>\n",
              "      <td>174.910004</td>\n",
              "      <td>48494400</td>\n",
              "    </tr>\n",
              "    <tr>\n",
              "      <th>1</th>\n",
              "      <td>2023-10-04</td>\n",
              "      <td>171.089996</td>\n",
              "      <td>174.210007</td>\n",
              "      <td>170.970001</td>\n",
              "      <td>173.660004</td>\n",
              "      <td>173.660004</td>\n",
              "      <td>53020300</td>\n",
              "    </tr>\n",
              "    <tr>\n",
              "      <th>2</th>\n",
              "      <td>2023-10-03</td>\n",
              "      <td>172.259995</td>\n",
              "      <td>173.630005</td>\n",
              "      <td>170.820007</td>\n",
              "      <td>172.399994</td>\n",
              "      <td>172.399994</td>\n",
              "      <td>49594600</td>\n",
              "    </tr>\n",
              "    <tr>\n",
              "      <th>3</th>\n",
              "      <td>2023-10-02</td>\n",
              "      <td>171.220001</td>\n",
              "      <td>174.300003</td>\n",
              "      <td>170.929993</td>\n",
              "      <td>173.750000</td>\n",
              "      <td>173.750000</td>\n",
              "      <td>52164500</td>\n",
              "    </tr>\n",
              "    <tr>\n",
              "      <th>4</th>\n",
              "      <td>2023-09-29</td>\n",
              "      <td>172.020004</td>\n",
              "      <td>173.070007</td>\n",
              "      <td>170.339996</td>\n",
              "      <td>171.210007</td>\n",
              "      <td>171.210007</td>\n",
              "      <td>51814200</td>\n",
              "    </tr>\n",
              "    <tr>\n",
              "      <th>...</th>\n",
              "      <td>...</td>\n",
              "      <td>...</td>\n",
              "      <td>...</td>\n",
              "      <td>...</td>\n",
              "      <td>...</td>\n",
              "      <td>...</td>\n",
              "      <td>...</td>\n",
              "    </tr>\n",
              "    <tr>\n",
              "      <th>843</th>\n",
              "      <td>2020-06-01</td>\n",
              "      <td>79.437500</td>\n",
              "      <td>80.587502</td>\n",
              "      <td>79.302498</td>\n",
              "      <td>80.462502</td>\n",
              "      <td>78.891678</td>\n",
              "      <td>80791200</td>\n",
              "    </tr>\n",
              "    <tr>\n",
              "      <th>844</th>\n",
              "      <td>2020-05-29</td>\n",
              "      <td>79.812500</td>\n",
              "      <td>80.287498</td>\n",
              "      <td>79.117500</td>\n",
              "      <td>79.485001</td>\n",
              "      <td>77.933266</td>\n",
              "      <td>153532400</td>\n",
              "    </tr>\n",
              "    <tr>\n",
              "      <th>845</th>\n",
              "      <td>2020-05-28</td>\n",
              "      <td>79.192497</td>\n",
              "      <td>80.860001</td>\n",
              "      <td>78.907501</td>\n",
              "      <td>79.562500</td>\n",
              "      <td>78.009254</td>\n",
              "      <td>133560800</td>\n",
              "    </tr>\n",
              "    <tr>\n",
              "      <th>846</th>\n",
              "      <td>2020-05-27</td>\n",
              "      <td>79.035004</td>\n",
              "      <td>79.677498</td>\n",
              "      <td>78.272499</td>\n",
              "      <td>79.527496</td>\n",
              "      <td>77.974937</td>\n",
              "      <td>112945200</td>\n",
              "    </tr>\n",
              "    <tr>\n",
              "      <th>847</th>\n",
              "      <td>2020-05-26</td>\n",
              "      <td>80.875000</td>\n",
              "      <td>81.059998</td>\n",
              "      <td>79.125000</td>\n",
              "      <td>79.182503</td>\n",
              "      <td>77.636673</td>\n",
              "      <td>125522000</td>\n",
              "    </tr>\n",
              "  </tbody>\n",
              "</table>\n",
              "<p>848 rows × 7 columns</p>\n",
              "</div>\n",
              "    <div class=\"colab-df-buttons\">\n",
              "\n",
              "  <div class=\"colab-df-container\">\n",
              "    <button class=\"colab-df-convert\" onclick=\"convertToInteractive('df-d8904015-d430-47ec-a9d9-9a881ed4b29c')\"\n",
              "            title=\"Convert this dataframe to an interactive table.\"\n",
              "            style=\"display:none;\">\n",
              "\n",
              "  <svg xmlns=\"http://www.w3.org/2000/svg\" height=\"24px\" viewBox=\"0 -960 960 960\">\n",
              "    <path d=\"M120-120v-720h720v720H120Zm60-500h600v-160H180v160Zm220 220h160v-160H400v160Zm0 220h160v-160H400v160ZM180-400h160v-160H180v160Zm440 0h160v-160H620v160ZM180-180h160v-160H180v160Zm440 0h160v-160H620v160Z\"/>\n",
              "  </svg>\n",
              "    </button>\n",
              "\n",
              "  <style>\n",
              "    .colab-df-container {\n",
              "      display:flex;\n",
              "      gap: 12px;\n",
              "    }\n",
              "\n",
              "    .colab-df-convert {\n",
              "      background-color: #E8F0FE;\n",
              "      border: none;\n",
              "      border-radius: 50%;\n",
              "      cursor: pointer;\n",
              "      display: none;\n",
              "      fill: #1967D2;\n",
              "      height: 32px;\n",
              "      padding: 0 0 0 0;\n",
              "      width: 32px;\n",
              "    }\n",
              "\n",
              "    .colab-df-convert:hover {\n",
              "      background-color: #E2EBFA;\n",
              "      box-shadow: 0px 1px 2px rgba(60, 64, 67, 0.3), 0px 1px 3px 1px rgba(60, 64, 67, 0.15);\n",
              "      fill: #174EA6;\n",
              "    }\n",
              "\n",
              "    .colab-df-buttons div {\n",
              "      margin-bottom: 4px;\n",
              "    }\n",
              "\n",
              "    [theme=dark] .colab-df-convert {\n",
              "      background-color: #3B4455;\n",
              "      fill: #D2E3FC;\n",
              "    }\n",
              "\n",
              "    [theme=dark] .colab-df-convert:hover {\n",
              "      background-color: #434B5C;\n",
              "      box-shadow: 0px 1px 3px 1px rgba(0, 0, 0, 0.15);\n",
              "      filter: drop-shadow(0px 1px 2px rgba(0, 0, 0, 0.3));\n",
              "      fill: #FFFFFF;\n",
              "    }\n",
              "  </style>\n",
              "\n",
              "    <script>\n",
              "      const buttonEl =\n",
              "        document.querySelector('#df-d8904015-d430-47ec-a9d9-9a881ed4b29c button.colab-df-convert');\n",
              "      buttonEl.style.display =\n",
              "        google.colab.kernel.accessAllowed ? 'block' : 'none';\n",
              "\n",
              "      async function convertToInteractive(key) {\n",
              "        const element = document.querySelector('#df-d8904015-d430-47ec-a9d9-9a881ed4b29c');\n",
              "        const dataTable =\n",
              "          await google.colab.kernel.invokeFunction('convertToInteractive',\n",
              "                                                    [key], {});\n",
              "        if (!dataTable) return;\n",
              "\n",
              "        const docLinkHtml = 'Like what you see? Visit the ' +\n",
              "          '<a target=\"_blank\" href=https://colab.research.google.com/notebooks/data_table.ipynb>data table notebook</a>'\n",
              "          + ' to learn more about interactive tables.';\n",
              "        element.innerHTML = '';\n",
              "        dataTable['output_type'] = 'display_data';\n",
              "        await google.colab.output.renderOutput(dataTable, element);\n",
              "        const docLink = document.createElement('div');\n",
              "        docLink.innerHTML = docLinkHtml;\n",
              "        element.appendChild(docLink);\n",
              "      }\n",
              "    </script>\n",
              "  </div>\n",
              "\n",
              "\n",
              "<div id=\"df-9290c5d3-5737-4d81-974e-4942b580023c\">\n",
              "  <button class=\"colab-df-quickchart\" onclick=\"quickchart('df-9290c5d3-5737-4d81-974e-4942b580023c')\"\n",
              "            title=\"Suggest charts.\"\n",
              "            style=\"display:none;\">\n",
              "\n",
              "<svg xmlns=\"http://www.w3.org/2000/svg\" height=\"24px\"viewBox=\"0 0 24 24\"\n",
              "     width=\"24px\">\n",
              "    <g>\n",
              "        <path d=\"M19 3H5c-1.1 0-2 .9-2 2v14c0 1.1.9 2 2 2h14c1.1 0 2-.9 2-2V5c0-1.1-.9-2-2-2zM9 17H7v-7h2v7zm4 0h-2V7h2v10zm4 0h-2v-4h2v4z\"/>\n",
              "    </g>\n",
              "</svg>\n",
              "  </button>\n",
              "\n",
              "<style>\n",
              "  .colab-df-quickchart {\n",
              "      --bg-color: #E8F0FE;\n",
              "      --fill-color: #1967D2;\n",
              "      --hover-bg-color: #E2EBFA;\n",
              "      --hover-fill-color: #174EA6;\n",
              "      --disabled-fill-color: #AAA;\n",
              "      --disabled-bg-color: #DDD;\n",
              "  }\n",
              "\n",
              "  [theme=dark] .colab-df-quickchart {\n",
              "      --bg-color: #3B4455;\n",
              "      --fill-color: #D2E3FC;\n",
              "      --hover-bg-color: #434B5C;\n",
              "      --hover-fill-color: #FFFFFF;\n",
              "      --disabled-bg-color: #3B4455;\n",
              "      --disabled-fill-color: #666;\n",
              "  }\n",
              "\n",
              "  .colab-df-quickchart {\n",
              "    background-color: var(--bg-color);\n",
              "    border: none;\n",
              "    border-radius: 50%;\n",
              "    cursor: pointer;\n",
              "    display: none;\n",
              "    fill: var(--fill-color);\n",
              "    height: 32px;\n",
              "    padding: 0;\n",
              "    width: 32px;\n",
              "  }\n",
              "\n",
              "  .colab-df-quickchart:hover {\n",
              "    background-color: var(--hover-bg-color);\n",
              "    box-shadow: 0 1px 2px rgba(60, 64, 67, 0.3), 0 1px 3px 1px rgba(60, 64, 67, 0.15);\n",
              "    fill: var(--button-hover-fill-color);\n",
              "  }\n",
              "\n",
              "  .colab-df-quickchart-complete:disabled,\n",
              "  .colab-df-quickchart-complete:disabled:hover {\n",
              "    background-color: var(--disabled-bg-color);\n",
              "    fill: var(--disabled-fill-color);\n",
              "    box-shadow: none;\n",
              "  }\n",
              "\n",
              "  .colab-df-spinner {\n",
              "    border: 2px solid var(--fill-color);\n",
              "    border-color: transparent;\n",
              "    border-bottom-color: var(--fill-color);\n",
              "    animation:\n",
              "      spin 1s steps(1) infinite;\n",
              "  }\n",
              "\n",
              "  @keyframes spin {\n",
              "    0% {\n",
              "      border-color: transparent;\n",
              "      border-bottom-color: var(--fill-color);\n",
              "      border-left-color: var(--fill-color);\n",
              "    }\n",
              "    20% {\n",
              "      border-color: transparent;\n",
              "      border-left-color: var(--fill-color);\n",
              "      border-top-color: var(--fill-color);\n",
              "    }\n",
              "    30% {\n",
              "      border-color: transparent;\n",
              "      border-left-color: var(--fill-color);\n",
              "      border-top-color: var(--fill-color);\n",
              "      border-right-color: var(--fill-color);\n",
              "    }\n",
              "    40% {\n",
              "      border-color: transparent;\n",
              "      border-right-color: var(--fill-color);\n",
              "      border-top-color: var(--fill-color);\n",
              "    }\n",
              "    60% {\n",
              "      border-color: transparent;\n",
              "      border-right-color: var(--fill-color);\n",
              "    }\n",
              "    80% {\n",
              "      border-color: transparent;\n",
              "      border-right-color: var(--fill-color);\n",
              "      border-bottom-color: var(--fill-color);\n",
              "    }\n",
              "    90% {\n",
              "      border-color: transparent;\n",
              "      border-bottom-color: var(--fill-color);\n",
              "    }\n",
              "  }\n",
              "</style>\n",
              "\n",
              "  <script>\n",
              "    async function quickchart(key) {\n",
              "      const quickchartButtonEl =\n",
              "        document.querySelector('#' + key + ' button');\n",
              "      quickchartButtonEl.disabled = true;  // To prevent multiple clicks.\n",
              "      quickchartButtonEl.classList.add('colab-df-spinner');\n",
              "      try {\n",
              "        const charts = await google.colab.kernel.invokeFunction(\n",
              "            'suggestCharts', [key], {});\n",
              "      } catch (error) {\n",
              "        console.error('Error during call to suggestCharts:', error);\n",
              "      }\n",
              "      quickchartButtonEl.classList.remove('colab-df-spinner');\n",
              "      quickchartButtonEl.classList.add('colab-df-quickchart-complete');\n",
              "    }\n",
              "    (() => {\n",
              "      let quickchartButtonEl =\n",
              "        document.querySelector('#df-9290c5d3-5737-4d81-974e-4942b580023c button');\n",
              "      quickchartButtonEl.style.display =\n",
              "        google.colab.kernel.accessAllowed ? 'block' : 'none';\n",
              "    })();\n",
              "  </script>\n",
              "</div>\n",
              "    </div>\n",
              "  </div>\n"
            ]
          },
          "metadata": {},
          "execution_count": 355
        }
      ]
    },
    {
      "cell_type": "code",
      "source": [
        "apple_data_new[\"Open\"].dtypes"
      ],
      "metadata": {
        "colab": {
          "base_uri": "https://localhost:8080/"
        },
        "id": "maWt7rVHOnzO",
        "outputId": "35d49c0e-defd-4d97-85cf-0c7f75633cee"
      },
      "execution_count": null,
      "outputs": [
        {
          "output_type": "execute_result",
          "data": {
            "text/plain": [
              "dtype('float64')"
            ]
          },
          "metadata": {},
          "execution_count": 356
        }
      ]
    },
    {
      "cell_type": "code",
      "source": [
        "data_array = apple_data_new.values[:,1:-1]\n",
        "data_array = data_array.astype(np.float32)"
      ],
      "metadata": {
        "id": "2BVcYILMKt-N"
      },
      "execution_count": null,
      "outputs": []
    },
    {
      "cell_type": "code",
      "source": [
        "data_array"
      ],
      "metadata": {
        "colab": {
          "base_uri": "https://localhost:8080/"
        },
        "id": "PUgB31lmKu0S",
        "outputId": "cfd1393d-238c-4811-b1a5-8df771a5962b"
      },
      "execution_count": null,
      "outputs": [
        {
          "output_type": "execute_result",
          "data": {
            "text/plain": [
              "array([[173.79    , 175.45    , 172.68    , 174.91    , 174.91    ],\n",
              "       [171.09    , 174.21    , 170.97    , 173.66    , 173.66    ],\n",
              "       [172.26    , 173.63    , 170.82    , 172.4     , 172.4     ],\n",
              "       ...,\n",
              "       [ 79.1925  ,  80.86    ,  78.9075  ,  79.5625  ,  78.009254],\n",
              "       [ 79.035   ,  79.6775  ,  78.2725  ,  79.5275  ,  77.97494 ],\n",
              "       [ 80.875   ,  81.06    ,  79.125   ,  79.1825  ,  77.63667 ]],\n",
              "      dtype=float32)"
            ]
          },
          "metadata": {},
          "execution_count": 358
        }
      ]
    },
    {
      "cell_type": "code",
      "source": [
        "data_tensor = torch.tensor(data_array, dtype=torch.float32)\n"
      ],
      "metadata": {
        "id": "7JN17RbbMG_C"
      },
      "execution_count": null,
      "outputs": []
    },
    {
      "cell_type": "code",
      "source": [
        "data_tensor.shape"
      ],
      "metadata": {
        "colab": {
          "base_uri": "https://localhost:8080/"
        },
        "id": "7DL7nmhkOdEx",
        "outputId": "09e2fa1d-4f5c-49b3-d2e9-9c47810fc42d"
      },
      "execution_count": null,
      "outputs": [
        {
          "output_type": "execute_result",
          "data": {
            "text/plain": [
              "torch.Size([848, 5])"
            ]
          },
          "metadata": {},
          "execution_count": 360
        }
      ]
    },
    {
      "cell_type": "code",
      "source": [
        "input_sequences_tensor.shape"
      ],
      "metadata": {
        "colab": {
          "base_uri": "https://localhost:8080/"
        },
        "id": "pQ3kNTnBQFd4",
        "outputId": "55cec81c-de38-45ff-cab7-e5e03533322d"
      },
      "execution_count": null,
      "outputs": [
        {
          "output_type": "execute_result",
          "data": {
            "text/plain": [
              "torch.Size([819, 30, 5])"
            ]
          },
          "metadata": {},
          "execution_count": 361
        }
      ]
    },
    {
      "cell_type": "code",
      "source": [
        "output.shape"
      ],
      "metadata": {
        "colab": {
          "base_uri": "https://localhost:8080/"
        },
        "id": "Olgpwl5Mr1TV",
        "outputId": "a2e2c6ac-4afc-4f20-86db-fd04d510aa99"
      },
      "execution_count": null,
      "outputs": [
        {
          "output_type": "execute_result",
          "data": {
            "text/plain": [
              "torch.Size([1, 1, 30])"
            ]
          },
          "metadata": {},
          "execution_count": 363
        }
      ]
    },
    {
      "cell_type": "code",
      "source": [],
      "metadata": {
        "id": "FK_2sq0Jwnwa"
      },
      "execution_count": null,
      "outputs": []
    }
  ]
}