{
  "nbformat": 4,
  "nbformat_minor": 0,
  "metadata": {
    "colab": {
      "provenance": []
    },
    "kernelspec": {
      "name": "python3",
      "display_name": "Python 3"
    },
    "language_info": {
      "name": "python"
    }
  },
  "cells": [
    {
      "cell_type": "markdown",
      "source": [
        "# Churn Model - Artificial Neural Network"
      ],
      "metadata": {
        "id": "laifINp0mSdt"
      }
    },
    {
      "cell_type": "markdown",
      "source": [
        "Churn models, or customer churn models, are used in business to predict which customers are most likely to abandon or terminate their business relationship with a company in the near future. These models are especially useful for companies that operate in industries where customer retention is crucial, such as telecommunications, subscription services, banking, and insurance.\n",
        "\n"
      ],
      "metadata": {
        "id": "F_oVPhsxAHDC"
      }
    },
    {
      "cell_type": "markdown",
      "source": [
        "## Data Ingestion"
      ],
      "metadata": {
        "id": "h79ZsfS8mPZj"
      }
    },
    {
      "cell_type": "code",
      "execution_count": null,
      "metadata": {
        "id": "KcRpjWeSkom6"
      },
      "outputs": [],
      "source": [
        "import pandas as pd\n",
        "import numpy as np\n",
        "import matplotlib.pyplot as plt\n",
        "\n",
        "dataset = pd.read_csv(\"/content/drive/MyDrive/deeplearning/Churn_Modelling.csv\")"
      ]
    },
    {
      "cell_type": "code",
      "source": [
        "dataset.head()"
      ],
      "metadata": {
        "colab": {
          "base_uri": "https://localhost:8080/",
          "height": 206
        },
        "id": "cCNTK4C8k0Xv",
        "outputId": "1f2f5263-14b9-499e-b47b-b9caa02cc104"
      },
      "execution_count": null,
      "outputs": [
        {
          "output_type": "execute_result",
          "data": {
            "text/plain": [
              "   RowNumber  CustomerId   Surname  CreditScore Geography  Gender  Age  \\\n",
              "0          1    15634602  Hargrave          619    France  Female   42   \n",
              "1          2    15647311      Hill          608     Spain  Female   41   \n",
              "2          3    15619304      Onio          502    France  Female   42   \n",
              "3          4    15701354      Boni          699    France  Female   39   \n",
              "4          5    15737888  Mitchell          850     Spain  Female   43   \n",
              "\n",
              "   Tenure    Balance  NumOfProducts  HasCrCard  IsActiveMember  \\\n",
              "0       2       0.00              1          1               1   \n",
              "1       1   83807.86              1          0               1   \n",
              "2       8  159660.80              3          1               0   \n",
              "3       1       0.00              2          0               0   \n",
              "4       2  125510.82              1          1               1   \n",
              "\n",
              "   EstimatedSalary  Exited  \n",
              "0        101348.88       1  \n",
              "1        112542.58       0  \n",
              "2        113931.57       1  \n",
              "3         93826.63       0  \n",
              "4         79084.10       0  "
            ],
            "text/html": [
              "\n",
              "  <div id=\"df-c7d60f27-2c69-40e2-9a1d-4720fffa035c\">\n",
              "    <div class=\"colab-df-container\">\n",
              "      <div>\n",
              "<style scoped>\n",
              "    .dataframe tbody tr th:only-of-type {\n",
              "        vertical-align: middle;\n",
              "    }\n",
              "\n",
              "    .dataframe tbody tr th {\n",
              "        vertical-align: top;\n",
              "    }\n",
              "\n",
              "    .dataframe thead th {\n",
              "        text-align: right;\n",
              "    }\n",
              "</style>\n",
              "<table border=\"1\" class=\"dataframe\">\n",
              "  <thead>\n",
              "    <tr style=\"text-align: right;\">\n",
              "      <th></th>\n",
              "      <th>RowNumber</th>\n",
              "      <th>CustomerId</th>\n",
              "      <th>Surname</th>\n",
              "      <th>CreditScore</th>\n",
              "      <th>Geography</th>\n",
              "      <th>Gender</th>\n",
              "      <th>Age</th>\n",
              "      <th>Tenure</th>\n",
              "      <th>Balance</th>\n",
              "      <th>NumOfProducts</th>\n",
              "      <th>HasCrCard</th>\n",
              "      <th>IsActiveMember</th>\n",
              "      <th>EstimatedSalary</th>\n",
              "      <th>Exited</th>\n",
              "    </tr>\n",
              "  </thead>\n",
              "  <tbody>\n",
              "    <tr>\n",
              "      <th>0</th>\n",
              "      <td>1</td>\n",
              "      <td>15634602</td>\n",
              "      <td>Hargrave</td>\n",
              "      <td>619</td>\n",
              "      <td>France</td>\n",
              "      <td>Female</td>\n",
              "      <td>42</td>\n",
              "      <td>2</td>\n",
              "      <td>0.00</td>\n",
              "      <td>1</td>\n",
              "      <td>1</td>\n",
              "      <td>1</td>\n",
              "      <td>101348.88</td>\n",
              "      <td>1</td>\n",
              "    </tr>\n",
              "    <tr>\n",
              "      <th>1</th>\n",
              "      <td>2</td>\n",
              "      <td>15647311</td>\n",
              "      <td>Hill</td>\n",
              "      <td>608</td>\n",
              "      <td>Spain</td>\n",
              "      <td>Female</td>\n",
              "      <td>41</td>\n",
              "      <td>1</td>\n",
              "      <td>83807.86</td>\n",
              "      <td>1</td>\n",
              "      <td>0</td>\n",
              "      <td>1</td>\n",
              "      <td>112542.58</td>\n",
              "      <td>0</td>\n",
              "    </tr>\n",
              "    <tr>\n",
              "      <th>2</th>\n",
              "      <td>3</td>\n",
              "      <td>15619304</td>\n",
              "      <td>Onio</td>\n",
              "      <td>502</td>\n",
              "      <td>France</td>\n",
              "      <td>Female</td>\n",
              "      <td>42</td>\n",
              "      <td>8</td>\n",
              "      <td>159660.80</td>\n",
              "      <td>3</td>\n",
              "      <td>1</td>\n",
              "      <td>0</td>\n",
              "      <td>113931.57</td>\n",
              "      <td>1</td>\n",
              "    </tr>\n",
              "    <tr>\n",
              "      <th>3</th>\n",
              "      <td>4</td>\n",
              "      <td>15701354</td>\n",
              "      <td>Boni</td>\n",
              "      <td>699</td>\n",
              "      <td>France</td>\n",
              "      <td>Female</td>\n",
              "      <td>39</td>\n",
              "      <td>1</td>\n",
              "      <td>0.00</td>\n",
              "      <td>2</td>\n",
              "      <td>0</td>\n",
              "      <td>0</td>\n",
              "      <td>93826.63</td>\n",
              "      <td>0</td>\n",
              "    </tr>\n",
              "    <tr>\n",
              "      <th>4</th>\n",
              "      <td>5</td>\n",
              "      <td>15737888</td>\n",
              "      <td>Mitchell</td>\n",
              "      <td>850</td>\n",
              "      <td>Spain</td>\n",
              "      <td>Female</td>\n",
              "      <td>43</td>\n",
              "      <td>2</td>\n",
              "      <td>125510.82</td>\n",
              "      <td>1</td>\n",
              "      <td>1</td>\n",
              "      <td>1</td>\n",
              "      <td>79084.10</td>\n",
              "      <td>0</td>\n",
              "    </tr>\n",
              "  </tbody>\n",
              "</table>\n",
              "</div>\n",
              "      <button class=\"colab-df-convert\" onclick=\"convertToInteractive('df-c7d60f27-2c69-40e2-9a1d-4720fffa035c')\"\n",
              "              title=\"Convert this dataframe to an interactive table.\"\n",
              "              style=\"display:none;\">\n",
              "        \n",
              "  <svg xmlns=\"http://www.w3.org/2000/svg\" height=\"24px\"viewBox=\"0 0 24 24\"\n",
              "       width=\"24px\">\n",
              "    <path d=\"M0 0h24v24H0V0z\" fill=\"none\"/>\n",
              "    <path d=\"M18.56 5.44l.94 2.06.94-2.06 2.06-.94-2.06-.94-.94-2.06-.94 2.06-2.06.94zm-11 1L8.5 8.5l.94-2.06 2.06-.94-2.06-.94L8.5 2.5l-.94 2.06-2.06.94zm10 10l.94 2.06.94-2.06 2.06-.94-2.06-.94-.94-2.06-.94 2.06-2.06.94z\"/><path d=\"M17.41 7.96l-1.37-1.37c-.4-.4-.92-.59-1.43-.59-.52 0-1.04.2-1.43.59L10.3 9.45l-7.72 7.72c-.78.78-.78 2.05 0 2.83L4 21.41c.39.39.9.59 1.41.59.51 0 1.02-.2 1.41-.59l7.78-7.78 2.81-2.81c.8-.78.8-2.07 0-2.86zM5.41 20L4 18.59l7.72-7.72 1.47 1.35L5.41 20z\"/>\n",
              "  </svg>\n",
              "      </button>\n",
              "      \n",
              "  <style>\n",
              "    .colab-df-container {\n",
              "      display:flex;\n",
              "      flex-wrap:wrap;\n",
              "      gap: 12px;\n",
              "    }\n",
              "\n",
              "    .colab-df-convert {\n",
              "      background-color: #E8F0FE;\n",
              "      border: none;\n",
              "      border-radius: 50%;\n",
              "      cursor: pointer;\n",
              "      display: none;\n",
              "      fill: #1967D2;\n",
              "      height: 32px;\n",
              "      padding: 0 0 0 0;\n",
              "      width: 32px;\n",
              "    }\n",
              "\n",
              "    .colab-df-convert:hover {\n",
              "      background-color: #E2EBFA;\n",
              "      box-shadow: 0px 1px 2px rgba(60, 64, 67, 0.3), 0px 1px 3px 1px rgba(60, 64, 67, 0.15);\n",
              "      fill: #174EA6;\n",
              "    }\n",
              "\n",
              "    [theme=dark] .colab-df-convert {\n",
              "      background-color: #3B4455;\n",
              "      fill: #D2E3FC;\n",
              "    }\n",
              "\n",
              "    [theme=dark] .colab-df-convert:hover {\n",
              "      background-color: #434B5C;\n",
              "      box-shadow: 0px 1px 3px 1px rgba(0, 0, 0, 0.15);\n",
              "      filter: drop-shadow(0px 1px 2px rgba(0, 0, 0, 0.3));\n",
              "      fill: #FFFFFF;\n",
              "    }\n",
              "  </style>\n",
              "\n",
              "      <script>\n",
              "        const buttonEl =\n",
              "          document.querySelector('#df-c7d60f27-2c69-40e2-9a1d-4720fffa035c button.colab-df-convert');\n",
              "        buttonEl.style.display =\n",
              "          google.colab.kernel.accessAllowed ? 'block' : 'none';\n",
              "\n",
              "        async function convertToInteractive(key) {\n",
              "          const element = document.querySelector('#df-c7d60f27-2c69-40e2-9a1d-4720fffa035c');\n",
              "          const dataTable =\n",
              "            await google.colab.kernel.invokeFunction('convertToInteractive',\n",
              "                                                     [key], {});\n",
              "          if (!dataTable) return;\n",
              "\n",
              "          const docLinkHtml = 'Like what you see? Visit the ' +\n",
              "            '<a target=\"_blank\" href=https://colab.research.google.com/notebooks/data_table.ipynb>data table notebook</a>'\n",
              "            + ' to learn more about interactive tables.';\n",
              "          element.innerHTML = '';\n",
              "          dataTable['output_type'] = 'display_data';\n",
              "          await google.colab.output.renderOutput(dataTable, element);\n",
              "          const docLink = document.createElement('div');\n",
              "          docLink.innerHTML = docLinkHtml;\n",
              "          element.appendChild(docLink);\n",
              "        }\n",
              "      </script>\n",
              "    </div>\n",
              "  </div>\n",
              "  "
            ]
          },
          "metadata": {},
          "execution_count": 3
        }
      ]
    },
    {
      "cell_type": "code",
      "source": [
        "dataset.count()"
      ],
      "metadata": {
        "colab": {
          "base_uri": "https://localhost:8080/"
        },
        "id": "AeCbWNp0pPmI",
        "outputId": "7893e763-0a5c-4c41-aa5e-6fb4b41d3ea0"
      },
      "execution_count": null,
      "outputs": [
        {
          "output_type": "execute_result",
          "data": {
            "text/plain": [
              "RowNumber          10000\n",
              "CustomerId         10000\n",
              "Surname            10000\n",
              "CreditScore        10000\n",
              "Geography          10000\n",
              "Gender             10000\n",
              "Age                10000\n",
              "Tenure             10000\n",
              "Balance            10000\n",
              "NumOfProducts      10000\n",
              "HasCrCard          10000\n",
              "IsActiveMember     10000\n",
              "EstimatedSalary    10000\n",
              "Exited             10000\n",
              "dtype: int64"
            ]
          },
          "metadata": {},
          "execution_count": 4
        }
      ]
    },
    {
      "cell_type": "code",
      "source": [
        "# RowNumber, CustomerId, Surname are not neccesary.\n",
        "\n",
        "X = dataset.iloc[:, 3:13].values\n",
        "y = dataset.iloc[:, 13].values"
      ],
      "metadata": {
        "id": "SIkaYQBWk3nc"
      },
      "execution_count": null,
      "outputs": []
    },
    {
      "cell_type": "code",
      "source": [
        "!pip install tensorflow\n",
        "!pip install Theano\n",
        "!pip install keras"
      ],
      "metadata": {
        "colab": {
          "base_uri": "https://localhost:8080/"
        },
        "id": "JtBEAIv0k-Rq",
        "outputId": "df406817-27b3-422e-a699-33aaca3d923d"
      },
      "execution_count": null,
      "outputs": [
        {
          "output_type": "stream",
          "name": "stdout",
          "text": [
            "Looking in indexes: https://pypi.org/simple, https://us-python.pkg.dev/colab-wheels/public/simple/\n",
            "Requirement already satisfied: tensorflow in /usr/local/lib/python3.10/dist-packages (2.12.0)\n",
            "Requirement already satisfied: absl-py>=1.0.0 in /usr/local/lib/python3.10/dist-packages (from tensorflow) (1.4.0)\n",
            "Requirement already satisfied: astunparse>=1.6.0 in /usr/local/lib/python3.10/dist-packages (from tensorflow) (1.6.3)\n",
            "Requirement already satisfied: flatbuffers>=2.0 in /usr/local/lib/python3.10/dist-packages (from tensorflow) (23.5.26)\n",
            "Requirement already satisfied: gast<=0.4.0,>=0.2.1 in /usr/local/lib/python3.10/dist-packages (from tensorflow) (0.4.0)\n",
            "Requirement already satisfied: google-pasta>=0.1.1 in /usr/local/lib/python3.10/dist-packages (from tensorflow) (0.2.0)\n",
            "Requirement already satisfied: grpcio<2.0,>=1.24.3 in /usr/local/lib/python3.10/dist-packages (from tensorflow) (1.54.2)\n",
            "Requirement already satisfied: h5py>=2.9.0 in /usr/local/lib/python3.10/dist-packages (from tensorflow) (3.8.0)\n",
            "Requirement already satisfied: jax>=0.3.15 in /usr/local/lib/python3.10/dist-packages (from tensorflow) (0.4.10)\n",
            "Requirement already satisfied: keras<2.13,>=2.12.0 in /usr/local/lib/python3.10/dist-packages (from tensorflow) (2.12.0)\n",
            "Requirement already satisfied: libclang>=13.0.0 in /usr/local/lib/python3.10/dist-packages (from tensorflow) (16.0.0)\n",
            "Requirement already satisfied: numpy<1.24,>=1.22 in /usr/local/lib/python3.10/dist-packages (from tensorflow) (1.22.4)\n",
            "Requirement already satisfied: opt-einsum>=2.3.2 in /usr/local/lib/python3.10/dist-packages (from tensorflow) (3.3.0)\n",
            "Requirement already satisfied: packaging in /usr/local/lib/python3.10/dist-packages (from tensorflow) (23.1)\n",
            "Requirement already satisfied: protobuf!=4.21.0,!=4.21.1,!=4.21.2,!=4.21.3,!=4.21.4,!=4.21.5,<5.0.0dev,>=3.20.3 in /usr/local/lib/python3.10/dist-packages (from tensorflow) (3.20.3)\n",
            "Requirement already satisfied: setuptools in /usr/local/lib/python3.10/dist-packages (from tensorflow) (67.7.2)\n",
            "Requirement already satisfied: six>=1.12.0 in /usr/local/lib/python3.10/dist-packages (from tensorflow) (1.16.0)\n",
            "Requirement already satisfied: tensorboard<2.13,>=2.12 in /usr/local/lib/python3.10/dist-packages (from tensorflow) (2.12.3)\n",
            "Requirement already satisfied: tensorflow-estimator<2.13,>=2.12.0 in /usr/local/lib/python3.10/dist-packages (from tensorflow) (2.12.0)\n",
            "Requirement already satisfied: termcolor>=1.1.0 in /usr/local/lib/python3.10/dist-packages (from tensorflow) (2.3.0)\n",
            "Requirement already satisfied: typing-extensions>=3.6.6 in /usr/local/lib/python3.10/dist-packages (from tensorflow) (4.6.3)\n",
            "Requirement already satisfied: wrapt<1.15,>=1.11.0 in /usr/local/lib/python3.10/dist-packages (from tensorflow) (1.14.1)\n",
            "Requirement already satisfied: tensorflow-io-gcs-filesystem>=0.23.1 in /usr/local/lib/python3.10/dist-packages (from tensorflow) (0.32.0)\n",
            "Requirement already satisfied: wheel<1.0,>=0.23.0 in /usr/local/lib/python3.10/dist-packages (from astunparse>=1.6.0->tensorflow) (0.40.0)\n",
            "Requirement already satisfied: ml-dtypes>=0.1.0 in /usr/local/lib/python3.10/dist-packages (from jax>=0.3.15->tensorflow) (0.2.0)\n",
            "Requirement already satisfied: scipy>=1.7 in /usr/local/lib/python3.10/dist-packages (from jax>=0.3.15->tensorflow) (1.10.1)\n",
            "Requirement already satisfied: google-auth<3,>=1.6.3 in /usr/local/lib/python3.10/dist-packages (from tensorboard<2.13,>=2.12->tensorflow) (2.17.3)\n",
            "Requirement already satisfied: google-auth-oauthlib<1.1,>=0.5 in /usr/local/lib/python3.10/dist-packages (from tensorboard<2.13,>=2.12->tensorflow) (1.0.0)\n",
            "Requirement already satisfied: markdown>=2.6.8 in /usr/local/lib/python3.10/dist-packages (from tensorboard<2.13,>=2.12->tensorflow) (3.4.3)\n",
            "Requirement already satisfied: requests<3,>=2.21.0 in /usr/local/lib/python3.10/dist-packages (from tensorboard<2.13,>=2.12->tensorflow) (2.27.1)\n",
            "Requirement already satisfied: tensorboard-data-server<0.8.0,>=0.7.0 in /usr/local/lib/python3.10/dist-packages (from tensorboard<2.13,>=2.12->tensorflow) (0.7.1)\n",
            "Requirement already satisfied: werkzeug>=1.0.1 in /usr/local/lib/python3.10/dist-packages (from tensorboard<2.13,>=2.12->tensorflow) (2.3.6)\n",
            "Requirement already satisfied: cachetools<6.0,>=2.0.0 in /usr/local/lib/python3.10/dist-packages (from google-auth<3,>=1.6.3->tensorboard<2.13,>=2.12->tensorflow) (5.3.1)\n",
            "Requirement already satisfied: pyasn1-modules>=0.2.1 in /usr/local/lib/python3.10/dist-packages (from google-auth<3,>=1.6.3->tensorboard<2.13,>=2.12->tensorflow) (0.3.0)\n",
            "Requirement already satisfied: rsa<5,>=3.1.4 in /usr/local/lib/python3.10/dist-packages (from google-auth<3,>=1.6.3->tensorboard<2.13,>=2.12->tensorflow) (4.9)\n",
            "Requirement already satisfied: requests-oauthlib>=0.7.0 in /usr/local/lib/python3.10/dist-packages (from google-auth-oauthlib<1.1,>=0.5->tensorboard<2.13,>=2.12->tensorflow) (1.3.1)\n",
            "Requirement already satisfied: urllib3<1.27,>=1.21.1 in /usr/local/lib/python3.10/dist-packages (from requests<3,>=2.21.0->tensorboard<2.13,>=2.12->tensorflow) (1.26.16)\n",
            "Requirement already satisfied: certifi>=2017.4.17 in /usr/local/lib/python3.10/dist-packages (from requests<3,>=2.21.0->tensorboard<2.13,>=2.12->tensorflow) (2023.5.7)\n",
            "Requirement already satisfied: charset-normalizer~=2.0.0 in /usr/local/lib/python3.10/dist-packages (from requests<3,>=2.21.0->tensorboard<2.13,>=2.12->tensorflow) (2.0.12)\n",
            "Requirement already satisfied: idna<4,>=2.5 in /usr/local/lib/python3.10/dist-packages (from requests<3,>=2.21.0->tensorboard<2.13,>=2.12->tensorflow) (3.4)\n",
            "Requirement already satisfied: MarkupSafe>=2.1.1 in /usr/local/lib/python3.10/dist-packages (from werkzeug>=1.0.1->tensorboard<2.13,>=2.12->tensorflow) (2.1.3)\n",
            "Requirement already satisfied: pyasn1<0.6.0,>=0.4.6 in /usr/local/lib/python3.10/dist-packages (from pyasn1-modules>=0.2.1->google-auth<3,>=1.6.3->tensorboard<2.13,>=2.12->tensorflow) (0.5.0)\n",
            "Requirement already satisfied: oauthlib>=3.0.0 in /usr/local/lib/python3.10/dist-packages (from requests-oauthlib>=0.7.0->google-auth-oauthlib<1.1,>=0.5->tensorboard<2.13,>=2.12->tensorflow) (3.2.2)\n",
            "Looking in indexes: https://pypi.org/simple, https://us-python.pkg.dev/colab-wheels/public/simple/\n",
            "Collecting Theano\n",
            "  Downloading Theano-1.0.5.tar.gz (2.8 MB)\n",
            "\u001b[2K     \u001b[90m━━━━━━━━━━━━━━━━━━━━━━━━━━━━━━━━━━━━━━━━\u001b[0m \u001b[32m2.8/2.8 MB\u001b[0m \u001b[31m28.9 MB/s\u001b[0m eta \u001b[36m0:00:00\u001b[0m\n",
            "\u001b[?25h  Preparing metadata (setup.py) ... \u001b[?25l\u001b[?25hdone\n",
            "Requirement already satisfied: numpy>=1.9.1 in /usr/local/lib/python3.10/dist-packages (from Theano) (1.22.4)\n",
            "Requirement already satisfied: scipy>=0.14 in /usr/local/lib/python3.10/dist-packages (from Theano) (1.10.1)\n",
            "Requirement already satisfied: six>=1.9.0 in /usr/local/lib/python3.10/dist-packages (from Theano) (1.16.0)\n",
            "Building wheels for collected packages: Theano\n",
            "  Building wheel for Theano (setup.py) ... \u001b[?25l\u001b[?25hdone\n",
            "  Created wheel for Theano: filename=Theano-1.0.5-py3-none-any.whl size=2668109 sha256=b2329d54cd47b03af623b16e811f3291c793fa39648c4c35c573a98fa34b0cd0\n",
            "  Stored in directory: /root/.cache/pip/wheels/d9/e6/7d/2267d21a99e4ab8276f976f293b4ff23f50c9d809f4a216ebb\n",
            "Successfully built Theano\n",
            "Installing collected packages: Theano\n",
            "Successfully installed Theano-1.0.5\n",
            "Looking in indexes: https://pypi.org/simple, https://us-python.pkg.dev/colab-wheels/public/simple/\n",
            "Requirement already satisfied: keras in /usr/local/lib/python3.10/dist-packages (2.12.0)\n"
          ]
        }
      ]
    },
    {
      "cell_type": "markdown",
      "source": [
        "## Data Processing"
      ],
      "metadata": {
        "id": "E19QJFD4qrvp"
      }
    },
    {
      "cell_type": "code",
      "source": [
        "from sklearn.preprocessing import LabelEncoder\n",
        "labelencoder_X_1 = LabelEncoder()\n",
        "X[:, 1] = labelencoder_X_1.fit_transform(X[:, 1])     #Country - 3 possible values\n",
        "labelencoder_X_2 = LabelEncoder()\n",
        "X[:, 2] = labelencoder_X_2.fit_transform(X[:, 2])     #Gender - 2 possible values"
      ],
      "metadata": {
        "id": "sWVS21Mkk_XK"
      },
      "execution_count": null,
      "outputs": []
    },
    {
      "cell_type": "code",
      "source": [
        "print(X)"
      ],
      "metadata": {
        "colab": {
          "base_uri": "https://localhost:8080/"
        },
        "id": "pCAMgBK8mtus",
        "outputId": "add1cb59-a288-46d3-dd8b-085cd71f83fd"
      },
      "execution_count": null,
      "outputs": [
        {
          "output_type": "stream",
          "name": "stdout",
          "text": [
            "[[619 0 0 ... 1 1 101348.88]\n",
            " [608 2 0 ... 0 1 112542.58]\n",
            " [502 0 0 ... 1 0 113931.57]\n",
            " ...\n",
            " [709 0 0 ... 0 1 42085.58]\n",
            " [772 1 1 ... 1 0 92888.52]\n",
            " [792 0 0 ... 1 0 38190.78]]\n"
          ]
        }
      ]
    },
    {
      "cell_type": "code",
      "source": [
        "from sklearn.preprocessing import OneHotEncoder\n",
        "from sklearn.compose import ColumnTransformer\n",
        "\n",
        "transformer = ColumnTransformer(\n",
        "    transformers=[\n",
        "        (\"Churn_Modelling\",        # Un nombre de la transformación\n",
        "         OneHotEncoder(categories='auto'), # La clase a la que transformar\n",
        "         [1]            # Las columnas a transformar.\n",
        "         )\n",
        "    ], remainder='passthrough'\n",
        ")\n",
        "\n",
        "X = transformer.fit_transform(X)\n",
        "X = X[:, 1:]      #elimino columna Francia, para evitar multicolinealidad. Si ESP=0 AND GER=0 THEN FRA"
      ],
      "metadata": {
        "id": "1rqHWm7cmu9U"
      },
      "execution_count": null,
      "outputs": []
    },
    {
      "cell_type": "code",
      "source": [
        "from sklearn.model_selection import train_test_split\n",
        "X_train, X_test, y_train, y_test = train_test_split(X, y, test_size = 0.2, random_state = 0)"
      ],
      "metadata": {
        "id": "vtT0_rMWnBW_"
      },
      "execution_count": null,
      "outputs": []
    },
    {
      "cell_type": "markdown",
      "source": [
        "### Standard Scaler"
      ],
      "metadata": {
        "id": "BrO8HCt_q_BI"
      }
    },
    {
      "cell_type": "code",
      "source": [
        "from sklearn.preprocessing import StandardScaler\n",
        "scaler = StandardScaler()\n",
        "X_train = scaler.fit_transform(X_train)\n",
        "X_test = scaler.transform(X_test)"
      ],
      "metadata": {
        "id": "S1BIH129q5DK"
      },
      "execution_count": null,
      "outputs": []
    },
    {
      "cell_type": "code",
      "source": [
        "print(\"X_train shape:\", X_train.shape)\n",
        "print(\"X_test shape:\", X_test.shape)\n",
        "print(\"y_train shape:\", y_train.shape)\n",
        "print(\"y_test shape:\", y_test.shape)"
      ],
      "metadata": {
        "colab": {
          "base_uri": "https://localhost:8080/"
        },
        "id": "BFUXlI01rDNm",
        "outputId": "21bc5b59-459c-47fa-af03-06dd2e57071b"
      },
      "execution_count": null,
      "outputs": [
        {
          "output_type": "stream",
          "name": "stdout",
          "text": [
            "X_train shape: (8000, 11)\n",
            "X_test shape: (2000, 11)\n",
            "y_train shape: (8000,)\n",
            "y_test shape: (2000,)\n"
          ]
        }
      ]
    },
    {
      "cell_type": "markdown",
      "source": [
        "## AI Model"
      ],
      "metadata": {
        "id": "en3ldyMLc-A-"
      }
    },
    {
      "cell_type": "code",
      "source": [
        "import keras\n",
        "from keras.models import Sequential\n",
        "from keras.layers import Dense\n",
        "from keras.layers import Dropout"
      ],
      "metadata": {
        "id": "B_R65L6SrGvO"
      },
      "execution_count": null,
      "outputs": []
    },
    {
      "cell_type": "markdown",
      "source": [
        "### Artificial Neural Network\n"
      ],
      "metadata": {
        "id": "r4Q9-j68d-Cl"
      }
    },
    {
      "cell_type": "code",
      "source": [
        "# Inicializar la RNA\n",
        "classifier = Sequential()\n",
        "\n",
        "# First Layer\n",
        "# Input 11 nodes - Outputs 6\n",
        "classifier.add(Dense(units = 6, kernel_initializer = \"uniform\",\n",
        "                     activation = \"relu\", input_dim = 11))\n",
        "\n",
        "#activation  = ReLU ->\n",
        "#input_dim = x.shape\n",
        "classifier.add(Dropout(rate = 0.1))   # Generalmente se aplican luego de una capa dense\n",
        "\n",
        "# Añadir la segunda capa oculta\n",
        "# units = 6 > experimentación > media entre units_entrada (11) y units_salida (1)\n",
        "classifier.add(Dense(units = 6, kernel_initializer = \"uniform\",  activation = \"relu\"))\n",
        "classifier.add(Dropout(rate = 0.1))\n",
        "\n",
        "# Añadir la capa de salida\n",
        "# Activación -> Sigmoid: requiero output [0,1] probabilidad de que se quede o no\n",
        "# units = 1 > output se queda o no\n",
        "classifier.add(Dense(units = 1, kernel_initializer = \"uniform\",  activation = \"sigmoid\"))\n",
        "\n",
        "# Compilar la RNA\n",
        "classifier.compile(optimizer = \"adam\", loss = \"binary_crossentropy\", metrics = [\"accuracy\"])\n",
        "\n",
        "# Ajustamos la RNA al Conjunto de Entrenamiento\n",
        "classifier.fit(X_train, y_train,  batch_size = 25, epochs = 70)"
      ],
      "metadata": {
        "colab": {
          "base_uri": "https://localhost:8080/"
        },
        "id": "cPDk9v3DdIFv",
        "outputId": "f47c22e6-b306-413c-b534-f571053dbafe"
      },
      "execution_count": null,
      "outputs": [
        {
          "output_type": "stream",
          "name": "stdout",
          "text": [
            "Epoch 1/70\n",
            "320/320 [==============================] - 2s 2ms/step - loss: 0.5495 - accuracy: 0.7939\n",
            "Epoch 2/70\n",
            "320/320 [==============================] - 1s 2ms/step - loss: 0.4404 - accuracy: 0.7960\n",
            "Epoch 3/70\n",
            "320/320 [==============================] - 1s 2ms/step - loss: 0.4375 - accuracy: 0.7960\n",
            "Epoch 4/70\n",
            "320/320 [==============================] - 1s 2ms/step - loss: 0.4345 - accuracy: 0.7960\n",
            "Epoch 5/70\n",
            "320/320 [==============================] - 1s 3ms/step - loss: 0.4330 - accuracy: 0.7960\n",
            "Epoch 6/70\n",
            "320/320 [==============================] - 1s 3ms/step - loss: 0.4321 - accuracy: 0.7960\n",
            "Epoch 7/70\n",
            "320/320 [==============================] - 1s 3ms/step - loss: 0.4267 - accuracy: 0.7960\n",
            "Epoch 8/70\n",
            "320/320 [==============================] - 1s 3ms/step - loss: 0.4275 - accuracy: 0.7960\n",
            "Epoch 9/70\n",
            "320/320 [==============================] - 1s 4ms/step - loss: 0.4296 - accuracy: 0.7960\n",
            "Epoch 10/70\n",
            "320/320 [==============================] - 2s 5ms/step - loss: 0.4260 - accuracy: 0.8020\n",
            "Epoch 11/70\n",
            "320/320 [==============================] - 2s 6ms/step - loss: 0.4277 - accuracy: 0.8213\n",
            "Epoch 12/70\n",
            "320/320 [==============================] - 1s 5ms/step - loss: 0.4278 - accuracy: 0.8235\n",
            "Epoch 13/70\n",
            "320/320 [==============================] - 1s 4ms/step - loss: 0.4260 - accuracy: 0.8255\n",
            "Epoch 14/70\n",
            "320/320 [==============================] - 1s 3ms/step - loss: 0.4251 - accuracy: 0.8280\n",
            "Epoch 15/70\n",
            "320/320 [==============================] - 1s 3ms/step - loss: 0.4232 - accuracy: 0.8274\n",
            "Epoch 16/70\n",
            "320/320 [==============================] - 1s 3ms/step - loss: 0.4242 - accuracy: 0.8296\n",
            "Epoch 17/70\n",
            "320/320 [==============================] - 1s 3ms/step - loss: 0.4253 - accuracy: 0.8289\n",
            "Epoch 18/70\n",
            "320/320 [==============================] - 1s 4ms/step - loss: 0.4228 - accuracy: 0.8313\n",
            "Epoch 19/70\n",
            "320/320 [==============================] - 2s 5ms/step - loss: 0.4242 - accuracy: 0.8307\n",
            "Epoch 20/70\n",
            "320/320 [==============================] - 1s 4ms/step - loss: 0.4226 - accuracy: 0.8295\n",
            "Epoch 21/70\n",
            "320/320 [==============================] - 1s 3ms/step - loss: 0.4241 - accuracy: 0.8295\n",
            "Epoch 22/70\n",
            "320/320 [==============================] - 1s 4ms/step - loss: 0.4214 - accuracy: 0.8310\n",
            "Epoch 23/70\n",
            "320/320 [==============================] - 1s 4ms/step - loss: 0.4232 - accuracy: 0.8310\n",
            "Epoch 24/70\n",
            "320/320 [==============================] - 2s 5ms/step - loss: 0.4248 - accuracy: 0.8309\n",
            "Epoch 25/70\n",
            "320/320 [==============================] - 1s 4ms/step - loss: 0.4228 - accuracy: 0.8306\n",
            "Epoch 26/70\n",
            "320/320 [==============================] - 1s 3ms/step - loss: 0.4219 - accuracy: 0.8317\n",
            "Epoch 27/70\n",
            "320/320 [==============================] - 1s 4ms/step - loss: 0.4245 - accuracy: 0.8304\n",
            "Epoch 28/70\n",
            "320/320 [==============================] - 2s 5ms/step - loss: 0.4226 - accuracy: 0.8319\n",
            "Epoch 29/70\n",
            "320/320 [==============================] - 1s 3ms/step - loss: 0.4229 - accuracy: 0.8315\n",
            "Epoch 30/70\n",
            "320/320 [==============================] - 1s 3ms/step - loss: 0.4229 - accuracy: 0.8328\n",
            "Epoch 31/70\n",
            "320/320 [==============================] - 1s 3ms/step - loss: 0.4224 - accuracy: 0.8315\n",
            "Epoch 32/70\n",
            "320/320 [==============================] - 1s 2ms/step - loss: 0.4223 - accuracy: 0.8339\n",
            "Epoch 33/70\n",
            "320/320 [==============================] - 1s 2ms/step - loss: 0.4208 - accuracy: 0.8335\n",
            "Epoch 34/70\n",
            "320/320 [==============================] - 1s 2ms/step - loss: 0.4224 - accuracy: 0.8321\n",
            "Epoch 35/70\n",
            "320/320 [==============================] - 1s 2ms/step - loss: 0.4223 - accuracy: 0.8309\n",
            "Epoch 36/70\n",
            "320/320 [==============================] - 1s 2ms/step - loss: 0.4182 - accuracy: 0.8351\n",
            "Epoch 37/70\n",
            "320/320 [==============================] - 1s 2ms/step - loss: 0.4241 - accuracy: 0.8305\n",
            "Epoch 38/70\n",
            "320/320 [==============================] - 1s 2ms/step - loss: 0.4256 - accuracy: 0.8311\n",
            "Epoch 39/70\n",
            "320/320 [==============================] - 1s 2ms/step - loss: 0.4207 - accuracy: 0.8316\n",
            "Epoch 40/70\n",
            "320/320 [==============================] - 1s 2ms/step - loss: 0.4212 - accuracy: 0.8329\n",
            "Epoch 41/70\n",
            "320/320 [==============================] - 1s 2ms/step - loss: 0.4194 - accuracy: 0.8330\n",
            "Epoch 42/70\n",
            "320/320 [==============================] - 1s 2ms/step - loss: 0.4221 - accuracy: 0.8311\n",
            "Epoch 43/70\n",
            "320/320 [==============================] - 1s 2ms/step - loss: 0.4224 - accuracy: 0.8305\n",
            "Epoch 44/70\n",
            "320/320 [==============================] - 1s 2ms/step - loss: 0.4197 - accuracy: 0.8304\n",
            "Epoch 45/70\n",
            "320/320 [==============================] - 1s 2ms/step - loss: 0.4177 - accuracy: 0.8324\n",
            "Epoch 46/70\n",
            "320/320 [==============================] - 1s 2ms/step - loss: 0.4225 - accuracy: 0.8304\n",
            "Epoch 47/70\n",
            "320/320 [==============================] - 1s 2ms/step - loss: 0.4190 - accuracy: 0.8322\n",
            "Epoch 48/70\n",
            "320/320 [==============================] - 1s 2ms/step - loss: 0.4201 - accuracy: 0.8329\n",
            "Epoch 49/70\n",
            "320/320 [==============================] - 1s 2ms/step - loss: 0.4219 - accuracy: 0.8315\n",
            "Epoch 50/70\n",
            "320/320 [==============================] - 1s 2ms/step - loss: 0.4224 - accuracy: 0.8345\n",
            "Epoch 51/70\n",
            "320/320 [==============================] - 1s 2ms/step - loss: 0.4169 - accuracy: 0.8321\n",
            "Epoch 52/70\n",
            "320/320 [==============================] - 1s 2ms/step - loss: 0.4177 - accuracy: 0.8314\n",
            "Epoch 53/70\n",
            "320/320 [==============================] - 1s 2ms/step - loss: 0.4188 - accuracy: 0.8315\n",
            "Epoch 54/70\n",
            "320/320 [==============================] - 1s 2ms/step - loss: 0.4228 - accuracy: 0.8314\n",
            "Epoch 55/70\n",
            "320/320 [==============================] - 1s 2ms/step - loss: 0.4207 - accuracy: 0.8339\n",
            "Epoch 56/70\n",
            "320/320 [==============================] - 1s 2ms/step - loss: 0.4215 - accuracy: 0.8315\n",
            "Epoch 57/70\n",
            "320/320 [==============================] - 1s 2ms/step - loss: 0.4218 - accuracy: 0.8322\n",
            "Epoch 58/70\n",
            "320/320 [==============================] - 1s 2ms/step - loss: 0.4215 - accuracy: 0.8320\n",
            "Epoch 59/70\n",
            "320/320 [==============================] - 1s 2ms/step - loss: 0.4192 - accuracy: 0.8326\n",
            "Epoch 60/70\n",
            "320/320 [==============================] - 1s 2ms/step - loss: 0.4190 - accuracy: 0.8316\n",
            "Epoch 61/70\n",
            "320/320 [==============================] - 1s 2ms/step - loss: 0.4186 - accuracy: 0.8347\n",
            "Epoch 62/70\n",
            "320/320 [==============================] - 1s 2ms/step - loss: 0.4217 - accuracy: 0.8310\n",
            "Epoch 63/70\n",
            "320/320 [==============================] - 1s 2ms/step - loss: 0.4201 - accuracy: 0.8313\n",
            "Epoch 64/70\n",
            "320/320 [==============================] - 1s 2ms/step - loss: 0.4200 - accuracy: 0.8314\n",
            "Epoch 65/70\n",
            "320/320 [==============================] - 1s 2ms/step - loss: 0.4227 - accuracy: 0.8310\n",
            "Epoch 66/70\n",
            "320/320 [==============================] - 1s 2ms/step - loss: 0.4206 - accuracy: 0.8329\n",
            "Epoch 67/70\n",
            "320/320 [==============================] - 1s 2ms/step - loss: 0.4214 - accuracy: 0.8304\n",
            "Epoch 68/70\n",
            "320/320 [==============================] - 1s 2ms/step - loss: 0.4218 - accuracy: 0.8324\n",
            "Epoch 69/70\n",
            "320/320 [==============================] - 1s 2ms/step - loss: 0.4193 - accuracy: 0.8330\n",
            "Epoch 70/70\n",
            "320/320 [==============================] - 1s 2ms/step - loss: 0.4210 - accuracy: 0.8324\n"
          ]
        },
        {
          "output_type": "execute_result",
          "data": {
            "text/plain": [
              "<keras.callbacks.History at 0x7fc084176ad0>"
            ]
          },
          "metadata": {},
          "execution_count": 14
        }
      ]
    },
    {
      "cell_type": "markdown",
      "source": [
        "La función ReLU es lineal para valores positivos y cero para valores negativos. A diferencia de la función sigmoid o tanh, que pueden sufrir saturación en ciertos rangos de entrada, la función ReLU no presenta este problema. La saturación ocurre cuando los valores de entrada son muy grandes o muy pequeños, lo que puede ralentizar o dificultar el proceso de aprendizaje de la red neuronal. La función ReLU evita este problema y permite un cálculo más eficiente.\n",
        "\n",
        "ReLU:\n",
        "\n",
        "* Problemas de clasificación binaria o multiclase.\n",
        "* Redes neuronales convolucionales (CNN) para tareas de visión por computadora.\n",
        "* Cuando se trabaja con conjuntos de datos grandes, ya que ReLU es computacionalmente eficiente.\n",
        "* Aplicación Detección de objetos en imágenes utilizando redes neuronales convolucionales (CNN), predicción de precios de acciones en mercados financieros, detección de fraudes en transacciones bancarias.\n",
        "\n",
        "\n",
        "Tanh (Tangente hiperbólica):\n",
        "\n",
        "* Problemas de clasificación binaria o multiclase.\n",
        "* Redes neuronales recurrentes (RNN) para tareas de procesamiento de lenguaje natural.\n",
        "* Problemas donde los datos están normalizados en un rango específico (como -1 a 1).\n",
        "* Aplicaciones: Reconocimiento de escritura a mano en sistemas de reconocimiento de caracteres, Análisis de sentimientos en comentarios de redes sociales, Detección de objetos en videos utilizando redes neuronales recurrentes (RNN).\n",
        "\n",
        "Step (Función Escalón):\n",
        "\n",
        "* Problemas de clasificación binaria simples.\n",
        "* Problemas donde solo se requiere una salida binaria (0 o 1).\n",
        "* Problemas con características bien definidas y límites claros.\n",
        "* Aplicaciones: Detección de spam en sistemas de filtrado de correos electrónicos, Clasificación de imágenes en aplicaciones de reconocimiento facial, Detección de anomalías en sensores en sistemas de monitoreo industrial.\n",
        "\n",
        "Sigmoid (Función Sigmoide):\n",
        "\n",
        "* Problemas de clasificación binaria.\n",
        "* Problemas donde se requiere una salida en el rango de 0 a 1 (como probabilidades).\n",
        "* Problemas donde se desea una respuesta suave y diferenciable.\n",
        "* Aplicaciones: Clasificación de imágenes médicas en aplicaciones de diagnóstico por imágenes, predicción de la intención de compra en sistemas de recomendación en línea."
      ],
      "metadata": {
        "id": "3dpDGXgOfGzN"
      }
    },
    {
      "cell_type": "code",
      "source": [
        "from tensorflow.keras.utils import plot_model\n",
        "\n",
        "plot_model(classifier, to_file='modelo.png', show_shapes=True, show_layer_names=True)"
      ],
      "metadata": {
        "colab": {
          "base_uri": "https://localhost:8080/",
          "height": 644
        },
        "id": "-ZnDOXdgfHmP",
        "outputId": "460b8175-7064-433d-afb2-7011327e2964"
      },
      "execution_count": null,
      "outputs": [
        {
          "output_type": "execute_result",
          "data": {
            "image/png": "[encoded data removed]",
            "text/plain": [
              "<IPython.core.display.Image object>"
            ]
          },
          "metadata": {},
          "execution_count": 15
        }
      ]
    },
    {
      "cell_type": "markdown",
      "source": [
        "Las capas de Dropout se utilizan para reducir el sobreajuste en redes neuronales. Al descartar aleatoriamente algunas unidades durante el entrenamiento, evitan la dependencia excesiva entre neuronas y promueven una representación más robusta. Esto mejora la generalización y evita problemas como el desvanecimiento del gradiente."
      ],
      "metadata": {
        "id": "F0-Uz9_Ukb0I"
      }
    },
    {
      "cell_type": "markdown",
      "source": [
        "El algoritmo Adam calcula y almacena dinámicamente tasas de aprendizaje individuales para cada parámetro en la red neuronal. Esto se logra mediante el cálculo de estimaciones adaptativas de primer y segundo momento de los gradientes.\n",
        "\n",
        "Las principales ventajas de Adam incluyen:\n",
        "\n",
        "* Eficiencia: Adam es conocido por ser un optimizador eficiente debido a su capacidad para adaptar la tasa de aprendizaje de forma individual para cada parámetro. Esto permite que la red neuronal se adapte rápidamente a diferentes características y requisitos de aprendizaje en diferentes partes del espacio de parámetros.\n",
        "\n",
        "* Adaptabilidad: Adam ajusta automáticamente la tasa de aprendizaje durante el entrenamiento. Si los gradientes son grandes, la tasa de aprendizaje se reduce para garantizar una convergencia estable y evitar oscilaciones. Por otro lado, si los gradientes son pequeños, la tasa de aprendizaje se incrementa para acelerar el aprendizaje."
      ],
      "metadata": {
        "id": "lX9pqcr5jDZ4"
      }
    },
    {
      "cell_type": "code",
      "source": [
        "classifier.summary()"
      ],
      "metadata": {
        "colab": {
          "base_uri": "https://localhost:8080/"
        },
        "id": "XMHHqNKtK7pT",
        "outputId": "f00bea86-af2e-437d-d17a-450ba7dca938"
      },
      "execution_count": null,
      "outputs": [
        {
          "output_type": "stream",
          "name": "stdout",
          "text": [
            "Model: \"sequential\"\n",
            "_________________________________________________________________\n",
            " Layer (type)                Output Shape              Param #   \n",
            "=================================================================\n",
            " dense (Dense)               (None, 6)                 72        \n",
            "                                                                 \n",
            " dropout (Dropout)           (None, 6)                 0         \n",
            "                                                                 \n",
            " dense_1 (Dense)             (None, 6)                 42        \n",
            "                                                                 \n",
            " dropout_1 (Dropout)         (None, 6)                 0         \n",
            "                                                                 \n",
            " dense_2 (Dense)             (None, 1)                 7         \n",
            "                                                                 \n",
            "=================================================================\n",
            "Total params: 121\n",
            "Trainable params: 121\n",
            "Non-trainable params: 0\n",
            "_________________________________________________________________\n"
          ]
        }
      ]
    },
    {
      "cell_type": "markdown",
      "source": [
        "## Prediction"
      ],
      "metadata": {
        "id": "BNJUsv_JoZK6"
      }
    },
    {
      "cell_type": "code",
      "source": [
        "y_pred  = classifier.predict(X_test)\n",
        "y_pred = (y_pred>0.5)\n"
      ],
      "metadata": {
        "colab": {
          "base_uri": "https://localhost:8080/"
        },
        "id": "hqBz96bmjFuJ",
        "outputId": "fa4ed62e-bc1c-44c6-d73b-98ae9c830df6"
      },
      "execution_count": null,
      "outputs": [
        {
          "output_type": "stream",
          "name": "stdout",
          "text": [
            "63/63 [==============================] - 0s 694us/step\n"
          ]
        }
      ]
    },
    {
      "cell_type": "code",
      "source": [
        "len(y_pred)"
      ],
      "metadata": {
        "colab": {
          "base_uri": "https://localhost:8080/"
        },
        "id": "b9KlTDH5nE-n",
        "outputId": "dafee89d-9dfd-42bb-9fb1-a25bddd55789"
      },
      "execution_count": null,
      "outputs": [
        {
          "output_type": "execute_result",
          "data": {
            "text/plain": [
              "2000"
            ]
          },
          "metadata": {},
          "execution_count": 16
        }
      ]
    },
    {
      "cell_type": "code",
      "source": [
        "df_y_pred = pd.DataFrame(y_pred)\n"
      ],
      "metadata": {
        "id": "hOAOIGLupgto"
      },
      "execution_count": null,
      "outputs": []
    },
    {
      "cell_type": "code",
      "source": [
        "X_test.shape"
      ],
      "metadata": {
        "colab": {
          "base_uri": "https://localhost:8080/"
        },
        "id": "80QBThNOp__0",
        "outputId": "abdb282f-d4de-400f-c89a-c3f7373bb053"
      },
      "execution_count": null,
      "outputs": [
        {
          "output_type": "execute_result",
          "data": {
            "text/plain": [
              "(2000, 11)"
            ]
          },
          "metadata": {},
          "execution_count": 18
        }
      ]
    },
    {
      "cell_type": "markdown",
      "source": [
        "* FALSE = NO VA A DEJAR EL BANCO\n",
        "* TRUE = VA A DEJAR EL BANCO\n"
      ],
      "metadata": {
        "id": "fWiBGGuprgpp"
      }
    },
    {
      "cell_type": "code",
      "source": [
        "y_pred"
      ],
      "metadata": {
        "colab": {
          "base_uri": "https://localhost:8080/"
        },
        "id": "nj_ZPZVqre_t",
        "outputId": "5c387b13-8a7f-4182-9cdc-6b59e9080761"
      },
      "execution_count": null,
      "outputs": [
        {
          "output_type": "execute_result",
          "data": {
            "text/plain": [
              "array([[False],\n",
              "       [False],\n",
              "       [False],\n",
              "       ...,\n",
              "       [False],\n",
              "       [False],\n",
              "       [False]])"
            ]
          },
          "metadata": {},
          "execution_count": 19
        }
      ]
    },
    {
      "cell_type": "code",
      "source": [
        "y_pred = y_pred.reshape((-1, 1))\n"
      ],
      "metadata": {
        "id": "zoltULUUpjGw"
      },
      "execution_count": null,
      "outputs": []
    },
    {
      "cell_type": "code",
      "source": [
        "data_with_pred = np.concatenate((X_test, y_pred), axis=1)\n"
      ],
      "metadata": {
        "id": "eHBy4UZPqWn_"
      },
      "execution_count": null,
      "outputs": []
    },
    {
      "cell_type": "code",
      "source": [
        "df = pd.DataFrame(data_with_pred)"
      ],
      "metadata": {
        "id": "3nW7FHydqbp2"
      },
      "execution_count": null,
      "outputs": []
    },
    {
      "cell_type": "code",
      "source": [
        "df.head()"
      ],
      "metadata": {
        "colab": {
          "base_uri": "https://localhost:8080/",
          "height": 206
        },
        "id": "PmuDQWS9qcnG",
        "outputId": "4272a9f7-544f-4a64-d176-ee83c444dda9"
      },
      "execution_count": null,
      "outputs": [
        {
          "output_type": "execute_result",
          "data": {
            "text/plain": [
              "         0         1         2         3         4         5         6   \\\n",
              "0  1.754865 -0.573694 -0.552043 -1.091687 -0.368904  1.044737  0.879303   \n",
              "1 -0.569844 -0.573694 -1.314903 -1.091687  0.109617 -1.031415  0.429722   \n",
              "2 -0.569844  1.743090  0.571630 -1.091687  0.301026  1.044737  0.308583   \n",
              "3 -0.569844 -0.573694  1.416961  0.916013 -0.656016 -0.339364  0.575336   \n",
              "4  1.754865 -0.573694  0.571630  0.916013 -0.081791  0.006661  1.389611   \n",
              "\n",
              "         7         8         9         10   11  \n",
              "0 -0.921591  0.642595  0.968738  1.610857  0.0  \n",
              "1 -0.921591  0.642595 -1.032270  0.495870  0.0  \n",
              "2 -0.921591  0.642595  0.968738 -0.424787  0.0  \n",
              "3 -0.921591 -1.556190 -1.032270 -0.187777  0.0  \n",
              "4  0.809503  0.642595  0.968738  0.616842  0.0  "
            ],
            "text/html": [
              "\n",
              "  <div id=\"df-4cdf95cc-f893-47c5-b52f-a231932da361\">\n",
              "    <div class=\"colab-df-container\">\n",
              "      <div>\n",
              "<style scoped>\n",
              "    .dataframe tbody tr th:only-of-type {\n",
              "        vertical-align: middle;\n",
              "    }\n",
              "\n",
              "    .dataframe tbody tr th {\n",
              "        vertical-align: top;\n",
              "    }\n",
              "\n",
              "    .dataframe thead th {\n",
              "        text-align: right;\n",
              "    }\n",
              "</style>\n",
              "<table border=\"1\" class=\"dataframe\">\n",
              "  <thead>\n",
              "    <tr style=\"text-align: right;\">\n",
              "      <th></th>\n",
              "      <th>0</th>\n",
              "      <th>1</th>\n",
              "      <th>2</th>\n",
              "      <th>3</th>\n",
              "      <th>4</th>\n",
              "      <th>5</th>\n",
              "      <th>6</th>\n",
              "      <th>7</th>\n",
              "      <th>8</th>\n",
              "      <th>9</th>\n",
              "      <th>10</th>\n",
              "      <th>11</th>\n",
              "    </tr>\n",
              "  </thead>\n",
              "  <tbody>\n",
              "    <tr>\n",
              "      <th>0</th>\n",
              "      <td>1.754865</td>\n",
              "      <td>-0.573694</td>\n",
              "      <td>-0.552043</td>\n",
              "      <td>-1.091687</td>\n",
              "      <td>-0.368904</td>\n",
              "      <td>1.044737</td>\n",
              "      <td>0.879303</td>\n",
              "      <td>-0.921591</td>\n",
              "      <td>0.642595</td>\n",
              "      <td>0.968738</td>\n",
              "      <td>1.610857</td>\n",
              "      <td>0.0</td>\n",
              "    </tr>\n",
              "    <tr>\n",
              "      <th>1</th>\n",
              "      <td>-0.569844</td>\n",
              "      <td>-0.573694</td>\n",
              "      <td>-1.314903</td>\n",
              "      <td>-1.091687</td>\n",
              "      <td>0.109617</td>\n",
              "      <td>-1.031415</td>\n",
              "      <td>0.429722</td>\n",
              "      <td>-0.921591</td>\n",
              "      <td>0.642595</td>\n",
              "      <td>-1.032270</td>\n",
              "      <td>0.495870</td>\n",
              "      <td>0.0</td>\n",
              "    </tr>\n",
              "    <tr>\n",
              "      <th>2</th>\n",
              "      <td>-0.569844</td>\n",
              "      <td>1.743090</td>\n",
              "      <td>0.571630</td>\n",
              "      <td>-1.091687</td>\n",
              "      <td>0.301026</td>\n",
              "      <td>1.044737</td>\n",
              "      <td>0.308583</td>\n",
              "      <td>-0.921591</td>\n",
              "      <td>0.642595</td>\n",
              "      <td>0.968738</td>\n",
              "      <td>-0.424787</td>\n",
              "      <td>0.0</td>\n",
              "    </tr>\n",
              "    <tr>\n",
              "      <th>3</th>\n",
              "      <td>-0.569844</td>\n",
              "      <td>-0.573694</td>\n",
              "      <td>1.416961</td>\n",
              "      <td>0.916013</td>\n",
              "      <td>-0.656016</td>\n",
              "      <td>-0.339364</td>\n",
              "      <td>0.575336</td>\n",
              "      <td>-0.921591</td>\n",
              "      <td>-1.556190</td>\n",
              "      <td>-1.032270</td>\n",
              "      <td>-0.187777</td>\n",
              "      <td>0.0</td>\n",
              "    </tr>\n",
              "    <tr>\n",
              "      <th>4</th>\n",
              "      <td>1.754865</td>\n",
              "      <td>-0.573694</td>\n",
              "      <td>0.571630</td>\n",
              "      <td>0.916013</td>\n",
              "      <td>-0.081791</td>\n",
              "      <td>0.006661</td>\n",
              "      <td>1.389611</td>\n",
              "      <td>0.809503</td>\n",
              "      <td>0.642595</td>\n",
              "      <td>0.968738</td>\n",
              "      <td>0.616842</td>\n",
              "      <td>0.0</td>\n",
              "    </tr>\n",
              "  </tbody>\n",
              "</table>\n",
              "</div>\n",
              "      <button class=\"colab-df-convert\" onclick=\"convertToInteractive('df-4cdf95cc-f893-47c5-b52f-a231932da361')\"\n",
              "              title=\"Convert this dataframe to an interactive table.\"\n",
              "              style=\"display:none;\">\n",
              "        \n",
              "  <svg xmlns=\"http://www.w3.org/2000/svg\" height=\"24px\"viewBox=\"0 0 24 24\"\n",
              "       width=\"24px\">\n",
              "    <path d=\"M0 0h24v24H0V0z\" fill=\"none\"/>\n",
              "    <path d=\"M18.56 5.44l.94 2.06.94-2.06 2.06-.94-2.06-.94-.94-2.06-.94 2.06-2.06.94zm-11 1L8.5 8.5l.94-2.06 2.06-.94-2.06-.94L8.5 2.5l-.94 2.06-2.06.94zm10 10l.94 2.06.94-2.06 2.06-.94-2.06-.94-.94-2.06-.94 2.06-2.06.94z\"/><path d=\"M17.41 7.96l-1.37-1.37c-.4-.4-.92-.59-1.43-.59-.52 0-1.04.2-1.43.59L10.3 9.45l-7.72 7.72c-.78.78-.78 2.05 0 2.83L4 21.41c.39.39.9.59 1.41.59.51 0 1.02-.2 1.41-.59l7.78-7.78 2.81-2.81c.8-.78.8-2.07 0-2.86zM5.41 20L4 18.59l7.72-7.72 1.47 1.35L5.41 20z\"/>\n",
              "  </svg>\n",
              "      </button>\n",
              "      \n",
              "  <style>\n",
              "    .colab-df-container {\n",
              "      display:flex;\n",
              "      flex-wrap:wrap;\n",
              "      gap: 12px;\n",
              "    }\n",
              "\n",
              "    .colab-df-convert {\n",
              "      background-color: #E8F0FE;\n",
              "      border: none;\n",
              "      border-radius: 50%;\n",
              "      cursor: pointer;\n",
              "      display: none;\n",
              "      fill: #1967D2;\n",
              "      height: 32px;\n",
              "      padding: 0 0 0 0;\n",
              "      width: 32px;\n",
              "    }\n",
              "\n",
              "    .colab-df-convert:hover {\n",
              "      background-color: #E2EBFA;\n",
              "      box-shadow: 0px 1px 2px rgba(60, 64, 67, 0.3), 0px 1px 3px 1px rgba(60, 64, 67, 0.15);\n",
              "      fill: #174EA6;\n",
              "    }\n",
              "\n",
              "    [theme=dark] .colab-df-convert {\n",
              "      background-color: #3B4455;\n",
              "      fill: #D2E3FC;\n",
              "    }\n",
              "\n",
              "    [theme=dark] .colab-df-convert:hover {\n",
              "      background-color: #434B5C;\n",
              "      box-shadow: 0px 1px 3px 1px rgba(0, 0, 0, 0.15);\n",
              "      filter: drop-shadow(0px 1px 2px rgba(0, 0, 0, 0.3));\n",
              "      fill: #FFFFFF;\n",
              "    }\n",
              "  </style>\n",
              "\n",
              "      <script>\n",
              "        const buttonEl =\n",
              "          document.querySelector('#df-4cdf95cc-f893-47c5-b52f-a231932da361 button.colab-df-convert');\n",
              "        buttonEl.style.display =\n",
              "          google.colab.kernel.accessAllowed ? 'block' : 'none';\n",
              "\n",
              "        async function convertToInteractive(key) {\n",
              "          const element = document.querySelector('#df-4cdf95cc-f893-47c5-b52f-a231932da361');\n",
              "          const dataTable =\n",
              "            await google.colab.kernel.invokeFunction('convertToInteractive',\n",
              "                                                     [key], {});\n",
              "          if (!dataTable) return;\n",
              "\n",
              "          const docLinkHtml = 'Like what you see? Visit the ' +\n",
              "            '<a target=\"_blank\" href=https://colab.research.google.com/notebooks/data_table.ipynb>data table notebook</a>'\n",
              "            + ' to learn more about interactive tables.';\n",
              "          element.innerHTML = '';\n",
              "          dataTable['output_type'] = 'display_data';\n",
              "          await google.colab.output.renderOutput(dataTable, element);\n",
              "          const docLink = document.createElement('div');\n",
              "          docLink.innerHTML = docLinkHtml;\n",
              "          element.appendChild(docLink);\n",
              "        }\n",
              "      </script>\n",
              "    </div>\n",
              "  </div>\n",
              "  "
            ]
          },
          "metadata": {},
          "execution_count": 23
        }
      ]
    },
    {
      "cell_type": "markdown",
      "source": [
        "## Model Evaluation"
      ],
      "metadata": {
        "id": "O2mDINOzoc3t"
      }
    },
    {
      "cell_type": "markdown",
      "source": [
        "### Confussion Matrix"
      ],
      "metadata": {
        "id": "u0DjUZrFou_M"
      }
    },
    {
      "cell_type": "code",
      "source": [
        "from sklearn.metrics import confusion_matrix\n",
        "cm = confusion_matrix(y_test, y_pred)\n",
        "print(cm)"
      ],
      "metadata": {
        "colab": {
          "base_uri": "https://localhost:8080/"
        },
        "id": "mkA4lkuhov6y",
        "outputId": "17d0bb4f-82e0-469b-a932-b64590276e49"
      },
      "execution_count": null,
      "outputs": [
        {
          "output_type": "stream",
          "name": "stdout",
          "text": [
            "[[1558   37]\n",
            " [ 283  122]]\n"
          ]
        }
      ]
    },
    {
      "cell_type": "code",
      "source": [
        "#accuracy\n",
        "(cm[0][0]+cm[1][1])/cm.sum()"
      ],
      "metadata": {
        "colab": {
          "base_uri": "https://localhost:8080/"
        },
        "id": "tFN7G4stowMQ",
        "outputId": "bf484c5d-d69e-4fe4-c0a7-507d7f567133"
      },
      "execution_count": null,
      "outputs": [
        {
          "output_type": "execute_result",
          "data": {
            "text/plain": [
              "0.84"
            ]
          },
          "metadata": {},
          "execution_count": 25
        }
      ]
    },
    {
      "cell_type": "code",
      "source": [
        "\n",
        "# Crear una figura y un eje\n",
        "fig, ax = plt.subplots()\n",
        "\n",
        "# Graficar la matriz de confusión como un mapa de calor\n",
        "im = ax.imshow(cm, interpolation='nearest', cmap=plt.cm.turbo)\n",
        "\n",
        "# Agregar una barra de color\n",
        "plt.colorbar(im)\n",
        "\n",
        "# Etiquetas de los ejes\n",
        "ax.set(xticks=np.arange(cm.shape[1]),\n",
        "       yticks=np.arange(cm.shape[0]),\n",
        "       xlabel='Predicción - 1 deja, 0 no deja',\n",
        "       ylabel='Etiquetas reales')\n",
        "\n",
        "# Rotar y alinear los valores de los ejes\n",
        "plt.setp(ax.get_xticklabels(), rotation=45, ha=\"right\",\n",
        "         rotation_mode=\"anchor\")\n",
        "\n",
        "# Ciclo para mostrar los valores dentro de las celdas\n",
        "for i in range(cm.shape[0]):\n",
        "    for j in range(cm.shape[1]):\n",
        "        ax.text(j, i, cm[i, j], ha=\"center\", va=\"center\", color=\"white\")\n",
        "\n",
        "ax.set_title(\"Matriz de Confusión\")\n",
        "\n",
        "plt.show()"
      ],
      "metadata": {
        "colab": {
          "base_uri": "https://localhost:8080/",
          "height": 474
        },
        "id": "7JopV4DVoysz",
        "outputId": "43c3d920-31f3-4a4b-a9d6-2cf4b9f27baf"
      },
      "execution_count": null,
      "outputs": [
        {
          "output_type": "display_data",
          "data": {
            "text/plain": [
              "<Figure size 640x480 with 2 Axes>"
            ],
            "image/png": "[encoded data removed]"
          },
          "metadata": {}
        }
      ]
    },
    {
      "cell_type": "markdown",
      "source": [
        "Para evaluar el desempeño del modelo en la detección de los casos de churn (abandono), se debería utilizar la métrica de Recall (también conocida como Sensibilidad o True Positive Rate).\n",
        "\n",
        "El Recall se define como la proporción de casos positivos reales que fueron correctamente identificados como positivos por el modelo."
      ],
      "metadata": {
        "id": "PwGHucuGsyKJ"
      }
    },
    {
      "cell_type": "code",
      "source": [
        "TP = cm[1, 1]\n",
        "FN = cm[1, 0]\n",
        "\n",
        "Recall = TP / (TP + FN)\n",
        "print(Recall)"
      ],
      "metadata": {
        "colab": {
          "base_uri": "https://localhost:8080/"
        },
        "id": "OpbXlL0qrXRs",
        "outputId": "c2fab8e3-2c33-4251-e2f9-9bf9e5f982d1"
      },
      "execution_count": null,
      "outputs": [
        {
          "output_type": "stream",
          "name": "stdout",
          "text": [
            "0.3012345679012346\n"
          ]
        }
      ]
    },
    {
      "cell_type": "markdown",
      "source": [
        "Se tiene un buen accuracy pero un mal recall en el problema de churn, significa que el modelo está obteniendo un alto porcentaje de predicciones correctas en general, pero está fallando en identificar correctamente los casos de churn (recall).\n",
        "\n",
        "Esto puede indicar que el modelo está siendo demasiado conservador al predecir los casos de churn, es decir, está clasificando a menos clientes como propensos a abandonar de lo que debería. En consecuencia, se obtiene un alto número de falsos negativos (casos positivos reales clasificados incorrectamente como negativos), lo que indica que estás dejando pasar oportunidades para identificar y retener a los clientes en riesgo de churn.\n",
        "\n",
        "Un buen accuracy por sí solo no es suficiente para evaluar adecuadamente el desempeño del modelo en un problema de churn, ya que puede ser engañoso si la clase mayoritaria (clientes no churn) domina el conjunto de datos."
      ],
      "metadata": {
        "id": "T1i_lCAEtLuQ"
      }
    },
    {
      "cell_type": "markdown",
      "source": [
        "#### Test - Sampling"
      ],
      "metadata": {
        "id": "lWo_7LY26PmR"
      }
    },
    {
      "cell_type": "code",
      "source": [
        "test = np.array([[0,0,600, 1, 40, 3, 60000, 2, 1, 1, 50000]])"
      ],
      "metadata": {
        "id": "5Dgzu5kJs7WF"
      },
      "execution_count": null,
      "outputs": []
    },
    {
      "cell_type": "code",
      "source": [
        "test_scaled = scaler.transform(test)"
      ],
      "metadata": {
        "id": "k9CKaXMB6SWe"
      },
      "execution_count": null,
      "outputs": []
    },
    {
      "cell_type": "code",
      "source": [
        "test_prediction = classifier.predict(test_scaled)"
      ],
      "metadata": {
        "colab": {
          "base_uri": "https://localhost:8080/"
        },
        "id": "MBNWuK6d6hlw",
        "outputId": "deed268b-6b97-4f66-ac65-322a77223772"
      },
      "execution_count": null,
      "outputs": [
        {
          "output_type": "stream",
          "name": "stdout",
          "text": [
            "1/1 [==============================] - 0s 72ms/step\n"
          ]
        }
      ]
    },
    {
      "cell_type": "code",
      "source": [
        "print(test_prediction)\n",
        "print(test_prediction>0.4)\n"
      ],
      "metadata": {
        "colab": {
          "base_uri": "https://localhost:8080/"
        },
        "id": "7pPjZKze6jFY",
        "outputId": "02beaddd-1af1-4f73-842a-256c7202da2a"
      },
      "execution_count": null,
      "outputs": [
        {
          "output_type": "stream",
          "name": "stdout",
          "text": [
            "[[0.0854729]]\n",
            "[[False]]\n"
          ]
        }
      ]
    },
    {
      "cell_type": "markdown",
      "source": [
        "## Hyperparameter Tuning"
      ],
      "metadata": {
        "id": "jKILGsP_ChiW"
      }
    },
    {
      "cell_type": "code",
      "source": [
        "from keras.wrappers.scikit_learn import KerasClassifier\n",
        "from sklearn.model_selection import cross_val_score"
      ],
      "metadata": {
        "id": "wyQRTAOD6vKV"
      },
      "execution_count": null,
      "outputs": []
    },
    {
      "cell_type": "code",
      "source": [
        "def build_classifier():\n",
        "  classifier = Sequential()\n",
        "  classifier.add(Dense(units = 6, kernel_initializer = \"uniform\", activation = \"relu\", input_dim = 11))\n",
        "  classifier.add(Dense(units = 6, kernel_initializer = \"uniform\", activation = \"relu\"))\n",
        "  classifier.add(Dense(units = 1, kernel_initializer = \"uniform\", activation = \"sigmoid\"))\n",
        "  classifier.compile(optimizer = \"adam\", loss = \"binary_crossentropy\", metrics = [\"accuracy\"])\n",
        "  return classifier"
      ],
      "metadata": {
        "id": "wF5mC9kQEkfO"
      },
      "execution_count": null,
      "outputs": []
    },
    {
      "cell_type": "code",
      "source": [
        "classifier = KerasClassifier(build_fn = build_classifier, batch_size = 10, nb_epoch = 60)\n",
        "accuracies = cross_val_score(estimator=classifier, X = X_train, y = y_train, cv = 10, n_jobs=-1, verbose = 1)"
      ],
      "metadata": {
        "colab": {
          "base_uri": "https://localhost:8080/"
        },
        "id": "jV3udYK1Ekcb",
        "outputId": "7ec0e5f9-9a3f-4dba-a180-76dec26198f8"
      },
      "execution_count": null,
      "outputs": [
        {
          "output_type": "stream",
          "name": "stderr",
          "text": [
            "<ipython-input-46-2f61aa8f1cad>:1: DeprecationWarning: KerasClassifier is deprecated, use Sci-Keras (https://github.com/adriangb/scikeras) instead. See https://www.adriangb.com/scikeras/stable/migration.html for help migrating.\n",
            "  classifier = KerasClassifier(build_fn = build_classifier, batch_size = 10, nb_epoch = 60)\n",
            "[Parallel(n_jobs=-1)]: Using backend LokyBackend with 2 concurrent workers.\n",
            "[Parallel(n_jobs=-1)]: Done  10 out of  10 | elapsed:   19.7s finished\n"
          ]
        }
      ]
    },
    {
      "cell_type": "markdown",
      "source": [
        "cv: Este argumento representa el número de pliegues o divisiones que se utilizarán en la validación cruzada. En este caso, se utilizan 10 pliegues, lo que significa que se realizará una validación cruzada con 10 iteraciones diferentes.\n",
        "\n",
        "n_jobs: Este argumento especifica el número de trabajos en paralelo que se ejecutarán para completar el cálculo. Un valor de -1 indica que se utilizarán todos los procesadores disponibles.\n",
        "\n",
        "verbose: Este argumento controla el nivel de detalle o verbosidad de la salida durante el proceso de validación cruzada. Un valor de 1 indica que se mostrará información detallada durante el proceso."
      ],
      "metadata": {
        "id": "FCUZ_kmXIE-t"
      }
    },
    {
      "cell_type": "code",
      "source": [
        "mean = accuracies.mean()\n",
        "variance = accuracies.std()\n",
        "print(\"mean: \", mean)\n",
        "print(\"variance: \", variance)"
      ],
      "metadata": {
        "colab": {
          "base_uri": "https://localhost:8080/"
        },
        "id": "AH-hU9SCEkZ1",
        "outputId": "09c1b68d-2947-49d3-8e7e-1b0deffbb156"
      },
      "execution_count": null,
      "outputs": [
        {
          "output_type": "stream",
          "name": "stdout",
          "text": [
            "mean:  0.7970000088214875\n",
            "variance:  0.00995615381002768\n"
          ]
        }
      ]
    },
    {
      "cell_type": "code",
      "source": [
        "accuracies"
      ],
      "metadata": {
        "colab": {
          "base_uri": "https://localhost:8080/"
        },
        "id": "rdpnrsveEkXJ",
        "outputId": "699d7e3f-6f24-4898-e52e-4ee61dadff98"
      },
      "execution_count": null,
      "outputs": [
        {
          "output_type": "execute_result",
          "data": {
            "text/plain": [
              "array([0.78625   , 0.80000001, 0.80000001, 0.78250003, 0.81625003,\n",
              "       0.81      , 0.78750002, 0.79374999, 0.79874998, 0.79500002])"
            ]
          },
          "metadata": {},
          "execution_count": 48
        }
      ]
    },
    {
      "cell_type": "markdown",
      "source": [
        "![visual_bias_variance.png](data:image/png;base64,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)"
      ],
      "metadata": {
        "id": "VvIpS5SdM_gu"
      }
    },
    {
      "cell_type": "markdown",
      "source": [
        "### Mejora del modelo"
      ],
      "metadata": {
        "id": "vgF4uqVfCa5h"
      }
    },
    {
      "cell_type": "code",
      "source": [
        "from sklearn.model_selection import GridSearchCV\n"
      ],
      "metadata": {
        "id": "T6rXEaVwMvlm"
      },
      "execution_count": null,
      "outputs": []
    },
    {
      "cell_type": "code",
      "source": [
        "def build_classifier(optimizer):\n",
        "  classifier = Sequential()\n",
        "  classifier.add(Dense(units = 6, kernel_initializer = \"uniform\",  activation = \"relu\", input_dim = 11))\n",
        "  classifier.add(Dense(units = 6, kernel_initializer = \"uniform\",  activation = \"relu\"))\n",
        "  classifier.add(Dense(units = 1, kernel_initializer = \"uniform\",  activation = \"sigmoid\"))\n",
        "  classifier.compile(optimizer = optimizer, loss = \"binary_crossentropy\", metrics = [\"accuracy\"])\n",
        "  return classifier"
      ],
      "metadata": {
        "id": "PJSsftkAO07W"
      },
      "execution_count": null,
      "outputs": []
    },
    {
      "cell_type": "code",
      "source": [
        "classifier = KerasClassifier(build_fn = build_classifier)\n"
      ],
      "metadata": {
        "colab": {
          "base_uri": "https://localhost:8080/"
        },
        "id": "JqSYUgBCO5Bk",
        "outputId": "eda4bd44-ecb0-4843-f78c-6b92c90db862"
      },
      "execution_count": null,
      "outputs": [
        {
          "output_type": "stream",
          "name": "stderr",
          "text": [
            "<ipython-input-52-0ea0e60dd759>:1: DeprecationWarning: KerasClassifier is deprecated, use Sci-Keras (https://github.com/adriangb/scikeras) instead. See https://www.adriangb.com/scikeras/stable/migration.html for help migrating.\n",
            "  classifier = KerasClassifier(build_fn = build_classifier)\n"
          ]
        }
      ]
    },
    {
      "cell_type": "code",
      "source": [
        "parameters = {\n",
        "    'batch_size' : [15, 25,32],\n",
        "    'nb_epoch' : [50, 100, 250, 400],\n",
        "    'optimizer' : ['adam', 'rmsprop']\n",
        "}"
      ],
      "metadata": {
        "id": "4dmZB8BJO6-L"
      },
      "execution_count": null,
      "outputs": []
    },
    {
      "cell_type": "code",
      "source": [
        "grid_search = GridSearchCV(estimator = classifier,\n",
        "                           param_grid = parameters,\n",
        "                           scoring = 'accuracy',\n",
        "                           cv = 10)\n",
        "grid_search = grid_search.fit(X_train, y_train)\n",
        "\n",
        "best_parameters = grid_search.best_params_\n",
        "best_accuracy = grid_search.best_score_"
      ],
      "metadata": {
        "colab": {
          "base_uri": "https://localhost:8080/"
        },
        "id": "Nht1kQBmPBrv",
        "outputId": "79e42fee-0884-4027-ca24-34f544ea1259"
      },
      "execution_count": null,
      "outputs": [
        {
          "output_type": "stream",
          "name": "stdout",
          "text": [
            "480/480 [==============================] - 2s 3ms/step - loss: 0.5127 - accuracy: 0.7958\n",
            "25/25 [==============================] - 0s 1ms/step\n",
            "480/480 [==============================] - 1s 2ms/step - loss: 0.5044 - accuracy: 0.7964\n",
            "25/25 [==============================] - 0s 1ms/step\n",
            "480/480 [==============================] - 1s 1ms/step - loss: 0.5184 - accuracy: 0.7946\n",
            "25/25 [==============================] - 0s 848us/step\n",
            "480/480 [==============================] - 1s 1ms/step - loss: 0.5140 - accuracy: 0.7971\n",
            "25/25 [==============================] - 0s 908us/step\n",
            "480/480 [==============================] - 1s 1ms/step - loss: 0.5108 - accuracy: 0.7936\n",
            "25/25 [==============================] - 0s 875us/step\n",
            "480/480 [==============================] - 1s 1ms/step - loss: 0.5128 - accuracy: 0.7929\n",
            "25/25 [==============================] - 0s 943us/step\n",
            "480/480 [==============================] - 1s 1ms/step - loss: 0.5079 - accuracy: 0.7965\n",
            "25/25 [==============================] - 0s 825us/step\n",
            "480/480 [==============================] - 1s 1ms/step - loss: 0.5262 - accuracy: 0.7951\n",
            "25/25 [==============================] - 0s 903us/step\n",
            "480/480 [==============================] - 1s 1ms/step - loss: 0.5218 - accuracy: 0.7950\n",
            "25/25 [==============================] - 0s 991us/step\n",
            "480/480 [==============================] - 1s 1ms/step - loss: 0.5024 - accuracy: 0.7961\n",
            "25/25 [==============================] - 0s 925us/step\n",
            "480/480 [==============================] - 1s 1ms/step - loss: 0.5509 - accuracy: 0.7965\n",
            "25/25 [==============================] - 0s 1ms/step\n",
            "480/480 [==============================] - 1s 1ms/step - loss: 0.5422 - accuracy: 0.7967\n",
            "25/25 [==============================] - 0s 927us/step\n",
            "480/480 [==============================] - 1s 1ms/step - loss: 0.5448 - accuracy: 0.7947\n",
            "25/25 [==============================] - 0s 1ms/step\n",
            "480/480 [==============================] - 1s 1ms/step - loss: 0.5221 - accuracy: 0.7972\n",
            "25/25 [==============================] - 0s 1ms/step\n",
            "480/480 [==============================] - 1s 1ms/step - loss: 0.5328 - accuracy: 0.7937\n",
            "25/25 [==============================] - 0s 935us/step\n",
            "480/480 [==============================] - 1s 1ms/step - loss: 0.5275 - accuracy: 0.7940\n",
            "25/25 [==============================] - 0s 861us/step\n",
            "480/480 [==============================] - 1s 1ms/step - loss: 0.5247 - accuracy: 0.7969\n",
            "25/25 [==============================] - 0s 871us/step\n",
            "480/480 [==============================] - 1s 1ms/step - loss: 0.5410 - accuracy: 0.7951\n",
            "25/25 [==============================] - 0s 943us/step\n",
            "480/480 [==============================] - 1s 1ms/step - loss: 0.5274 - accuracy: 0.7949\n",
            "25/25 [==============================] - 0s 971us/step\n",
            "480/480 [==============================] - 1s 1ms/step - loss: 0.5568 - accuracy: 0.7953\n",
            "25/25 [==============================] - 0s 1ms/step\n",
            "480/480 [==============================] - 1s 1ms/step - loss: 0.5184 - accuracy: 0.7953\n",
            "25/25 [==============================] - 0s 1ms/step\n",
            "480/480 [==============================] - 1s 1ms/step - loss: 0.5070 - accuracy: 0.7967\n",
            "25/25 [==============================] - 0s 1ms/step\n",
            "480/480 [==============================] - 1s 1ms/step - loss: 0.5185 - accuracy: 0.7947\n",
            "25/25 [==============================] - 0s 917us/step\n",
            "480/480 [==============================] - 1s 1ms/step - loss: 0.5204 - accuracy: 0.7965\n",
            "25/25 [==============================] - 0s 903us/step\n",
            "480/480 [==============================] - 1s 1ms/step - loss: 0.5230 - accuracy: 0.7929\n",
            "25/25 [==============================] - 0s 1ms/step\n",
            "480/480 [==============================] - 1s 1ms/step - loss: 0.5174 - accuracy: 0.7942\n",
            "25/25 [==============================] - 0s 892us/step\n",
            "480/480 [==============================] - 1s 1ms/step - loss: 0.5308 - accuracy: 0.7958\n",
            "25/25 [==============================] - 0s 943us/step\n",
            "480/480 [==============================] - 1s 1ms/step - loss: 0.5143 - accuracy: 0.7964\n",
            "25/25 [==============================] - 0s 843us/step\n",
            "480/480 [==============================] - 1s 1ms/step - loss: 0.5032 - accuracy: 0.7954\n",
            "25/25 [==============================] - 0s 921us/step\n",
            "480/480 [==============================] - 1s 2ms/step - loss: 0.5078 - accuracy: 0.7960\n",
            "25/25 [==============================] - 0s 1ms/step\n",
            "480/480 [==============================] - 1s 1ms/step - loss: 0.5203 - accuracy: 0.7962\n",
            "25/25 [==============================] - 0s 904us/step\n",
            "480/480 [==============================] - 1s 1ms/step - loss: 0.5353 - accuracy: 0.7953\n",
            "25/25 [==============================] - 0s 1ms/step\n",
            "480/480 [==============================] - 1s 1ms/step - loss: 0.5349 - accuracy: 0.7950\n",
            "25/25 [==============================] - 0s 1ms/step\n",
            "480/480 [==============================] - 1s 1ms/step - loss: 0.5589 - accuracy: 0.7964\n",
            "25/25 [==============================] - 0s 931us/step\n",
            "480/480 [==============================] - 1s 1ms/step - loss: 0.5328 - accuracy: 0.7932\n",
            "25/25 [==============================] - 0s 930us/step\n",
            "480/480 [==============================] - 1s 1ms/step - loss: 0.5445 - accuracy: 0.7940\n",
            "25/25 [==============================] - 0s 923us/step\n",
            "480/480 [==============================] - 1s 1ms/step - loss: 0.5239 - accuracy: 0.7968\n",
            "25/25 [==============================] - 0s 893us/step\n",
            "480/480 [==============================] - 1s 1ms/step - loss: 0.5256 - accuracy: 0.7961\n",
            "25/25 [==============================] - 0s 826us/step\n",
            "480/480 [==============================] - 1s 1ms/step - loss: 0.5208 - accuracy: 0.7957\n",
            "25/25 [==============================] - 0s 913us/step\n",
            "480/480 [==============================] - 1s 1ms/step - loss: 0.5302 - accuracy: 0.7961\n",
            "25/25 [==============================] - 0s 3ms/step\n",
            "480/480 [==============================] - 1s 1ms/step - loss: 0.5138 - accuracy: 0.7969\n",
            "25/25 [==============================] - 0s 869us/step\n",
            "480/480 [==============================] - 1s 1ms/step - loss: 0.5157 - accuracy: 0.7961\n",
            "25/25 [==============================] - 0s 1ms/step\n",
            "480/480 [==============================] - 1s 1ms/step - loss: 0.5218 - accuracy: 0.7950\n",
            "25/25 [==============================] - 0s 950us/step\n",
            "480/480 [==============================] - 1s 1ms/step - loss: 0.5159 - accuracy: 0.7962\n",
            "25/25 [==============================] - 0s 859us/step\n",
            "480/480 [==============================] - 1s 1ms/step - loss: 0.5322 - accuracy: 0.7929\n",
            "25/25 [==============================] - 0s 969us/step\n",
            "480/480 [==============================] - 2s 1ms/step - loss: 0.5095 - accuracy: 0.7944\n",
            "25/25 [==============================] - 0s 865us/step\n",
            "480/480 [==============================] - 1s 1ms/step - loss: 0.5164 - accuracy: 0.7962\n",
            "25/25 [==============================] - 0s 872us/step\n",
            "480/480 [==============================] - 1s 1ms/step - loss: 0.5179 - accuracy: 0.7965\n",
            "25/25 [==============================] - 0s 946us/step\n",
            "480/480 [==============================] - 1s 2ms/step - loss: 0.5088 - accuracy: 0.7946\n",
            "25/25 [==============================] - 0s 1ms/step\n",
            "480/480 [==============================] - 1s 1ms/step - loss: 0.5146 - accuracy: 0.7947\n",
            "25/25 [==============================] - 0s 979us/step\n",
            "480/480 [==============================] - 1s 1ms/step - loss: 0.5290 - accuracy: 0.7971\n",
            "25/25 [==============================] - 0s 909us/step\n",
            "480/480 [==============================] - 1s 1ms/step - loss: 0.5565 - accuracy: 0.7964\n",
            "25/25 [==============================] - 0s 838us/step\n",
            "480/480 [==============================] - 1s 1ms/step - loss: 0.5223 - accuracy: 0.7956\n",
            "25/25 [==============================] - 0s 958us/step\n",
            "480/480 [==============================] - 1s 1ms/step - loss: 0.5326 - accuracy: 0.7978\n",
            "25/25 [==============================] - 0s 909us/step\n",
            "480/480 [==============================] - 1s 1ms/step - loss: 0.5417 - accuracy: 0.7935\n",
            "25/25 [==============================] - 0s 954us/step\n",
            "480/480 [==============================] - 1s 1ms/step - loss: 0.5586 - accuracy: 0.7939\n",
            "25/25 [==============================] - 0s 957us/step\n",
            "480/480 [==============================] - 1s 1ms/step - loss: 0.5872 - accuracy: 0.7960\n",
            "25/25 [==============================] - 0s 889us/step\n",
            "480/480 [==============================] - 1s 1ms/step - loss: 0.5261 - accuracy: 0.7956\n",
            "25/25 [==============================] - 0s 971us/step\n",
            "480/480 [==============================] - 1s 1ms/step - loss: 0.5220 - accuracy: 0.7954\n",
            "25/25 [==============================] - 0s 1ms/step\n",
            "480/480 [==============================] - 1s 1ms/step - loss: 0.5286 - accuracy: 0.7961\n",
            "25/25 [==============================] - 0s 1ms/step\n",
            "480/480 [==============================] - 1s 1ms/step - loss: 0.5261 - accuracy: 0.7967\n",
            "25/25 [==============================] - 0s 802us/step\n",
            "480/480 [==============================] - 1s 1ms/step - loss: 0.5131 - accuracy: 0.7967\n",
            "25/25 [==============================] - 0s 1ms/step\n",
            "480/480 [==============================] - 1s 1ms/step - loss: 0.5225 - accuracy: 0.7943\n",
            "25/25 [==============================] - 0s 1ms/step\n",
            "480/480 [==============================] - 1s 1ms/step - loss: 0.5264 - accuracy: 0.7962\n",
            "25/25 [==============================] - 0s 956us/step\n",
            "480/480 [==============================] - 1s 1ms/step - loss: 0.5192 - accuracy: 0.7928\n",
            "25/25 [==============================] - 0s 966us/step\n",
            "480/480 [==============================] - 1s 1ms/step - loss: 0.5137 - accuracy: 0.7939\n",
            "25/25 [==============================] - 0s 885us/step\n",
            "480/480 [==============================] - 1s 1ms/step - loss: 0.5079 - accuracy: 0.7969\n",
            "25/25 [==============================] - 0s 1ms/step\n",
            "480/480 [==============================] - 1s 2ms/step - loss: 0.5148 - accuracy: 0.7962\n",
            "25/25 [==============================] - 0s 1ms/step\n",
            "480/480 [==============================] - 1s 1ms/step - loss: 0.4975 - accuracy: 0.7951\n",
            "25/25 [==============================] - 0s 907us/step\n",
            "480/480 [==============================] - 1s 1ms/step - loss: 0.5131 - accuracy: 0.7951\n",
            "25/25 [==============================] - 0s 960us/step\n",
            "480/480 [==============================] - 1s 1ms/step - loss: 0.5366 - accuracy: 0.7968\n",
            "25/25 [==============================] - 0s 863us/step\n",
            "480/480 [==============================] - 1s 1ms/step - loss: 0.5887 - accuracy: 0.7958\n",
            "25/25 [==============================] - 0s 964us/step\n",
            "480/480 [==============================] - 1s 1ms/step - loss: 0.5287 - accuracy: 0.7956\n",
            "25/25 [==============================] - 0s 874us/step\n",
            "480/480 [==============================] - 1s 1ms/step - loss: 0.5186 - accuracy: 0.7975\n",
            "25/25 [==============================] - 0s 1ms/step\n",
            "480/480 [==============================] - 1s 1ms/step - loss: 0.5396 - accuracy: 0.7936\n",
            "25/25 [==============================] - 0s 882us/step\n",
            "480/480 [==============================] - 1s 1ms/step - loss: 0.5495 - accuracy: 0.7926\n",
            "25/25 [==============================] - 0s 1ms/step\n",
            "480/480 [==============================] - 1s 1ms/step - loss: 0.5285 - accuracy: 0.7967\n",
            "25/25 [==============================] - 0s 924us/step\n",
            "480/480 [==============================] - 1s 2ms/step - loss: 0.5237 - accuracy: 0.7962\n",
            "25/25 [==============================] - 0s 1ms/step\n",
            "480/480 [==============================] - 1s 1ms/step - loss: 0.5324 - accuracy: 0.7954\n",
            "25/25 [==============================] - 0s 938us/step\n",
            "480/480 [==============================] - 1s 1ms/step - loss: 0.5510 - accuracy: 0.7951\n",
            "25/25 [==============================] - 0s 878us/step\n",
            "288/288 [==============================] - 1s 1ms/step - loss: 0.5622 - accuracy: 0.7965\n",
            "25/25 [==============================] - 0s 1ms/step\n",
            "288/288 [==============================] - 1s 1ms/step - loss: 0.5525 - accuracy: 0.7962\n",
            "25/25 [==============================] - 0s 1ms/step\n",
            "288/288 [==============================] - 1s 1ms/step - loss: 0.5468 - accuracy: 0.7957\n",
            "25/25 [==============================] - 0s 1ms/step\n",
            "288/288 [==============================] - 1s 1ms/step - loss: 0.5984 - accuracy: 0.7956\n",
            "25/25 [==============================] - 0s 966us/step\n",
            "288/288 [==============================] - 1s 1ms/step - loss: 0.5619 - accuracy: 0.7932\n",
            "25/25 [==============================] - 0s 927us/step\n",
            "288/288 [==============================] - 1s 1ms/step - loss: 0.5458 - accuracy: 0.7944\n",
            "25/25 [==============================] - 0s 935us/step\n",
            "288/288 [==============================] - 1s 2ms/step - loss: 0.5592 - accuracy: 0.7950\n",
            "25/25 [==============================] - 0s 1ms/step\n",
            "288/288 [==============================] - 1s 2ms/step - loss: 0.5632 - accuracy: 0.7950\n",
            "25/25 [==============================] - 0s 1ms/step\n",
            "288/288 [==============================] - 1s 1ms/step - loss: 0.5834 - accuracy: 0.7939\n",
            "25/25 [==============================] - 0s 948us/step\n",
            "288/288 [==============================] - 1s 1ms/step - loss: 0.5509 - accuracy: 0.7957\n",
            "25/25 [==============================] - 0s 978us/step\n",
            "288/288 [==============================] - 1s 1ms/step - loss: 0.6047 - accuracy: 0.7958\n",
            "25/25 [==============================] - 0s 965us/step\n",
            "288/288 [==============================] - 1s 1ms/step - loss: 0.6081 - accuracy: 0.7949\n",
            "25/25 [==============================] - 0s 1ms/step\n",
            "288/288 [==============================] - 1s 1ms/step - loss: 0.5820 - accuracy: 0.7937\n",
            "25/25 [==============================] - 0s 1ms/step\n",
            "288/288 [==============================] - 1s 1ms/step - loss: 0.6222 - accuracy: 0.7949\n",
            "25/25 [==============================] - 0s 999us/step\n",
            "288/288 [==============================] - 1s 1ms/step - loss: 0.5803 - accuracy: 0.7922\n",
            "25/25 [==============================] - 0s 1ms/step\n",
            "288/288 [==============================] - 1s 1ms/step - loss: 0.5918 - accuracy: 0.7933\n",
            "25/25 [==============================] - 0s 921us/step\n",
            "288/288 [==============================] - 1s 1ms/step - loss: 0.5731 - accuracy: 0.7958\n",
            "25/25 [==============================] - 0s 957us/step\n",
            "288/288 [==============================] - 1s 1ms/step - loss: 0.5672 - accuracy: 0.7962\n",
            "25/25 [==============================] - 0s 1ms/step\n",
            "288/288 [==============================] - 1s 2ms/step - loss: 0.5796 - accuracy: 0.7954\n",
            "25/25 [==============================] - 0s 1ms/step\n",
            "288/288 [==============================] - 1s 1ms/step - loss: 0.5847 - accuracy: 0.7957\n",
            "25/25 [==============================] - 0s 1ms/step\n",
            "288/288 [==============================] - 1s 1ms/step - loss: 0.5689 - accuracy: 0.7949\n",
            "25/25 [==============================] - 0s 983us/step\n",
            "288/288 [==============================] - 1s 1ms/step - loss: 0.5687 - accuracy: 0.7943\n",
            "25/25 [==============================] - 0s 1ms/step\n",
            "288/288 [==============================] - 1s 1ms/step - loss: 0.5729 - accuracy: 0.7950\n",
            "25/25 [==============================] - 0s 904us/step\n",
            "288/288 [==============================] - 1s 1ms/step - loss: 0.5748 - accuracy: 0.7960\n",
            "25/25 [==============================] - 0s 948us/step\n",
            "288/288 [==============================] - 1s 1ms/step - loss: 0.5615 - accuracy: 0.7919\n",
            "25/25 [==============================] - 0s 961us/step\n",
            "288/288 [==============================] - 1s 1ms/step - loss: 0.5766 - accuracy: 0.7939\n",
            "25/25 [==============================] - 0s 892us/step\n",
            "288/288 [==============================] - 1s 1ms/step - loss: 0.5562 - accuracy: 0.7956\n",
            "25/25 [==============================] - 0s 952us/step\n",
            "288/288 [==============================] - 1s 1ms/step - loss: 0.5461 - accuracy: 0.7956\n",
            "25/25 [==============================] - 0s 2ms/step\n",
            "288/288 [==============================] - 1s 2ms/step - loss: 0.5519 - accuracy: 0.7949\n",
            "25/25 [==============================] - 0s 1ms/step\n",
            "288/288 [==============================] - 1s 2ms/step - loss: 0.6081 - accuracy: 0.7939\n",
            "25/25 [==============================] - 0s 897us/step\n",
            "288/288 [==============================] - 1s 1ms/step - loss: 0.6280 - accuracy: 0.7950\n",
            "25/25 [==============================] - 0s 989us/step\n",
            "288/288 [==============================] - 1s 1ms/step - loss: 0.5745 - accuracy: 0.7967\n",
            "25/25 [==============================] - 0s 1ms/step\n",
            "288/288 [==============================] - 1s 1ms/step - loss: 0.5965 - accuracy: 0.7954\n",
            "25/25 [==============================] - 0s 883us/step\n",
            "288/288 [==============================] - 1s 1ms/step - loss: 0.5769 - accuracy: 0.7965\n",
            "25/25 [==============================] - 0s 938us/step\n",
            "288/288 [==============================] - 1s 1ms/step - loss: 0.5920 - accuracy: 0.7933\n",
            "25/25 [==============================] - 0s 990us/step\n",
            "288/288 [==============================] - 1s 1ms/step - loss: 0.5841 - accuracy: 0.7933\n",
            "25/25 [==============================] - 0s 950us/step\n",
            "288/288 [==============================] - 1s 1ms/step - loss: 0.5792 - accuracy: 0.7953\n",
            "25/25 [==============================] - 0s 923us/step\n",
            "288/288 [==============================] - 1s 1ms/step - loss: 0.5976 - accuracy: 0.7937\n",
            "25/25 [==============================] - 0s 1ms/step\n",
            "288/288 [==============================] - 1s 1ms/step - loss: 0.5776 - accuracy: 0.7947\n",
            "25/25 [==============================] - 0s 1ms/step\n",
            "288/288 [==============================] - 1s 2ms/step - loss: 0.5729 - accuracy: 0.7961\n",
            "25/25 [==============================] - 0s 1ms/step\n",
            "288/288 [==============================] - 1s 1ms/step - loss: 0.5585 - accuracy: 0.7971\n",
            "25/25 [==============================] - 0s 977us/step\n",
            "288/288 [==============================] - 1s 1ms/step - loss: 0.5540 - accuracy: 0.7967\n",
            "25/25 [==============================] - 0s 1ms/step\n",
            "288/288 [==============================] - 1s 1ms/step - loss: 0.5789 - accuracy: 0.7932\n",
            "25/25 [==============================] - 0s 915us/step\n",
            "288/288 [==============================] - 1s 1ms/step - loss: 0.5543 - accuracy: 0.7975\n",
            "25/25 [==============================] - 0s 887us/step\n",
            "288/288 [==============================] - 1s 1ms/step - loss: 0.5617 - accuracy: 0.7935\n",
            "25/25 [==============================] - 0s 968us/step\n",
            "288/288 [==============================] - 1s 1ms/step - loss: 0.5745 - accuracy: 0.7942\n",
            "25/25 [==============================] - 0s 933us/step\n",
            "288/288 [==============================] - 1s 1ms/step - loss: 0.5642 - accuracy: 0.7967\n",
            "25/25 [==============================] - 0s 1ms/step\n",
            "288/288 [==============================] - 1s 1ms/step - loss: 0.5671 - accuracy: 0.7961\n",
            "25/25 [==============================] - 0s 952us/step\n",
            "288/288 [==============================] - 1s 2ms/step - loss: 0.5416 - accuracy: 0.7954\n",
            "25/25 [==============================] - 0s 1ms/step\n",
            "288/288 [==============================] - 1s 2ms/step - loss: 0.5563 - accuracy: 0.7949\n",
            "25/25 [==============================] - 0s 970us/step\n",
            "288/288 [==============================] - 1s 1ms/step - loss: 0.5860 - accuracy: 0.7954\n",
            "25/25 [==============================] - 0s 1ms/step\n",
            "288/288 [==============================] - 1s 1ms/step - loss: 0.6015 - accuracy: 0.7956\n",
            "25/25 [==============================] - 0s 999us/step\n",
            "288/288 [==============================] - 1s 1ms/step - loss: 0.5742 - accuracy: 0.7954\n",
            "25/25 [==============================] - 0s 963us/step\n",
            "288/288 [==============================] - 1s 1ms/step - loss: 0.5779 - accuracy: 0.7967\n",
            "25/25 [==============================] - 0s 1ms/step\n",
            "288/288 [==============================] - 1s 1ms/step - loss: 0.5722 - accuracy: 0.7937\n",
            "25/25 [==============================] - 0s 995us/step\n",
            "288/288 [==============================] - 1s 1ms/step - loss: 0.5819 - accuracy: 0.7944\n",
            "25/25 [==============================] - 0s 979us/step\n",
            "288/288 [==============================] - 1s 1ms/step - loss: 0.5769 - accuracy: 0.7967\n",
            "25/25 [==============================] - 0s 1ms/step\n",
            "288/288 [==============================] - 1s 1ms/step - loss: 0.6111 - accuracy: 0.7946\n",
            "25/25 [==============================] - 0s 1ms/step\n",
            "288/288 [==============================] - 1s 1ms/step - loss: 0.5790 - accuracy: 0.7943\n",
            "25/25 [==============================] - 0s 1ms/step\n",
            "288/288 [==============================] - 1s 2ms/step - loss: 0.6114 - accuracy: 0.7950\n",
            "25/25 [==============================] - 0s 1ms/step\n",
            "288/288 [==============================] - 1s 2ms/step - loss: 0.5673 - accuracy: 0.7956\n",
            "25/25 [==============================] - 0s 1ms/step\n",
            "288/288 [==============================] - 1s 1ms/step - loss: 0.5570 - accuracy: 0.7947\n",
            "25/25 [==============================] - 0s 920us/step\n",
            "288/288 [==============================] - 1s 1ms/step - loss: 0.5548 - accuracy: 0.7949\n",
            "25/25 [==============================] - 0s 963us/step\n",
            "288/288 [==============================] - 1s 1ms/step - loss: 0.5732 - accuracy: 0.7968\n",
            "25/25 [==============================] - 0s 1ms/step\n",
            "288/288 [==============================] - 1s 1ms/step - loss: 0.5715 - accuracy: 0.7924\n",
            "25/25 [==============================] - 0s 1ms/step\n",
            "288/288 [==============================] - 1s 1ms/step - loss: 0.6197 - accuracy: 0.7931\n",
            "25/25 [==============================] - 0s 837us/step\n",
            "288/288 [==============================] - 1s 1ms/step - loss: 0.5804 - accuracy: 0.7950\n",
            "25/25 [==============================] - 0s 948us/step\n",
            "288/288 [==============================] - 1s 1ms/step - loss: 0.5744 - accuracy: 0.7956\n",
            "25/25 [==============================] - 0s 959us/step\n",
            "288/288 [==============================] - 1s 1ms/step - loss: 0.5451 - accuracy: 0.7956\n",
            "25/25 [==============================] - 0s 978us/step\n",
            "288/288 [==============================] - 1s 2ms/step - loss: 0.5679 - accuracy: 0.7954\n",
            "25/25 [==============================] - 0s 1ms/step\n",
            "288/288 [==============================] - 1s 2ms/step - loss: 0.6050 - accuracy: 0.7958\n",
            "25/25 [==============================] - 0s 1ms/step\n",
            "288/288 [==============================] - 1s 1ms/step - loss: 0.5843 - accuracy: 0.7964\n",
            "25/25 [==============================] - 0s 1ms/step\n",
            "288/288 [==============================] - 1s 1ms/step - loss: 0.6081 - accuracy: 0.7940\n",
            "25/25 [==============================] - 0s 932us/step\n",
            "288/288 [==============================] - 1s 1ms/step - loss: 0.5793 - accuracy: 0.7961\n",
            "25/25 [==============================] - 0s 914us/step\n",
            "288/288 [==============================] - 1s 1ms/step - loss: 0.5775 - accuracy: 0.7936\n",
            "25/25 [==============================] - 0s 1ms/step\n",
            "288/288 [==============================] - 1s 1ms/step - loss: 0.5916 - accuracy: 0.7936\n",
            "25/25 [==============================] - 0s 989us/step\n",
            "288/288 [==============================] - 1s 1ms/step - loss: 0.5934 - accuracy: 0.7968\n",
            "25/25 [==============================] - 0s 871us/step\n",
            "288/288 [==============================] - 1s 1ms/step - loss: 0.5886 - accuracy: 0.7954\n",
            "25/25 [==============================] - 0s 949us/step\n",
            "288/288 [==============================] - 1s 1ms/step - loss: 0.5874 - accuracy: 0.7943\n",
            "25/25 [==============================] - 0s 965us/step\n",
            "288/288 [==============================] - 1s 1ms/step - loss: 0.6040 - accuracy: 0.7956\n",
            "25/25 [==============================] - 0s 988us/step\n",
            "225/225 [==============================] - 1s 2ms/step - loss: 0.5804 - accuracy: 0.7951\n",
            "25/25 [==============================] - 0s 1ms/step\n",
            "225/225 [==============================] - 1s 2ms/step - loss: 0.6254 - accuracy: 0.7954\n",
            "25/25 [==============================] - 0s 1ms/step\n",
            "225/225 [==============================] - 1s 1ms/step - loss: 0.5773 - accuracy: 0.7954\n",
            "25/25 [==============================] - 0s 1ms/step\n",
            "225/225 [==============================] - 1s 1ms/step - loss: 0.6058 - accuracy: 0.7953\n",
            "25/25 [==============================] - 0s 879us/step\n",
            "225/225 [==============================] - 1s 1ms/step - loss: 0.6127 - accuracy: 0.7918\n",
            "25/25 [==============================] - 0s 1ms/step\n",
            "225/225 [==============================] - 1s 1ms/step - loss: 0.5730 - accuracy: 0.7942\n",
            "25/25 [==============================] - 0s 1ms/step\n",
            "225/225 [==============================] - 1s 1ms/step - loss: 0.5699 - accuracy: 0.7967\n",
            "25/25 [==============================] - 0s 1ms/step\n",
            "225/225 [==============================] - 1s 1ms/step - loss: 0.5721 - accuracy: 0.7962\n",
            "25/25 [==============================] - 0s 1ms/step\n",
            "225/225 [==============================] - 1s 1ms/step - loss: 0.5926 - accuracy: 0.7939\n",
            "25/25 [==============================] - 0s 882us/step\n",
            "225/225 [==============================] - 1s 1ms/step - loss: 0.5813 - accuracy: 0.7940\n",
            "25/25 [==============================] - 0s 959us/step\n",
            "225/225 [==============================] - 1s 1ms/step - loss: 0.6027 - accuracy: 0.7944\n",
            "25/25 [==============================] - 0s 958us/step\n",
            "225/225 [==============================] - 1s 1ms/step - loss: 0.6331 - accuracy: 0.7942\n",
            "25/25 [==============================] - 0s 895us/step\n",
            "225/225 [==============================] - 1s 2ms/step - loss: 0.5956 - accuracy: 0.7949\n",
            "25/25 [==============================] - 0s 1ms/step\n",
            "225/225 [==============================] - 1s 2ms/step - loss: 0.5901 - accuracy: 0.7978\n",
            "25/25 [==============================] - 0s 1ms/step\n",
            "225/225 [==============================] - 1s 1ms/step - loss: 0.6311 - accuracy: 0.7911\n",
            "25/25 [==============================] - 0s 1ms/step\n",
            "225/225 [==============================] - 1s 1ms/step - loss: 0.6124 - accuracy: 0.7936\n",
            "25/25 [==============================] - 0s 1ms/step\n",
            "225/225 [==============================] - 1s 1ms/step - loss: 0.6302 - accuracy: 0.7951\n",
            "25/25 [==============================] - 0s 1ms/step\n",
            "225/225 [==============================] - 1s 1ms/step - loss: 0.6188 - accuracy: 0.7939\n",
            "25/25 [==============================] - 0s 1ms/step\n",
            "225/225 [==============================] - 1s 1ms/step - loss: 0.6310 - accuracy: 0.7935\n",
            "25/25 [==============================] - 0s 927us/step\n",
            "225/225 [==============================] - 1s 1ms/step - loss: 0.6270 - accuracy: 0.7953\n",
            "25/25 [==============================] - 0s 864us/step\n",
            "225/225 [==============================] - 1s 1ms/step - loss: 0.5957 - accuracy: 0.7962\n",
            "25/25 [==============================] - 0s 1ms/step\n",
            "225/225 [==============================] - 1s 1ms/step - loss: 0.5845 - accuracy: 0.7964\n",
            "25/25 [==============================] - 0s 1ms/step\n",
            "225/225 [==============================] - 1s 1ms/step - loss: 0.5893 - accuracy: 0.7936\n",
            "25/25 [==============================] - 0s 947us/step\n",
            "225/225 [==============================] - 1s 1ms/step - loss: 0.5764 - accuracy: 0.7975\n",
            "25/25 [==============================] - 0s 1ms/step\n",
            "225/225 [==============================] - 1s 1ms/step - loss: 0.5737 - accuracy: 0.7926\n",
            "25/25 [==============================] - 0s 1ms/step\n",
            "225/225 [==============================] - 1s 2ms/step - loss: 0.5845 - accuracy: 0.7926\n",
            "25/25 [==============================] - 0s 1ms/step\n",
            "225/225 [==============================] - 1s 2ms/step - loss: 0.5913 - accuracy: 0.7969\n",
            "25/25 [==============================] - 0s 1ms/step\n",
            "225/225 [==============================] - 1s 1ms/step - loss: 0.6626 - accuracy: 0.7950\n",
            "25/25 [==============================] - 0s 901us/step\n",
            "225/225 [==============================] - 1s 1ms/step - loss: 0.6218 - accuracy: 0.7935\n",
            "25/25 [==============================] - 0s 923us/step\n",
            "225/225 [==============================] - 1s 1ms/step - loss: 0.6042 - accuracy: 0.7933\n",
            "25/25 [==============================] - 0s 976us/step\n",
            "225/225 [==============================] - 1s 1ms/step - loss: 0.6068 - accuracy: 0.7964\n",
            "25/25 [==============================] - 0s 1ms/step\n",
            "225/225 [==============================] - 1s 1ms/step - loss: 0.6121 - accuracy: 0.7957\n",
            "25/25 [==============================] - 0s 922us/step\n",
            "225/225 [==============================] - 1s 1ms/step - loss: 0.6118 - accuracy: 0.7940\n",
            "25/25 [==============================] - 0s 942us/step\n",
            "225/225 [==============================] - 1s 1ms/step - loss: 0.6182 - accuracy: 0.7968\n",
            "25/25 [==============================] - 0s 2ms/step\n",
            "225/225 [==============================] - 1s 1ms/step - loss: 0.6356 - accuracy: 0.7918\n",
            "25/25 [==============================] - 0s 960us/step\n",
            "225/225 [==============================] - 1s 1ms/step - loss: 0.6197 - accuracy: 0.7939\n",
            "25/25 [==============================] - 0s 897us/step\n",
            "225/225 [==============================] - 1s 1ms/step - loss: 0.5955 - accuracy: 0.7969\n",
            "25/25 [==============================] - 0s 1ms/step\n",
            "225/225 [==============================] - 1s 2ms/step - loss: 0.6351 - accuracy: 0.7933\n",
            "25/25 [==============================] - 0s 1ms/step\n",
            "225/225 [==============================] - 1s 2ms/step - loss: 0.6035 - accuracy: 0.7954\n",
            "25/25 [==============================] - 0s 1ms/step\n",
            "225/225 [==============================] - 1s 1ms/step - loss: 0.6421 - accuracy: 0.7951\n",
            "25/25 [==============================] - 0s 968us/step\n",
            "225/225 [==============================] - 1s 1ms/step - loss: 0.5954 - accuracy: 0.7957\n",
            "25/25 [==============================] - 0s 1ms/step\n",
            "225/225 [==============================] - 1s 1ms/step - loss: 0.5816 - accuracy: 0.7960\n",
            "25/25 [==============================] - 0s 965us/step\n",
            "225/225 [==============================] - 1s 1ms/step - loss: 0.5832 - accuracy: 0.7957\n",
            "25/25 [==============================] - 0s 983us/step\n",
            "225/225 [==============================] - 1s 1ms/step - loss: 0.5871 - accuracy: 0.7960\n",
            "25/25 [==============================] - 0s 991us/step\n",
            "225/225 [==============================] - 1s 1ms/step - loss: 0.5803 - accuracy: 0.7937\n",
            "25/25 [==============================] - 0s 1ms/step\n",
            "225/225 [==============================] - 1s 1ms/step - loss: 0.6326 - accuracy: 0.7924\n",
            "25/25 [==============================] - 0s 925us/step\n",
            "225/225 [==============================] - 1s 1ms/step - loss: 0.5701 - accuracy: 0.7969\n",
            "25/25 [==============================] - 0s 923us/step\n",
            "225/225 [==============================] - 1s 1ms/step - loss: 0.5799 - accuracy: 0.7962\n",
            "25/25 [==============================] - 0s 956us/step\n",
            "225/225 [==============================] - 1s 1ms/step - loss: 0.6066 - accuracy: 0.7924\n",
            "25/25 [==============================] - 0s 900us/step\n",
            "225/225 [==============================] - 1s 2ms/step - loss: 0.5781 - accuracy: 0.7960\n",
            "25/25 [==============================] - 0s 1ms/step\n",
            "225/225 [==============================] - 1s 1ms/step - loss: 0.6168 - accuracy: 0.7965\n",
            "25/25 [==============================] - 0s 2ms/step\n",
            "225/225 [==============================] - 1s 1ms/step - loss: 0.6225 - accuracy: 0.7942\n",
            "25/25 [==============================] - 0s 1ms/step\n",
            "225/225 [==============================] - 1s 1ms/step - loss: 0.6304 - accuracy: 0.7933\n",
            "25/25 [==============================] - 0s 1ms/step\n",
            "225/225 [==============================] - 1s 1ms/step - loss: 0.6063 - accuracy: 0.7972\n",
            "25/25 [==============================] - 0s 1ms/step\n",
            "225/225 [==============================] - 1s 1ms/step - loss: 0.6234 - accuracy: 0.7911\n",
            "25/25 [==============================] - 0s 1ms/step\n",
            "225/225 [==============================] - 1s 1ms/step - loss: 0.5965 - accuracy: 0.7943\n",
            "25/25 [==============================] - 0s 955us/step\n",
            "225/225 [==============================] - 1s 1ms/step - loss: 0.6112 - accuracy: 0.7965\n",
            "25/25 [==============================] - 0s 1ms/step\n",
            "225/225 [==============================] - 1s 1ms/step - loss: 0.6056 - accuracy: 0.7957\n",
            "25/25 [==============================] - 0s 994us/step\n",
            "225/225 [==============================] - 1s 1ms/step - loss: 0.6027 - accuracy: 0.7944\n",
            "25/25 [==============================] - 0s 1ms/step\n",
            "225/225 [==============================] - 1s 1ms/step - loss: 0.6086 - accuracy: 0.7961\n",
            "25/25 [==============================] - 0s 1ms/step\n",
            "225/225 [==============================] - 1s 1ms/step - loss: 0.6106 - accuracy: 0.7956\n",
            "25/25 [==============================] - 0s 991us/step\n",
            "225/225 [==============================] - 1s 1ms/step - loss: 0.5871 - accuracy: 0.7951\n",
            "25/25 [==============================] - 0s 1ms/step\n",
            "225/225 [==============================] - 1s 2ms/step - loss: 0.5807 - accuracy: 0.7940\n",
            "25/25 [==============================] - 0s 1ms/step\n",
            "225/225 [==============================] - 1s 2ms/step - loss: 0.5765 - accuracy: 0.7949\n",
            "25/25 [==============================] - 0s 920us/step\n",
            "225/225 [==============================] - 1s 1ms/step - loss: 0.5858 - accuracy: 0.7910\n",
            "25/25 [==============================] - 0s 909us/step\n",
            "225/225 [==============================] - 1s 1ms/step - loss: 0.5945 - accuracy: 0.7925\n",
            "25/25 [==============================] - 0s 1ms/step\n",
            "225/225 [==============================] - 1s 1ms/step - loss: 0.5973 - accuracy: 0.7943\n",
            "25/25 [==============================] - 0s 1ms/step\n",
            "225/225 [==============================] - 1s 1ms/step - loss: 0.5692 - accuracy: 0.7960\n",
            "25/25 [==============================] - 0s 909us/step\n",
            "225/225 [==============================] - 1s 1ms/step - loss: 0.5654 - accuracy: 0.7957\n",
            "25/25 [==============================] - 0s 977us/step\n",
            "225/225 [==============================] - 1s 1ms/step - loss: 0.5642 - accuracy: 0.7961\n",
            "25/25 [==============================] - 0s 892us/step\n",
            "225/225 [==============================] - 1s 1ms/step - loss: 0.6227 - accuracy: 0.7962\n",
            "25/25 [==============================] - 0s 1ms/step\n",
            "225/225 [==============================] - 1s 1ms/step - loss: 0.6092 - accuracy: 0.7954\n",
            "25/25 [==============================] - 0s 958us/step\n",
            "225/225 [==============================] - 1s 1ms/step - loss: 0.6252 - accuracy: 0.7936\n",
            "25/25 [==============================] - 0s 1ms/step\n",
            "225/225 [==============================] - 1s 1ms/step - loss: 0.6254 - accuracy: 0.7943\n",
            "25/25 [==============================] - 0s 1ms/step\n",
            "225/225 [==============================] - 1s 1ms/step - loss: 0.6218 - accuracy: 0.7922\n",
            "25/25 [==============================] - 0s 1ms/step\n",
            "225/225 [==============================] - 1s 2ms/step - loss: 0.6118 - accuracy: 0.7918\n",
            "25/25 [==============================] - 0s 1ms/step\n",
            "225/225 [==============================] - 1s 1ms/step - loss: 0.6050 - accuracy: 0.7956\n",
            "25/25 [==============================] - 0s 1ms/step\n",
            "225/225 [==============================] - 1s 1ms/step - loss: 0.6115 - accuracy: 0.7943\n",
            "25/25 [==============================] - 0s 929us/step\n",
            "225/225 [==============================] - 1s 1ms/step - loss: 0.6193 - accuracy: 0.7928\n",
            "25/25 [==============================] - 0s 1ms/step\n",
            "225/225 [==============================] - 1s 1ms/step - loss: 0.6472 - accuracy: 0.7932\n",
            "25/25 [==============================] - 0s 945us/step\n",
            "534/534 [==============================] - 1s 1ms/step - loss: 0.5263 - accuracy: 0.7949\n"
          ]
        }
      ]
    },
    {
      "cell_type": "code",
      "source": [
        "print(best_parameters)"
      ],
      "metadata": {
        "colab": {
          "base_uri": "https://localhost:8080/"
        },
        "id": "_7TWJdFTPGGo",
        "outputId": "3874ec4f-fb67-4e57-9090-e3bb04cae24f"
      },
      "execution_count": null,
      "outputs": [
        {
          "output_type": "stream",
          "name": "stdout",
          "text": [
            "{'batch_size': 15, 'nb_epoch': 50, 'optimizer': 'adam'}\n"
          ]
        }
      ]
    },
    {
      "cell_type": "code",
      "source": [
        "classifier = KerasClassifier(build_fn = build_classifier, batch_size = 15, nb_epoch = 50)\n",
        "accuracies = cross_val_score(estimator=classifier, X = X_train, y = y_train, cv = 10, n_jobs=-1, verbose = 1)"
      ],
      "metadata": {
        "colab": {
          "base_uri": "https://localhost:8080/"
        },
        "id": "ALk-vbdzQbvH",
        "outputId": "deb82733-6fb0-4169-ce66-8a054f9fc2f3"
      },
      "execution_count": null,
      "outputs": [
        {
          "output_type": "stream",
          "name": "stderr",
          "text": [
            "<ipython-input-61-49374a464788>:1: DeprecationWarning: KerasClassifier is deprecated, use Sci-Keras (https://github.com/adriangb/scikeras) instead. See https://www.adriangb.com/scikeras/stable/migration.html for help migrating.\n",
            "  classifier = KerasClassifier(build_fn = build_classifier, batch_size = 15, nb_epoch = 50)\n",
            "[Parallel(n_jobs=-1)]: Using backend LokyBackend with 2 concurrent workers.\n",
            "[Parallel(n_jobs=-1)]: Done  10 out of  10 | elapsed:   12.2s finished\n"
          ]
        }
      ]
    },
    {
      "cell_type": "code",
      "source": [
        "mean = accuracies.mean()\n",
        "variance = accuracies.std()\n",
        "print(\"mean: \", mean)\n",
        "print(\"variance: \", variance)"
      ],
      "metadata": {
        "colab": {
          "base_uri": "https://localhost:8080/"
        },
        "id": "y3HlZFnjQmOo",
        "outputId": "17ed7174-b0ad-4eab-c45b-0732a9074f90"
      },
      "execution_count": null,
      "outputs": [
        {
          "output_type": "stream",
          "name": "stdout",
          "text": [
            "mean:  0.7960000097751617\n",
            "variance:  0.010105690527913859\n"
          ]
        }
      ]
    },
    {
      "cell_type": "code",
      "source": [],
      "metadata": {
        "id": "EHAuMP9bQ7_D"
      },
      "execution_count": null,
      "outputs": []
    }
  ]
}